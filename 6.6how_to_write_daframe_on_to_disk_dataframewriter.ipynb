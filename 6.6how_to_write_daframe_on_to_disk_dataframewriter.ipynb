{
  "nbformat": 4,
  "nbformat_minor": 0,
  "metadata": {
    "colab": {
      "provenance": []
    },
    "kernelspec": {
      "name": "python3",
      "display_name": "Python 3"
    },
    "language_info": {
      "name": "python"
    }
  },
  "cells": [
    {
      "cell_type": "code",
      "execution_count": 1,
      "metadata": {
        "id": "jXu_Jb_-DR4j"
      },
      "outputs": [],
      "source": [
        "import os"
      ]
    },
    {
      "cell_type": "code",
      "source": [
        "!apt-get install openjdk-8-jdk-headless -qq > /dev/null\n",
        "!wget -q http://archive.apache.org/dist/spark/spark-3.1.1/spark-3.1.1-bin-hadoop3.2.tgz\n",
        "!tar xf spark-3.1.1-bin-hadoop3.2.tgz\n",
        "!pip install -q findspark"
      ],
      "metadata": {
        "id": "xbnOOtVPFVP2"
      },
      "execution_count": 2,
      "outputs": []
    },
    {
      "cell_type": "code",
      "source": [
        "import os\n",
        "os.environ[\"JAVA_HOME\"] = \"/usr/lib/jvm/java-8-openjdk-amd64\"\n",
        "os.environ[\"SPARK_HOME\"] = \"/content/spark-3.1.1-bin-hadoop3.2\""
      ],
      "metadata": {
        "id": "6t9PIH6EFcPT"
      },
      "execution_count": 3,
      "outputs": []
    },
    {
      "cell_type": "code",
      "source": [
        "!pip install pyspark==3.1.1"
      ],
      "metadata": {
        "colab": {
          "base_uri": "https://localhost:8080/"
        },
        "id": "CdDC00TNFqVL",
        "outputId": "b3bae1db-aee1-41cc-9e8d-f1655a1128bd"
      },
      "execution_count": 4,
      "outputs": [
        {
          "output_type": "stream",
          "name": "stdout",
          "text": [
            "Collecting pyspark==3.1.1\n",
            "  Downloading pyspark-3.1.1.tar.gz (212.3 MB)\n",
            "\u001b[2K     \u001b[90m━━━━━━━━━━━━━━━━━━━━━━━━━━━━━━━━━━━━━━━\u001b[0m \u001b[32m212.3/212.3 MB\u001b[0m \u001b[31m2.5 MB/s\u001b[0m eta \u001b[36m0:00:00\u001b[0m\n",
            "\u001b[?25h  Preparing metadata (setup.py) ... \u001b[?25l\u001b[?25hdone\n",
            "Collecting py4j==0.10.9 (from pyspark==3.1.1)\n",
            "  Downloading py4j-0.10.9-py2.py3-none-any.whl (198 kB)\n",
            "\u001b[2K     \u001b[90m━━━━━━━━━━━━━━━━━━━━━━━━━━━━━━━━━━━━━━\u001b[0m \u001b[32m198.6/198.6 kB\u001b[0m \u001b[31m17.6 MB/s\u001b[0m eta \u001b[36m0:00:00\u001b[0m\n",
            "\u001b[?25hBuilding wheels for collected packages: pyspark\n",
            "  Building wheel for pyspark (setup.py) ... \u001b[?25l\u001b[?25hdone\n",
            "  Created wheel for pyspark: filename=pyspark-3.1.1-py2.py3-none-any.whl size=212767582 sha256=b73691cfa66e10d91f6db6f8221edc7b7c25956a0d0df6bffdc56e7b625f3482\n",
            "  Stored in directory: /root/.cache/pip/wheels/a0/3f/72/8efd988f9ae041f051c75e6834cd92dd6d13a726e206e8b6f3\n",
            "Successfully built pyspark\n",
            "Installing collected packages: py4j, pyspark\n",
            "  Attempting uninstall: py4j\n",
            "    Found existing installation: py4j 0.10.9.7\n",
            "    Uninstalling py4j-0.10.9.7:\n",
            "      Successfully uninstalled py4j-0.10.9.7\n",
            "Successfully installed py4j-0.10.9 pyspark-3.1.1\n"
          ]
        }
      ]
    },
    {
      "cell_type": "code",
      "source": [
        "import pyspark"
      ],
      "metadata": {
        "id": "2h4FVxeXFwd3"
      },
      "execution_count": 5,
      "outputs": []
    },
    {
      "cell_type": "code",
      "source": [
        "import findspark"
      ],
      "metadata": {
        "id": "PnSa6-VQGFeJ"
      },
      "execution_count": 6,
      "outputs": []
    },
    {
      "cell_type": "code",
      "source": [
        "findspark .init()"
      ],
      "metadata": {
        "id": "agDak3XtGJqg"
      },
      "execution_count": 7,
      "outputs": []
    },
    {
      "cell_type": "code",
      "source": [
        "from pyspark.sql import SparkSession"
      ],
      "metadata": {
        "id": "4ywasylZGj4C"
      },
      "execution_count": 8,
      "outputs": []
    },
    {
      "cell_type": "code",
      "source": [
        "if __name__==\"__main__\":\n",
        "  spark = SparkSession.builder \\\n",
        "      .appName(\"myapplication\") \\\n",
        "      .master(\"local[*]\") \\\n",
        "      .getOrCreate()"
      ],
      "metadata": {
        "id": "rcEgLsj-GomV"
      },
      "execution_count": 9,
      "outputs": []
    },
    {
      "cell_type": "code",
      "source": [
        "spark"
      ],
      "metadata": {
        "colab": {
          "base_uri": "https://localhost:8080/",
          "height": 219
        },
        "id": "lRjjLqo-GuHy",
        "outputId": "aa4ae619-c491-4b02-95c8-c4d096b5c7e7"
      },
      "execution_count": 10,
      "outputs": [
        {
          "output_type": "execute_result",
          "data": {
            "text/plain": [
              "<pyspark.sql.session.SparkSession at 0x7e307c11d360>"
            ],
            "text/html": [
              "\n",
              "            <div>\n",
              "                <p><b>SparkSession - in-memory</b></p>\n",
              "                \n",
              "        <div>\n",
              "            <p><b>SparkContext</b></p>\n",
              "\n",
              "            <p><a href=\"http://3e7305a71ab5:4040\">Spark UI</a></p>\n",
              "\n",
              "            <dl>\n",
              "              <dt>Version</dt>\n",
              "                <dd><code>v3.1.1</code></dd>\n",
              "              <dt>Master</dt>\n",
              "                <dd><code>local[*]</code></dd>\n",
              "              <dt>AppName</dt>\n",
              "                <dd><code>myapplication</code></dd>\n",
              "            </dl>\n",
              "        </div>\n",
              "        \n",
              "            </div>\n",
              "        "
            ]
          },
          "metadata": {},
          "execution_count": 10
        }
      ]
    },
    {
      "cell_type": "code",
      "source": [
        "from pyspark.sql import SparkSession"
      ],
      "metadata": {
        "id": "YzPkrPbpJIbU"
      },
      "execution_count": 12,
      "outputs": []
    },
    {
      "cell_type": "code",
      "source": [
        "from pyspark.sql.types import StructType,StructField,StringType,IntegerType,DecimalType,DateType,TimestampType"
      ],
      "metadata": {
        "id": "MAAg4_hBG08o"
      },
      "execution_count": 13,
      "outputs": []
    },
    {
      "cell_type": "code",
      "source": [
        "tnx_schema=StructType([StructField(\"tnx_id\",IntegerType()),\n",
        "                       StructField(\"tnx_dt\",DateType()),\n",
        "                       StructField(\"cid\",IntegerType()),\n",
        "                       StructField(\"amount\",DecimalType(10,2)),\n",
        "                       StructField(\"prod_cat\",StringType()),\n",
        "                       StructField(\"prod\",StringType()),\n",
        "                       StructField(\"city\",StringType()),\n",
        "                       StructField(\"state\",StringType()),\n",
        "                       StructField(\"mode\",StringType())])"
      ],
      "metadata": {
        "id": "qh6BRBMGJAY_"
      },
      "execution_count": 14,
      "outputs": []
    },
    {
      "cell_type": "code",
      "source": [
        "tnx_df=spark.read\\\n",
        "           .option(\"header\",True)\\\n",
        "           .schema(tnx_schema)\\\n",
        "           .option(\"dateFormat\",\"MM-dd-yyyy\")\\\n",
        "           .csv(\"/content/txns_with_header.csv\")"
      ],
      "metadata": {
        "id": "ZebzMymtJQ7o"
      },
      "execution_count": 16,
      "outputs": []
    },
    {
      "cell_type": "code",
      "source": [
        "tnx_df.show(5)"
      ],
      "metadata": {
        "colab": {
          "base_uri": "https://localhost:8080/"
        },
        "id": "arVw-18MJWlW",
        "outputId": "2d5f29bb-3fc6-4ec1-8337-f76e37f5814f"
      },
      "execution_count": 17,
      "outputs": [
        {
          "output_type": "stream",
          "name": "stdout",
          "text": [
            "+------+----------+-------+------+------------------+--------------------+-----------+----------+------+\n",
            "|tnx_id|    tnx_dt|    cid|amount|          prod_cat|                prod|       city|     state|  mode|\n",
            "+------+----------+-------+------+------------------+--------------------+-----------+----------+------+\n",
            "|     0|2011-06-26|4007024| 40.33|Exercise & Fitness|Cardio Machine Ac...|Clarksville| Tennessee|credit|\n",
            "|     1|2011-05-26|4006742|198.44|Exercise & Fitness|Weightlifting Gloves| Long Beach|California|credit|\n",
            "|     2|2011-06-01|4009775|  5.58|Exercise & Fitness|Weightlifting Mac...|    Anaheim|California|credit|\n",
            "|     3|2011-06-05|4002199|198.19|        Gymnastics|    Gymnastics Rings|  Milwaukee| Wisconsin|credit|\n",
            "|     4|2011-12-17|4002613| 98.81|       Team Sports|        Field Hockey|Nashville  | Tennessee|credit|\n",
            "+------+----------+-------+------+------------------+--------------------+-----------+----------+------+\n",
            "only showing top 5 rows\n",
            "\n"
          ]
        }
      ]
    },
    {
      "cell_type": "code",
      "source": [
        "tnx_df.write\\\n",
        "      .mode(\"overwrite\")\\\n",
        "      .format(\"json\")\\\n",
        "      .save(\"/content/data_json\")"
      ],
      "metadata": {
        "id": "QCh4eSiNJsa2"
      },
      "execution_count": 20,
      "outputs": []
    },
    {
      "cell_type": "code",
      "source": [
        "tnx_df.write\\\n",
        "      .mode(\"overwrite\")\\\n",
        "      .format(\"parquet\")\\\n",
        "      .save(\"/content/data_parquet\")"
      ],
      "metadata": {
        "id": "nSkxYjWXLm1f"
      },
      "execution_count": 26,
      "outputs": []
    },
    {
      "cell_type": "code",
      "source": [
        "spark.read.load(\"/content/data_parquet\").show()"
      ],
      "metadata": {
        "colab": {
          "base_uri": "https://localhost:8080/"
        },
        "id": "OxuIgeu4VFCN",
        "outputId": "ae8cb96b-8e86-4aed-fc07-3521dc9919fd"
      },
      "execution_count": 27,
      "outputs": [
        {
          "output_type": "stream",
          "name": "stdout",
          "text": [
            "+------+----------+-------+------+--------------------+--------------------+--------------+--------------+------+\n",
            "|tnx_id|    tnx_dt|    cid|amount|            prod_cat|                prod|          city|         state|  mode|\n",
            "+------+----------+-------+------+--------------------+--------------------+--------------+--------------+------+\n",
            "|     0|2011-06-26|4007024| 40.33|  Exercise & Fitness|Cardio Machine Ac...|   Clarksville|     Tennessee|credit|\n",
            "|     1|2011-05-26|4006742|198.44|  Exercise & Fitness|Weightlifting Gloves|    Long Beach|    California|credit|\n",
            "|     2|2011-06-01|4009775|  5.58|  Exercise & Fitness|Weightlifting Mac...|       Anaheim|    California|credit|\n",
            "|     3|2011-06-05|4002199|198.19|          Gymnastics|    Gymnastics Rings|     Milwaukee|     Wisconsin|credit|\n",
            "|     4|2011-12-17|4002613| 98.81|         Team Sports|        Field Hockey|   Nashville  |     Tennessee|credit|\n",
            "|     5|2011-02-14|4007591|193.63|  Outdoor Recreation|Camping & Backpac...|       Chicago|      Illinois|credit|\n",
            "|     6|2011-10-28|4002190| 27.89|             Puzzles|      Jigsaw Puzzles|    Charleston|South Carolina|credit|\n",
            "|     7|2011-07-14|4002964| 96.01|Outdoor Play Equi...|           Sandboxes|      Columbus|          Ohio|credit|\n",
            "|     8|2011-01-17|4007361| 10.44|       Winter Sports|        Snowmobiling|    Des Moines|          Iowa|credit|\n",
            "|     9|2011-05-17|4004798|152.46|             Jumping|      Bungee Jumping|St. Petersburg|       Florida|credit|\n",
            "|    10|2011-05-29|4004646|180.28|  Outdoor Recreation|             Archery|          Reno|        Nevada|credit|\n",
            "|    11|2011-06-18|4008071|121.39|Outdoor Play Equi...|          Swing Sets|      Columbus|          Ohio|credit|\n",
            "|    12|2011-02-08|4002473| 41.52|        Indoor Games|             Bowling| San Francisco|    California|credit|\n",
            "|    13|2011-03-13|4003268|107.80|         Team Sports|        Field Hockey|    Honolulu  |        Hawaii|credit|\n",
            "|    14|2011-02-25|4004613| 36.81|          Gymnastics|     Vaulting Horses|   Los Angeles|    California|credit|\n",
            "|    15|2011-10-20|4003179|137.64|       Combat Sports|             Fencing|    Honolulu  |        Hawaii|credit|\n",
            "|    16|2011-05-28|4009135| 35.56|  Exercise & Fitness|    Free Weight Bars|      Columbia|South Carolina|credit|\n",
            "|    17|2011-10-18|4006679| 75.55|        Water Sports|Scuba Diving & Sn...|         Omaha|      Nebraska|credit|\n",
            "|    18|2011-11-18|4002444| 88.65|         Team Sports|            Baseball|Salt Lake City|          Utah|credit|\n",
            "|    19|2011-08-28|4008871| 51.81|        Water Sports|        Life Jackets|        Newark|    New Jersey|credit|\n",
            "+------+----------+-------+------+--------------------+--------------------+--------------+--------------+------+\n",
            "only showing top 20 rows\n",
            "\n"
          ]
        }
      ]
    },
    {
      "cell_type": "code",
      "source": [
        "tnx_parquet_df=spark.read.load(\"/content/data_parquet\")"
      ],
      "metadata": {
        "id": "-_8PHqOzWFyJ"
      },
      "execution_count": 28,
      "outputs": []
    },
    {
      "cell_type": "code",
      "source": [
        "tnx_parquet_df.printSchema()"
      ],
      "metadata": {
        "colab": {
          "base_uri": "https://localhost:8080/"
        },
        "id": "Ap5hgDxpWWKn",
        "outputId": "d2203daa-ff34-42bc-8aee-8502f3610209"
      },
      "execution_count": 29,
      "outputs": [
        {
          "output_type": "stream",
          "name": "stdout",
          "text": [
            "root\n",
            " |-- tnx_id: integer (nullable = true)\n",
            " |-- tnx_dt: date (nullable = true)\n",
            " |-- cid: integer (nullable = true)\n",
            " |-- amount: decimal(10,2) (nullable = true)\n",
            " |-- prod_cat: string (nullable = true)\n",
            " |-- prod: string (nullable = true)\n",
            " |-- city: string (nullable = true)\n",
            " |-- state: string (nullable = true)\n",
            " |-- mode: string (nullable = true)\n",
            "\n"
          ]
        }
      ]
    },
    {
      "cell_type": "code",
      "source": [
        "tnx_parquet_df.show(2)"
      ],
      "metadata": {
        "colab": {
          "base_uri": "https://localhost:8080/"
        },
        "id": "N5pr8kvoWcEi",
        "outputId": "515b283e-d8d6-4319-ad67-d2c4ff310ecd"
      },
      "execution_count": 30,
      "outputs": [
        {
          "output_type": "stream",
          "name": "stdout",
          "text": [
            "+------+----------+-------+------+------------------+--------------------+-----------+----------+------+\n",
            "|tnx_id|    tnx_dt|    cid|amount|          prod_cat|                prod|       city|     state|  mode|\n",
            "+------+----------+-------+------+------------------+--------------------+-----------+----------+------+\n",
            "|     0|2011-06-26|4007024| 40.33|Exercise & Fitness|Cardio Machine Ac...|Clarksville| Tennessee|credit|\n",
            "|     1|2011-05-26|4006742|198.44|Exercise & Fitness|Weightlifting Gloves| Long Beach|California|credit|\n",
            "+------+----------+-------+------+------------------+--------------------+-----------+----------+------+\n",
            "only showing top 2 rows\n",
            "\n"
          ]
        }
      ]
    },
    {
      "cell_type": "markdown",
      "source": [
        "for reading json rows are not propely read,schema is also not propery read\n",
        "\n",
        "```\n",
        "# This is formatted as code\n",
        "```\n",
        "\n"
      ],
      "metadata": {
        "id": "qxtOllz3ZiIr"
      }
    },
    {
      "cell_type": "code",
      "source": [
        "json_format_read=spark.read.format(\"json\").option(\"header\",True).option(\"inferSchema\",True).load(\"/content/data_json\")"
      ],
      "metadata": {
        "id": "UzDcneO8WjRK"
      },
      "execution_count": 31,
      "outputs": []
    },
    {
      "cell_type": "code",
      "source": [
        "json_format_read.printSchema()"
      ],
      "metadata": {
        "colab": {
          "base_uri": "https://localhost:8080/"
        },
        "id": "EhoqgNgBZ7lo",
        "outputId": "5f24d7ed-a521-4197-bdcd-bfa67b0b8a35"
      },
      "execution_count": 32,
      "outputs": [
        {
          "output_type": "stream",
          "name": "stdout",
          "text": [
            "root\n",
            " |-- amount: double (nullable = true)\n",
            " |-- cid: long (nullable = true)\n",
            " |-- city: string (nullable = true)\n",
            " |-- mode: string (nullable = true)\n",
            " |-- prod: string (nullable = true)\n",
            " |-- prod_cat: string (nullable = true)\n",
            " |-- state: string (nullable = true)\n",
            " |-- tnx_dt: string (nullable = true)\n",
            " |-- tnx_id: long (nullable = true)\n",
            "\n"
          ]
        }
      ]
    },
    {
      "cell_type": "code",
      "source": [
        "json_format_read.show()"
      ],
      "metadata": {
        "colab": {
          "base_uri": "https://localhost:8080/"
        },
        "id": "mC2yi3YWaCoH",
        "outputId": "6237c515-9cf2-428b-8b67-9c158b2ff492"
      },
      "execution_count": 34,
      "outputs": [
        {
          "output_type": "stream",
          "name": "stdout",
          "text": [
            "+------+-------+--------------+------+--------------------+--------------------+--------------+----------+------+\n",
            "|amount|    cid|          city|  mode|                prod|            prod_cat|         state|    tnx_dt|tnx_id|\n",
            "+------+-------+--------------+------+--------------------+--------------------+--------------+----------+------+\n",
            "| 40.33|4007024|   Clarksville|credit|Cardio Machine Ac...|  Exercise & Fitness|     Tennessee|2011-06-26|     0|\n",
            "|198.44|4006742|    Long Beach|credit|Weightlifting Gloves|  Exercise & Fitness|    California|2011-05-26|     1|\n",
            "|  5.58|4009775|       Anaheim|credit|Weightlifting Mac...|  Exercise & Fitness|    California|2011-06-01|     2|\n",
            "|198.19|4002199|     Milwaukee|credit|    Gymnastics Rings|          Gymnastics|     Wisconsin|2011-06-05|     3|\n",
            "| 98.81|4002613|   Nashville  |credit|        Field Hockey|         Team Sports|     Tennessee|2011-12-17|     4|\n",
            "|193.63|4007591|       Chicago|credit|Camping & Backpac...|  Outdoor Recreation|      Illinois|2011-02-14|     5|\n",
            "| 27.89|4002190|    Charleston|credit|      Jigsaw Puzzles|             Puzzles|South Carolina|2011-10-28|     6|\n",
            "| 96.01|4002964|      Columbus|credit|           Sandboxes|Outdoor Play Equi...|          Ohio|2011-07-14|     7|\n",
            "| 10.44|4007361|    Des Moines|credit|        Snowmobiling|       Winter Sports|          Iowa|2011-01-17|     8|\n",
            "|152.46|4004798|St. Petersburg|credit|      Bungee Jumping|             Jumping|       Florida|2011-05-17|     9|\n",
            "|180.28|4004646|          Reno|credit|             Archery|  Outdoor Recreation|        Nevada|2011-05-29|    10|\n",
            "|121.39|4008071|      Columbus|credit|          Swing Sets|Outdoor Play Equi...|          Ohio|2011-06-18|    11|\n",
            "| 41.52|4002473| San Francisco|credit|             Bowling|        Indoor Games|    California|2011-02-08|    12|\n",
            "| 107.8|4003268|    Honolulu  |credit|        Field Hockey|         Team Sports|        Hawaii|2011-03-13|    13|\n",
            "| 36.81|4004613|   Los Angeles|credit|     Vaulting Horses|          Gymnastics|    California|2011-02-25|    14|\n",
            "|137.64|4003179|    Honolulu  |credit|             Fencing|       Combat Sports|        Hawaii|2011-10-20|    15|\n",
            "| 35.56|4009135|      Columbia|credit|    Free Weight Bars|  Exercise & Fitness|South Carolina|2011-05-28|    16|\n",
            "| 75.55|4006679|         Omaha|credit|Scuba Diving & Sn...|        Water Sports|      Nebraska|2011-10-18|    17|\n",
            "| 88.65|4002444|Salt Lake City|credit|            Baseball|         Team Sports|          Utah|2011-11-18|    18|\n",
            "| 51.81|4008871|        Newark|credit|        Life Jackets|        Water Sports|    New Jersey|2011-08-28|    19|\n",
            "+------+-------+--------------+------+--------------------+--------------------+--------------+----------+------+\n",
            "only showing top 20 rows\n",
            "\n"
          ]
        }
      ]
    },
    {
      "cell_type": "code",
      "source": [],
      "metadata": {
        "id": "tFbj5EVXaMKH"
      },
      "execution_count": null,
      "outputs": []
    }
  ]
}