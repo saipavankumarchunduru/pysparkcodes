{
  "cells": [
    {
      "cell_type": "code",
      "execution_count": null,
      "metadata": {
        "id": "AiRofp1tg0Ve"
      },
      "outputs": [],
      "source": [
        "import os"
      ]
    },
    {
      "cell_type": "code",
      "execution_count": null,
      "metadata": {
        "id": "eJthNDG5g87F"
      },
      "outputs": [],
      "source": [
        "!apt-get install openjdk-8-jdk-headless -qq > /dev/null\n",
        "!wget -q http://archive.apache.org/dist/spark/spark-3.1.1/spark-3.1.1-bin-hadoop3.2.tgz\n",
        "!tar xf spark-3.1.1-bin-hadoop3.2.tgz\n",
        "!pip install -q findspark"
      ]
    },
    {
      "cell_type": "code",
      "execution_count": null,
      "metadata": {
        "id": "0aDWTN-EhP8U"
      },
      "outputs": [],
      "source": [
        "import os\n",
        "os.environ[\"JAVA_HOME\"] = \"/usr/lib/jvm/java-8-openjdk-amd64\"\n",
        "os.environ[\"SPARK_HOME\"] = \"/content/spark-3.1.1-bin-hadoop3.2\""
      ]
    },
    {
      "cell_type": "code",
      "source": [
        "!pip install pyspark==3.1.1"
      ],
      "metadata": {
        "colab": {
          "base_uri": "https://localhost:8080/"
        },
        "id": "YkaOPnRUpg5O",
        "outputId": "1708f42c-ee38-4c06-ccd2-91815b52a265"
      },
      "execution_count": null,
      "outputs": [
        {
          "output_type": "stream",
          "name": "stdout",
          "text": [
            "Collecting pyspark==3.1.1\n",
            "  Downloading pyspark-3.1.1.tar.gz (212.3 MB)\n",
            "\u001b[2K     \u001b[90m━━━━━━━━━━━━━━━━━━━━━━━━━━━━━━━━━━━━━━━\u001b[0m \u001b[32m212.3/212.3 MB\u001b[0m \u001b[31m5.5 MB/s\u001b[0m eta \u001b[36m0:00:00\u001b[0m\n",
            "\u001b[?25h  Preparing metadata (setup.py) ... \u001b[?25l\u001b[?25hdone\n",
            "Collecting py4j==0.10.9 (from pyspark==3.1.1)\n",
            "  Downloading py4j-0.10.9-py2.py3-none-any.whl (198 kB)\n",
            "\u001b[2K     \u001b[90m━━━━━━━━━━━━━━━━━━━━━━━━━━━━━━━━━━━━━━\u001b[0m \u001b[32m198.6/198.6 kB\u001b[0m \u001b[31m21.0 MB/s\u001b[0m eta \u001b[36m0:00:00\u001b[0m\n",
            "\u001b[?25hBuilding wheels for collected packages: pyspark\n",
            "  Building wheel for pyspark (setup.py) ... \u001b[?25l\u001b[?25hdone\n",
            "  Created wheel for pyspark: filename=pyspark-3.1.1-py2.py3-none-any.whl size=212767582 sha256=75ead16f3b2735642ffce6d074de6a9c0cf998dac8bca541f099a80796776cf0\n",
            "  Stored in directory: /root/.cache/pip/wheels/a0/3f/72/8efd988f9ae041f051c75e6834cd92dd6d13a726e206e8b6f3\n",
            "Successfully built pyspark\n",
            "Installing collected packages: py4j, pyspark\n",
            "  Attempting uninstall: py4j\n",
            "    Found existing installation: py4j 0.10.9.7\n",
            "    Uninstalling py4j-0.10.9.7:\n",
            "      Successfully uninstalled py4j-0.10.9.7\n",
            "Successfully installed py4j-0.10.9 pyspark-3.1.1\n"
          ]
        }
      ]
    },
    {
      "cell_type": "code",
      "source": [
        "import pyspark\n"
      ],
      "metadata": {
        "id": "wEqE2Yl7pk3p"
      },
      "execution_count": null,
      "outputs": []
    },
    {
      "cell_type": "code",
      "source": [
        "from pyspark.sql import SparkSession\n"
      ],
      "metadata": {
        "id": "_-OK6swfpx1Z"
      },
      "execution_count": null,
      "outputs": []
    },
    {
      "cell_type": "code",
      "source": [
        "from pyspark import SparkConf"
      ],
      "metadata": {
        "id": "wgegcjtOp1C4"
      },
      "execution_count": null,
      "outputs": []
    },
    {
      "cell_type": "code",
      "source": [
        "from pyspark.sql.functions import col"
      ],
      "metadata": {
        "id": "meswr36wt3yB"
      },
      "execution_count": null,
      "outputs": []
    },
    {
      "cell_type": "code",
      "source": [
        "if __name__==\"__main__\":\n",
        "  spark = SparkSession.builder \\\n",
        "      .appName(\"myapplication\") \\\n",
        "      .master(\"local[*]\") \\\n",
        "      .getOrCreate()\n"
      ],
      "metadata": {
        "id": "PDKlvX9Rp5T1"
      },
      "execution_count": null,
      "outputs": []
    },
    {
      "cell_type": "code",
      "source": [
        "df= spark.read.option(\"header\",True).option(\"inferSchema\",True).csv(\"/content/custs_with_header.csv\")"
      ],
      "metadata": {
        "id": "CsqDhXGpp9eN"
      },
      "execution_count": null,
      "outputs": []
    },
    {
      "cell_type": "code",
      "source": [
        "df.printSchema()"
      ],
      "metadata": {
        "colab": {
          "base_uri": "https://localhost:8080/"
        },
        "id": "y1uW6CqCqHbz",
        "outputId": "f868316b-81cf-4367-d377-591b4ff87972"
      },
      "execution_count": null,
      "outputs": [
        {
          "output_type": "stream",
          "name": "stdout",
          "text": [
            "root\n",
            " |-- cid: integer (nullable = true)\n",
            " |-- fname: string (nullable = true)\n",
            " |-- lname: string (nullable = true)\n",
            " |-- age: integer (nullable = true)\n",
            " |-- desig: string (nullable = true)\n",
            "\n"
          ]
        }
      ]
    },
    {
      "cell_type": "code",
      "source": [
        "df.show()"
      ],
      "metadata": {
        "colab": {
          "base_uri": "https://localhost:8080/"
        },
        "id": "yYEgnlNOqLxP",
        "outputId": "7cad451a-ff99-4b99-bbfb-3de7f2941009"
      },
      "execution_count": null,
      "outputs": [
        {
          "output_type": "stream",
          "name": "stdout",
          "text": [
            "+-------+--------+----------+---+--------------------+\n",
            "|    cid|   fname|     lname|age|               desig|\n",
            "+-------+--------+----------+---+--------------------+\n",
            "|4000001|Kristina|     Chung| 55|               Pilot|\n",
            "|4000002|   Paige|      Chen| 74|             Teacher|\n",
            "|4000003|  Sherri|    Melton| 34|         Firefighter|\n",
            "|4000004|Gretchen|      Hill| 66|Computer hardware...|\n",
            "|4000005|   Karen|   Puckett| 74|              Lawyer|\n",
            "|4000006| Patrick|      Song| 42|        Veterinarian|\n",
            "|4000007|   Elsie|  Hamilton| 43|               Pilot|\n",
            "|4000008|   Hazel|    Bender| 63|           Carpenter|\n",
            "|4000009| Malcolm|    Wagner| 39|              Artist|\n",
            "|4000010| Dolores|McLaughlin| 60|              Writer|\n",
            "|4000011| Francis|  McNamara| 47|           Therapist|\n",
            "|4000012|   Sandy|    Raynor| 26|              Writer|\n",
            "|4000013|  Marion|      Moon| 41|           Carpenter|\n",
            "|4000014|    Beth|   Woodard| 65|                null|\n",
            "|4000015|   Julia|     Desai| 49|            Musician|\n",
            "|4000016|  Jerome|   Wallace| 52|          Pharmacist|\n",
            "|4000017|    Neal|  Lawrence| 72|Computer support ...|\n",
            "|4000018|    Jean|   Griffin| 45|    Childcare worker|\n",
            "|4000019|Kristine| Dougherty| 63|   Financial analyst|\n",
            "|4000020| Crystal|    Powers| 67|Engineering techn...|\n",
            "+-------+--------+----------+---+--------------------+\n",
            "only showing top 20 rows\n",
            "\n"
          ]
        }
      ]
    },
    {
      "cell_type": "code",
      "source": [
        "df.select(col(\"lname\"),col(\"fname\")).show()"
      ],
      "metadata": {
        "colab": {
          "base_uri": "https://localhost:8080/"
        },
        "id": "iG32TGmDqVjD",
        "outputId": "8ce1a039-452a-4be8-a3d3-53cde7bcddd9"
      },
      "execution_count": null,
      "outputs": [
        {
          "output_type": "stream",
          "name": "stdout",
          "text": [
            "+----------+--------+\n",
            "|     lname|   fname|\n",
            "+----------+--------+\n",
            "|     Chung|Kristina|\n",
            "|      Chen|   Paige|\n",
            "|    Melton|  Sherri|\n",
            "|      Hill|Gretchen|\n",
            "|   Puckett|   Karen|\n",
            "|      Song| Patrick|\n",
            "|  Hamilton|   Elsie|\n",
            "|    Bender|   Hazel|\n",
            "|    Wagner| Malcolm|\n",
            "|McLaughlin| Dolores|\n",
            "|  McNamara| Francis|\n",
            "|    Raynor|   Sandy|\n",
            "|      Moon|  Marion|\n",
            "|   Woodard|    Beth|\n",
            "|     Desai|   Julia|\n",
            "|   Wallace|  Jerome|\n",
            "|  Lawrence|    Neal|\n",
            "|   Griffin|    Jean|\n",
            "| Dougherty|Kristine|\n",
            "|    Powers| Crystal|\n",
            "+----------+--------+\n",
            "only showing top 20 rows\n",
            "\n"
          ]
        }
      ]
    },
    {
      "cell_type": "code",
      "source": [
        "df.select(\"lname\",\"fname\").show()"
      ],
      "metadata": {
        "colab": {
          "base_uri": "https://localhost:8080/"
        },
        "id": "uwxwiNHKuALz",
        "outputId": "0c89550f-af5f-4b6d-e4e3-5518d54338c7"
      },
      "execution_count": null,
      "outputs": [
        {
          "output_type": "stream",
          "name": "stdout",
          "text": [
            "+----------+--------+\n",
            "|     lname|   fname|\n",
            "+----------+--------+\n",
            "|     Chung|Kristina|\n",
            "|      Chen|   Paige|\n",
            "|    Melton|  Sherri|\n",
            "|      Hill|Gretchen|\n",
            "|   Puckett|   Karen|\n",
            "|      Song| Patrick|\n",
            "|  Hamilton|   Elsie|\n",
            "|    Bender|   Hazel|\n",
            "|    Wagner| Malcolm|\n",
            "|McLaughlin| Dolores|\n",
            "|  McNamara| Francis|\n",
            "|    Raynor|   Sandy|\n",
            "|      Moon|  Marion|\n",
            "|   Woodard|    Beth|\n",
            "|     Desai|   Julia|\n",
            "|   Wallace|  Jerome|\n",
            "|  Lawrence|    Neal|\n",
            "|   Griffin|    Jean|\n",
            "| Dougherty|Kristine|\n",
            "|    Powers| Crystal|\n",
            "+----------+--------+\n",
            "only showing top 20 rows\n",
            "\n"
          ]
        }
      ]
    },
    {
      "cell_type": "code",
      "source": [
        "df.where(col(\"fname\").startswith('S')).show()"
      ],
      "metadata": {
        "colab": {
          "base_uri": "https://localhost:8080/"
        },
        "id": "nhNXyWwnuMWW",
        "outputId": "e66ad861-cd83-4502-a030-5af87778837c"
      },
      "execution_count": null,
      "outputs": [
        {
          "output_type": "stream",
          "name": "stdout",
          "text": [
            "+-------+---------+-------+---+--------------------+\n",
            "|    cid|    fname|  lname|age|               desig|\n",
            "+-------+---------+-------+---+--------------------+\n",
            "|4000003|   Sherri| Melton| 34|         Firefighter|\n",
            "|4000012|    Sandy| Raynor| 26|              Writer|\n",
            "|4000030|Stephanie|Hawkins| 50|Human resources a...|\n",
            "|4000035|  Shelley|  Weeks| 25|            Reporter|\n",
            "|4000052|  Shirley|Merritt| 21|            Reporter|\n",
            "|4000058|    Scott|  Hoyle| 40|              Doctor|\n",
            "|4000077| Samantha| Hardin| 27|              Doctor|\n",
            "|4000078|     Sara|  Lucas| 44|        Loan officer|\n",
            "|4000079|    Stacy|  Eason| 31|            Musician|\n",
            "|4000087|    Steve| Graves| 73|               Nurse|\n",
            "|4000089|   Sherri| Sutton| 75|       Social worker|\n",
            "|4000092|    Stacy|  Olsen| 25|        Veterinarian|\n",
            "|4000101|    Scott| Golden| 27|             Teacher|\n",
            "|4000108|    Shawn| Boykin| 34|        Photographer|\n",
            "|4000120|     Sara|Perkins| 67|               Actor|\n",
            "|4000133| Samantha|  Floyd| 72|    Childcare worker|\n",
            "|4000140|   Sidney|   Lane| 54|        Statistician|\n",
            "|4000142|   Sandra| Heller| 51|        Photographer|\n",
            "|4000171|  Stephen|  Finch| 30|               Coach|\n",
            "|4000184|    Sarah|    Fox| 73|        Psychologist|\n",
            "+-------+---------+-------+---+--------------------+\n",
            "only showing top 20 rows\n",
            "\n"
          ]
        }
      ]
    },
    {
      "cell_type": "code",
      "source": [
        "df.where(col(\"desig\").isin('Teacher','Pilot','Lawyer')).show()"
      ],
      "metadata": {
        "colab": {
          "base_uri": "https://localhost:8080/"
        },
        "id": "gBilryqtUtzr",
        "outputId": "ddf8da3d-3dfc-4d88-fee2-85b42f13eb83"
      },
      "execution_count": null,
      "outputs": [
        {
          "output_type": "stream",
          "name": "stdout",
          "text": [
            "+-------+---------+---------+---+-------+\n",
            "|    cid|    fname|    lname|age|  desig|\n",
            "+-------+---------+---------+---+-------+\n",
            "|4000001| Kristina|    Chung| 55|  Pilot|\n",
            "|4000002|    Paige|     Chen| 74|Teacher|\n",
            "|4000005|    Karen|  Puckett| 74| Lawyer|\n",
            "|4000007|    Elsie| Hamilton| 43|  Pilot|\n",
            "|4000026|   Marian|  Solomon| 27| Lawyer|\n",
            "|4000033|      Tim|    Watts| 58| Lawyer|\n",
            "|4000063|  Melinda|  Proctor| 27|Teacher|\n",
            "|4000101|    Scott|   Golden| 27|Teacher|\n",
            "|4000109|  Vincent|   Sumner| 31| Lawyer|\n",
            "|4000130|     Toni|    Glass| 46| Lawyer|\n",
            "|4000167|     Lynn|Robertson| 45| Lawyer|\n",
            "|4000195|   Claire|  Pickett| 59| Lawyer|\n",
            "|4000229|     Faye|   Norman| 64|  Pilot|\n",
            "|4000230|    Kathy|    Burch| 28|  Pilot|\n",
            "|4000251|   Jeremy|    House| 61|  Pilot|\n",
            "|4000271|    Alice|    Nance| 59|  Pilot|\n",
            "|4000322|Geraldine|   Jensen| 50|  Pilot|\n",
            "|4000336|   Steven|  Ballard| 62|  Pilot|\n",
            "|4000346|    Diana|    Crane| 26| Lawyer|\n",
            "|4000352|   Ernest|  Stanton| 51| Lawyer|\n",
            "+-------+---------+---------+---+-------+\n",
            "only showing top 20 rows\n",
            "\n"
          ]
        }
      ]
    },
    {
      "cell_type": "code",
      "source": [
        "df.where((col(\"age\")>50) & (col(\"desig\")=='Pilot')).show()"
      ],
      "metadata": {
        "colab": {
          "base_uri": "https://localhost:8080/"
        },
        "id": "ZUqbE6B1VYjW",
        "outputId": "8fa19c84-07ef-441e-f7ef-5b8cccc77138"
      },
      "execution_count": null,
      "outputs": [
        {
          "output_type": "stream",
          "name": "stdout",
          "text": [
            "+-------+----------+--------+---+-----+\n",
            "|    cid|     fname|   lname|age|desig|\n",
            "+-------+----------+--------+---+-----+\n",
            "|4000001|  Kristina|   Chung| 55|Pilot|\n",
            "|4000229|      Faye|  Norman| 64|Pilot|\n",
            "|4000251|    Jeremy|   House| 61|Pilot|\n",
            "|4000271|     Alice|   Nance| 59|Pilot|\n",
            "|4000336|    Steven| Ballard| 62|Pilot|\n",
            "|4000392|      Emma|   Olson| 74|Pilot|\n",
            "|4000403|       Leo|Lassiter| 65|Pilot|\n",
            "|4000423|      Alan|  O'Neal| 59|Pilot|\n",
            "|4000562|    Jordan|   Wrenn| 61|Pilot|\n",
            "|4000601|     Allan|  Nguyen| 51|Pilot|\n",
            "|4000893|      Gene|    Love| 59|Pilot|\n",
            "|4000912|     Maria|  Reilly| 64|Pilot|\n",
            "|4000958|     Danny|  Bowers| 72|Pilot|\n",
            "|4001039|   Dorothy|   Stone| 52|Pilot|\n",
            "|4001092|Jacqueline|Friedman| 55|Pilot|\n",
            "|4001250|  Nicholas| Leonard| 55|Pilot|\n",
            "|4001424|     Jesse|   Eaton| 58|Pilot|\n",
            "|4001428|   Deborah|   Britt| 64|Pilot|\n",
            "|4001489|   Gregory|Saunders| 63|Pilot|\n",
            "|4001494|     Jesse|  Peters| 56|Pilot|\n",
            "+-------+----------+--------+---+-----+\n",
            "only showing top 20 rows\n",
            "\n"
          ]
        }
      ]
    },
    {
      "cell_type": "code",
      "source": [
        "df.where(col(\"age\").between(40,50)).show()"
      ],
      "metadata": {
        "colab": {
          "base_uri": "https://localhost:8080/"
        },
        "id": "bze7w8XjWEvj",
        "outputId": "d31c13f2-1885-4e7e-ac38-3d9aba2824ef"
      },
      "execution_count": null,
      "outputs": [
        {
          "output_type": "stream",
          "name": "stdout",
          "text": [
            "+-------+---------+---------+---+--------------------+\n",
            "|    cid|    fname|    lname|age|               desig|\n",
            "+-------+---------+---------+---+--------------------+\n",
            "|4000006|  Patrick|     Song| 42|        Veterinarian|\n",
            "|4000007|    Elsie| Hamilton| 43|               Pilot|\n",
            "|4000011|  Francis| McNamara| 47|           Therapist|\n",
            "|4000013|   Marion|     Moon| 41|           Carpenter|\n",
            "|4000015|    Julia|    Desai| 49|            Musician|\n",
            "|4000018|     Jean|  Griffin| 45|    Childcare worker|\n",
            "|4000023|   Wesley|   Teague| 42|           Carpenter|\n",
            "|4000025|   Claire|Gallagher| 42|            Musician|\n",
            "|4000028|   Dwight|   Monroe| 45|           Economist|\n",
            "|4000029|    Wayne| Connolly| 40|   Real estate agent|\n",
            "|4000030|Stephanie|  Hawkins| 50|Human resources a...|\n",
            "|4000042|Katherine|   Bender| 44|           Physicist|\n",
            "|4000045|     Lois|   Joseph| 44|            Musician|\n",
            "|4000047|Christina|   Bowden| 47|Computer software...|\n",
            "|4000058|    Scott|    Hoyle| 40|              Doctor|\n",
            "|4000059|      Pat|    Allen| 45|           Secretary|\n",
            "|4000060| Michelle|     Rich| 44|              Artist|\n",
            "|4000069|  Melanie|   Hewitt| 47|   Real estate agent|\n",
            "|4000072| Caroline|  O'Brien| 44|Computer support ...|\n",
            "|4000078|     Sara|    Lucas| 44|        Loan officer|\n",
            "+-------+---------+---------+---+--------------------+\n",
            "only showing top 20 rows\n",
            "\n"
          ]
        }
      ]
    },
    {
      "cell_type": "code",
      "source": [
        "df.where(col(\"desig\").isNull()).count()"
      ],
      "metadata": {
        "colab": {
          "base_uri": "https://localhost:8080/"
        },
        "id": "vCZK197nY44W",
        "outputId": "71fd5577-1f63-4d08-9c5b-aea49b4f7ecd"
      },
      "execution_count": null,
      "outputs": [
        {
          "output_type": "execute_result",
          "data": {
            "text/plain": [
              "83"
            ]
          },
          "metadata": {},
          "execution_count": 26
        }
      ]
    },
    {
      "cell_type": "code",
      "source": [
        "df.where(col(\"desig\").isNull()).show()"
      ],
      "metadata": {
        "colab": {
          "base_uri": "https://localhost:8080/"
        },
        "id": "iS54zGxKZczX",
        "outputId": "20df7f54-131a-477f-e512-bdbf7e42531d"
      },
      "execution_count": null,
      "outputs": [
        {
          "output_type": "stream",
          "name": "stdout",
          "text": [
            "+-------+-------+---------+---+-----+\n",
            "|    cid|  fname|    lname|age|desig|\n",
            "+-------+-------+---------+---+-----+\n",
            "|4000014|   Beth|  Woodard| 65| null|\n",
            "|4000046|  Louis|Rosenthal| 31| null|\n",
            "|4000257| Monica|   Dodson| 58| null|\n",
            "|4000327|Heather|   Dawson| 43| null|\n",
            "|4000411| Joanna|   Hoover| 50| null|\n",
            "|4000463|  Wayne|   Weiner| 70| null|\n",
            "|4000494|Stephen|   Waller| 75| null|\n",
            "|4000679|Herbert| Jernigan| 59| null|\n",
            "|4000695|  Chris| Anderson| 52| null|\n",
            "|4000890| Hannah|    Casey| 30| null|\n",
            "|4000944|   Mary|  Boyette| 59| null|\n",
            "|4001066|    Ron|   Brandt| 65| null|\n",
            "|4001359|  Craig| McNamara| 31| null|\n",
            "|4001400|Matthew|  Beasley| 39| null|\n",
            "|4001478| Sheryl|     Lamb| 53| null|\n",
            "|4001505|Raymond|    Roach| 30| null|\n",
            "|4001550|  Barry|    Sykes| 34| null|\n",
            "|4001561| Arlene|     Gray| 51| null|\n",
            "|4001675| Wesley|   Graves| 33| null|\n",
            "|4001952|  Renee|      Day| 46| null|\n",
            "+-------+-------+---------+---+-----+\n",
            "only showing top 20 rows\n",
            "\n"
          ]
        }
      ]
    },
    {
      "cell_type": "code",
      "source": [],
      "metadata": {
        "id": "s7e_f-EkZ2bQ"
      },
      "execution_count": null,
      "outputs": []
    }
  ],
  "metadata": {
    "colab": {
      "provenance": []
    },
    "kernelspec": {
      "display_name": "Python 3",
      "name": "python3"
    },
    "language_info": {
      "name": "python"
    }
  },
  "nbformat": 4,
  "nbformat_minor": 0
}