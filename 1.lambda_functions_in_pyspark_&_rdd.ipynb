{
  "nbformat": 4,
  "nbformat_minor": 0,
  "metadata": {
    "colab": {
      "provenance": []
    },
    "kernelspec": {
      "name": "python3",
      "display_name": "Python 3"
    },
    "language_info": {
      "name": "python"
    }
  },
  "cells": [
    {
      "cell_type": "code",
      "execution_count": null,
      "metadata": {
        "id": "kIDt-M2vBNVv"
      },
      "outputs": [],
      "source": [
        "lst=[2,3,4,5,6,8,9]"
      ]
    },
    {
      "cell_type": "code",
      "source": [
        "double=list(map(lambda x:x*2,lst))"
      ],
      "metadata": {
        "id": "fUR1Fup0Cbfb"
      },
      "execution_count": null,
      "outputs": []
    },
    {
      "cell_type": "code",
      "source": [
        "double"
      ],
      "metadata": {
        "colab": {
          "base_uri": "https://localhost:8080/"
        },
        "id": "LnM3sHAeEDHs",
        "outputId": "09129f1a-5c25-4b3a-c1ac-e33b98cd0400"
      },
      "execution_count": null,
      "outputs": [
        {
          "output_type": "execute_result",
          "data": {
            "text/plain": [
              "[4, 6, 8, 10, 12, 16, 18]"
            ]
          },
          "metadata": {},
          "execution_count": 3
        }
      ]
    },
    {
      "cell_type": "code",
      "source": [
        "lst"
      ],
      "metadata": {
        "colab": {
          "base_uri": "https://localhost:8080/"
        },
        "id": "E9_XhAPgEFqu",
        "outputId": "7673aba1-4016-4fc3-eaab-3ca01a692218"
      },
      "execution_count": null,
      "outputs": [
        {
          "output_type": "execute_result",
          "data": {
            "text/plain": [
              "[2, 3, 4, 5, 6, 8, 9]"
            ]
          },
          "metadata": {},
          "execution_count": 4
        }
      ]
    },
    {
      "cell_type": "code",
      "source": [
        "f=list(filter(lambda x:x<5,lst))"
      ],
      "metadata": {
        "id": "W1YFoE_QE_6O"
      },
      "execution_count": null,
      "outputs": []
    },
    {
      "cell_type": "code",
      "source": [
        "f"
      ],
      "metadata": {
        "colab": {
          "base_uri": "https://localhost:8080/"
        },
        "id": "uKLPCBWgFYv9",
        "outputId": "11a7ab26-3735-4d72-f001-a6aa0d814b6f"
      },
      "execution_count": null,
      "outputs": [
        {
          "output_type": "execute_result",
          "data": {
            "text/plain": [
              "[2, 3, 4]"
            ]
          },
          "metadata": {},
          "execution_count": 6
        }
      ]
    },
    {
      "cell_type": "code",
      "source": [
        "m=list(map(lambda x:x<5,lst))"
      ],
      "metadata": {
        "id": "mT4ZEBPbFaY9"
      },
      "execution_count": null,
      "outputs": []
    },
    {
      "cell_type": "code",
      "source": [
        "m"
      ],
      "metadata": {
        "colab": {
          "base_uri": "https://localhost:8080/"
        },
        "id": "oKY4-MQnFyPx",
        "outputId": "fffbe7f7-f174-40f9-dddd-b74ed24e352d"
      },
      "execution_count": null,
      "outputs": [
        {
          "output_type": "execute_result",
          "data": {
            "text/plain": [
              "[True, True, True, False, False, False, False]"
            ]
          },
          "metadata": {},
          "execution_count": 9
        }
      ]
    },
    {
      "cell_type": "code",
      "source": [
        "!pip install findspark"
      ],
      "metadata": {
        "colab": {
          "base_uri": "https://localhost:8080/"
        },
        "id": "qngbPfQmF2Zg",
        "outputId": "76720c7d-3436-4932-e9fd-e3e7cd96ca5e"
      },
      "execution_count": null,
      "outputs": [
        {
          "output_type": "stream",
          "name": "stdout",
          "text": [
            "Collecting findspark\n",
            "  Downloading findspark-2.0.1-py2.py3-none-any.whl (4.4 kB)\n",
            "Installing collected packages: findspark\n",
            "Successfully installed findspark-2.0.1\n"
          ]
        }
      ]
    },
    {
      "cell_type": "code",
      "source": [
        "!apt-get install openjdk-8-jdk-headless -qq > /dev/null\n",
        "!wget -q http://archive.apache.org/dist/spark/spark-3.1.1/spark-3.1.1-bin-hadoop3.2.tgz\n",
        "!tar xf spark-3.1.1-bin-hadoop3.2.tgz\n",
        "!pip install -q findspark"
      ],
      "metadata": {
        "id": "32ajM0bTHdg3"
      },
      "execution_count": 14,
      "outputs": []
    },
    {
      "cell_type": "code",
      "source": [
        "import os\n",
        "os.environ[\"JAVA_HOME\"] = \"/usr/lib/jvm/java-8-openjdk-amd64\"\n",
        "os.environ[\"SPARK_HOME\"] = \"/content/spark-3.1.1-bin-hadoop3.2\""
      ],
      "metadata": {
        "id": "kcw2ufcIHsSZ"
      },
      "execution_count": 15,
      "outputs": []
    },
    {
      "cell_type": "code",
      "source": [
        "!ls"
      ],
      "metadata": {
        "id": "BzqUtbFHH0rs",
        "colab": {
          "base_uri": "https://localhost:8080/"
        },
        "outputId": "2ed02b0c-e1ca-4c02-814f-3729d38dce6d"
      },
      "execution_count": 16,
      "outputs": [
        {
          "output_type": "stream",
          "name": "stdout",
          "text": [
            "sample_data  spark-3.1.1-bin-hadoop3.2\tspark-3.1.1-bin-hadoop3.2.tgz\n"
          ]
        }
      ]
    },
    {
      "cell_type": "code",
      "source": [
        "import findspark\n",
        "findspark.init()\n",
        "from pyspark import SparkContext\n"
      ],
      "metadata": {
        "id": "P4mGRa-LJLn2"
      },
      "execution_count": 19,
      "outputs": []
    },
    {
      "cell_type": "code",
      "source": [
        "sc=SparkContext(appName=\"mysparkapp\",master=\"local[2]\").getOrCreate()"
      ],
      "metadata": {
        "id": "2ZdOdHaVJTId"
      },
      "execution_count": 20,
      "outputs": []
    },
    {
      "cell_type": "code",
      "source": [
        "sc"
      ],
      "metadata": {
        "colab": {
          "base_uri": "https://localhost:8080/",
          "height": 196
        },
        "id": "vXW-gSEGKez5",
        "outputId": "c461afb8-f427-4d21-fbc7-119088895139"
      },
      "execution_count": 21,
      "outputs": [
        {
          "output_type": "execute_result",
          "data": {
            "text/plain": [
              "<SparkContext master=local[2] appName=mysparkapp>"
            ],
            "text/html": [
              "\n",
              "        <div>\n",
              "            <p><b>SparkContext</b></p>\n",
              "\n",
              "            <p><a href=\"http://409d89275646:4040\">Spark UI</a></p>\n",
              "\n",
              "            <dl>\n",
              "              <dt>Version</dt>\n",
              "                <dd><code>v3.1.1</code></dd>\n",
              "              <dt>Master</dt>\n",
              "                <dd><code>local[2]</code></dd>\n",
              "              <dt>AppName</dt>\n",
              "                <dd><code>mysparkapp</code></dd>\n",
              "            </dl>\n",
              "        </div>\n",
              "        "
            ]
          },
          "metadata": {},
          "execution_count": 21
        }
      ]
    },
    {
      "cell_type": "code",
      "source": [
        "rdd1=sc.textFile(\"/content/custs_without_header.csv\")"
      ],
      "metadata": {
        "id": "XBsRHIJMKoBy"
      },
      "execution_count": 24,
      "outputs": []
    },
    {
      "cell_type": "code",
      "source": [
        "rdd1.first()"
      ],
      "metadata": {
        "colab": {
          "base_uri": "https://localhost:8080/",
          "height": 35
        },
        "id": "j42nvRvIRGIT",
        "outputId": "9069e78a-c11c-4ffb-f306-31021e6a4ec7"
      },
      "execution_count": 25,
      "outputs": [
        {
          "output_type": "execute_result",
          "data": {
            "text/plain": [
              "'4000001,Kristina,Chung,55,Pilot'"
            ],
            "application/vnd.google.colaboratory.intrinsic+json": {
              "type": "string"
            }
          },
          "metadata": {},
          "execution_count": 25
        }
      ]
    },
    {
      "cell_type": "code",
      "source": [
        "rdd1.take(5)"
      ],
      "metadata": {
        "colab": {
          "base_uri": "https://localhost:8080/"
        },
        "id": "V4qpMw7CSjjc",
        "outputId": "569df962-2129-4bea-fd5d-e61c6ae6d219"
      },
      "execution_count": 26,
      "outputs": [
        {
          "output_type": "execute_result",
          "data": {
            "text/plain": [
              "['4000001,Kristina,Chung,55,Pilot',\n",
              " '4000002,Paige,Chen,74,Teacher',\n",
              " '4000003,Sherri,Melton,34,Firefighter',\n",
              " '4000004,Gretchen,Hill,66,Computer hardware engineer',\n",
              " '4000005,Karen,Puckett,74,Lawyer']"
            ]
          },
          "metadata": {},
          "execution_count": 26
        }
      ]
    },
    {
      "cell_type": "code",
      "source": [
        "str=\"4000001,Kristina,Chung,55,Pilot\""
      ],
      "metadata": {
        "id": "V74IzF_gTk1k"
      },
      "execution_count": 27,
      "outputs": []
    },
    {
      "cell_type": "code",
      "source": [
        "str.split(',')"
      ],
      "metadata": {
        "colab": {
          "base_uri": "https://localhost:8080/"
        },
        "id": "gtU9oMziWCBo",
        "outputId": "b221eaee-e07d-41dd-a953-5d8111a8409c"
      },
      "execution_count": 28,
      "outputs": [
        {
          "output_type": "execute_result",
          "data": {
            "text/plain": [
              "['4000001', 'Kristina', 'Chung', '55', 'Pilot']"
            ]
          },
          "metadata": {},
          "execution_count": 28
        }
      ]
    },
    {
      "cell_type": "code",
      "source": [
        "str.split(',')[3]"
      ],
      "metadata": {
        "colab": {
          "base_uri": "https://localhost:8080/",
          "height": 35
        },
        "id": "Jiii7kJmWI8a",
        "outputId": "8f28b181-4da0-4f07-a1b2-20fe0a050737"
      },
      "execution_count": 29,
      "outputs": [
        {
          "output_type": "execute_result",
          "data": {
            "text/plain": [
              "'55'"
            ],
            "application/vnd.google.colaboratory.intrinsic+json": {
              "type": "string"
            }
          },
          "metadata": {},
          "execution_count": 29
        }
      ]
    },
    {
      "cell_type": "code",
      "source": [
        "rdd2=rdd1.map(lambda str:str.split(\",\"))\n",
        "rdd2.first()"
      ],
      "metadata": {
        "colab": {
          "base_uri": "https://localhost:8080/"
        },
        "id": "eGZLxN7rYvZQ",
        "outputId": "fed5a6d1-bbdc-4a1f-9d81-b457d24461ec"
      },
      "execution_count": 40,
      "outputs": [
        {
          "output_type": "execute_result",
          "data": {
            "text/plain": [
              "['4000001', 'Kristina', 'Chung', '55', 'Pilot']"
            ]
          },
          "metadata": {},
          "execution_count": 40
        }
      ]
    },
    {
      "cell_type": "code",
      "source": [
        "rdd3=rdd2.map(lambda lst:(lst[1],lst[3]))"
      ],
      "metadata": {
        "id": "ttKvGFMdWPHk"
      },
      "execution_count": 41,
      "outputs": []
    },
    {
      "cell_type": "code",
      "source": [
        "rdd3.take(5)"
      ],
      "metadata": {
        "colab": {
          "base_uri": "https://localhost:8080/"
        },
        "id": "yjHuD2LMXbAD",
        "outputId": "2621da08-411e-4805-f4df-a7fb5e14b447"
      },
      "execution_count": 42,
      "outputs": [
        {
          "output_type": "execute_result",
          "data": {
            "text/plain": [
              "[('Kristina', '55'),\n",
              " ('Paige', '74'),\n",
              " ('Sherri', '34'),\n",
              " ('Gretchen', '66'),\n",
              " ('Karen', '74')]"
            ]
          },
          "metadata": {},
          "execution_count": 42
        }
      ]
    },
    {
      "cell_type": "code",
      "source": [
        "for i in rdd3.collect():\n",
        "  print(i)"
      ],
      "metadata": {
        "id": "I-3LMSAXXmDb"
      },
      "execution_count": null,
      "outputs": []
    },
    {
      "cell_type": "code",
      "source": [
        "#get all records where age>40\n",
        "rdd4=rdd2.filter(lambda lst:(int(lst[3])>40))"
      ],
      "metadata": {
        "id": "vr4y7W-mZ3LJ"
      },
      "execution_count": 46,
      "outputs": []
    },
    {
      "cell_type": "code",
      "source": [
        "rdd4.take(5)"
      ],
      "metadata": {
        "colab": {
          "base_uri": "https://localhost:8080/"
        },
        "id": "qSsJOJxie396",
        "outputId": "788c7cea-a339-4063-b934-95ecde976849"
      },
      "execution_count": 47,
      "outputs": [
        {
          "output_type": "execute_result",
          "data": {
            "text/plain": [
              "[['4000001', 'Kristina', 'Chung', '55', 'Pilot'],\n",
              " ['4000002', 'Paige', 'Chen', '74', 'Teacher'],\n",
              " ['4000004', 'Gretchen', 'Hill', '66', 'Computer hardware engineer'],\n",
              " ['4000005', 'Karen', 'Puckett', '74', 'Lawyer'],\n",
              " ['4000006', 'Patrick', 'Song', '42', 'Veterinarian']]"
            ]
          },
          "metadata": {},
          "execution_count": 47
        }
      ]
    },
    {
      "cell_type": "code",
      "source": [],
      "metadata": {
        "id": "0fkJ2tn_e96Q"
      },
      "execution_count": null,
      "outputs": []
    }
  ]
}