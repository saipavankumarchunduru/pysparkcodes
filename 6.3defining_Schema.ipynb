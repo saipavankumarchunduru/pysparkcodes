{
  "nbformat": 4,
  "nbformat_minor": 0,
  "metadata": {
    "colab": {
      "provenance": []
    },
    "kernelspec": {
      "name": "python3",
      "display_name": "Python 3"
    },
    "language_info": {
      "name": "python"
    }
  },
  "cells": [
    {
      "cell_type": "code",
      "execution_count": 1,
      "metadata": {
        "id": "1_KIHk6ytteC"
      },
      "outputs": [],
      "source": [
        "import os"
      ]
    },
    {
      "cell_type": "code",
      "source": [
        "!apt-get install openjdk-8-jdk-headless -qq > /dev/null\n",
        "!wget -q http://archive.apache.org/dist/spark/spark-3.1.1/spark-3.1.1-bin-hadoop3.2.tgz\n",
        "!tar xf spark-3.1.1-bin-hadoop3.2.tgz\n",
        "!pip install -q findspark"
      ],
      "metadata": {
        "id": "3BGyHZrWtye9"
      },
      "execution_count": 2,
      "outputs": []
    },
    {
      "cell_type": "code",
      "source": [
        "import os\n",
        "os.environ[\"JAVA_HOME\"] = \"/usr/lib/jvm/java-8-openjdk-amd64\"\n",
        "os.environ[\"SPARK_HOME\"] = \"/content/spark-3.1.1-bin-hadoop3.2\""
      ],
      "metadata": {
        "id": "pLR6ciBGue4d"
      },
      "execution_count": 3,
      "outputs": []
    },
    {
      "cell_type": "code",
      "source": [
        "!pip install pyspark==3.1.1"
      ],
      "metadata": {
        "colab": {
          "base_uri": "https://localhost:8080/"
        },
        "id": "56N4PXXPuyla",
        "outputId": "1bcfdcf4-9f3c-4b35-fb86-23be08d85c1e"
      },
      "execution_count": 4,
      "outputs": [
        {
          "output_type": "stream",
          "name": "stdout",
          "text": [
            "Collecting pyspark==3.1.1\n",
            "  Downloading pyspark-3.1.1.tar.gz (212.3 MB)\n",
            "\u001b[2K     \u001b[90m━━━━━━━━━━━━━━━━━━━━━━━━━━━━━━━━━━━━━━━\u001b[0m \u001b[32m212.3/212.3 MB\u001b[0m \u001b[31m5.6 MB/s\u001b[0m eta \u001b[36m0:00:00\u001b[0m\n",
            "\u001b[?25h  Preparing metadata (setup.py) ... \u001b[?25l\u001b[?25hdone\n",
            "Collecting py4j==0.10.9 (from pyspark==3.1.1)\n",
            "  Downloading py4j-0.10.9-py2.py3-none-any.whl (198 kB)\n",
            "\u001b[2K     \u001b[90m━━━━━━━━━━━━━━━━━━━━━━━━━━━━━━━━━━━━━━\u001b[0m \u001b[32m198.6/198.6 kB\u001b[0m \u001b[31m22.2 MB/s\u001b[0m eta \u001b[36m0:00:00\u001b[0m\n",
            "\u001b[?25hBuilding wheels for collected packages: pyspark\n",
            "  Building wheel for pyspark (setup.py) ... \u001b[?25l\u001b[?25hdone\n",
            "  Created wheel for pyspark: filename=pyspark-3.1.1-py2.py3-none-any.whl size=212767582 sha256=bf9fd6e1f219d5d7531f58afe7844ec20a9bfafb3b807a51db982c43cb7eb112\n",
            "  Stored in directory: /root/.cache/pip/wheels/a0/3f/72/8efd988f9ae041f051c75e6834cd92dd6d13a726e206e8b6f3\n",
            "Successfully built pyspark\n",
            "Installing collected packages: py4j, pyspark\n",
            "  Attempting uninstall: py4j\n",
            "    Found existing installation: py4j 0.10.9.7\n",
            "    Uninstalling py4j-0.10.9.7:\n",
            "      Successfully uninstalled py4j-0.10.9.7\n",
            "Successfully installed py4j-0.10.9 pyspark-3.1.1\n"
          ]
        }
      ]
    },
    {
      "cell_type": "code",
      "source": [
        "import pyspark"
      ],
      "metadata": {
        "id": "vzYd-PB5u2ks"
      },
      "execution_count": 5,
      "outputs": []
    },
    {
      "cell_type": "code",
      "source": [
        "import findspark"
      ],
      "metadata": {
        "id": "8yuBvRkyxA9q"
      },
      "execution_count": 10,
      "outputs": []
    },
    {
      "cell_type": "code",
      "source": [
        "findspark.init()"
      ],
      "metadata": {
        "id": "utQBw8fmxF0C"
      },
      "execution_count": 11,
      "outputs": []
    },
    {
      "cell_type": "code",
      "source": [
        "from pyspark.sql import SparkSession"
      ],
      "metadata": {
        "id": "qfx4godmvBtu"
      },
      "execution_count": 12,
      "outputs": []
    },
    {
      "cell_type": "code",
      "source": [
        "if __name__==\"__main__\":\n",
        "  spark = SparkSession.builder \\\n",
        "      .appName(\"myapplication\") \\\n",
        "      .master(\"local[*]\") \\\n",
        "      .getOrCreate()\n"
      ],
      "metadata": {
        "id": "wjxPcyszvFk8"
      },
      "execution_count": 13,
      "outputs": []
    },
    {
      "cell_type": "code",
      "source": [
        "spark"
      ],
      "metadata": {
        "colab": {
          "base_uri": "https://localhost:8080/",
          "height": 219
        },
        "id": "en_QCWTqzq8W",
        "outputId": "18465818-9bf0-44a3-d374-52bfce2a4e45"
      },
      "execution_count": 21,
      "outputs": [
        {
          "output_type": "execute_result",
          "data": {
            "text/plain": [
              "<pyspark.sql.session.SparkSession at 0x7f2e7421d2d0>"
            ],
            "text/html": [
              "\n",
              "            <div>\n",
              "                <p><b>SparkSession - in-memory</b></p>\n",
              "                \n",
              "        <div>\n",
              "            <p><b>SparkContext</b></p>\n",
              "\n",
              "            <p><a href=\"http://92818a6e6535:4040\">Spark UI</a></p>\n",
              "\n",
              "            <dl>\n",
              "              <dt>Version</dt>\n",
              "                <dd><code>v3.1.1</code></dd>\n",
              "              <dt>Master</dt>\n",
              "                <dd><code>local[*]</code></dd>\n",
              "              <dt>AppName</dt>\n",
              "                <dd><code>myapplication</code></dd>\n",
              "            </dl>\n",
              "        </div>\n",
              "        \n",
              "            </div>\n",
              "        "
            ]
          },
          "metadata": {},
          "execution_count": 21
        }
      ]
    },
    {
      "cell_type": "code",
      "source": [
        "from pyspark.sql.types import StructType,StructField,StringType,IntegerType,DecimalType,FloatType,DateType"
      ],
      "metadata": {
        "id": "-5y7Ph27v-IA"
      },
      "execution_count": 17,
      "outputs": []
    },
    {
      "cell_type": "code",
      "source": [
        "\n",
        "cust_schema=StructType([StructField(\"cid\",IntegerType()),\n",
        "                        StructField(\"fname\",StringType()),\n",
        "                        StructField(\"lname\",StringType()),\n",
        "                        StructField(\"age\",IntegerType()),\n",
        "                        StructField(\"desig\",StringType())])"
      ],
      "metadata": {
        "id": "SvHtfMS_vLpe"
      },
      "execution_count": 19,
      "outputs": []
    },
    {
      "cell_type": "code",
      "source": [
        "df=spark.read.schema(cust_schema).option(\"header\",True).csv(\"/content/custs_with_header.csv\")"
      ],
      "metadata": {
        "id": "oTjEUdV4x-_I"
      },
      "execution_count": 24,
      "outputs": []
    },
    {
      "cell_type": "code",
      "source": [
        "df.printSchema()"
      ],
      "metadata": {
        "colab": {
          "base_uri": "https://localhost:8080/"
        },
        "id": "iyyX0FMyzm9A",
        "outputId": "72a88663-7a79-4b54-85f3-06008536462e"
      },
      "execution_count": 25,
      "outputs": [
        {
          "output_type": "stream",
          "name": "stdout",
          "text": [
            "root\n",
            " |-- cid: integer (nullable = true)\n",
            " |-- fname: string (nullable = true)\n",
            " |-- lname: string (nullable = true)\n",
            " |-- age: integer (nullable = true)\n",
            " |-- desig: string (nullable = true)\n",
            "\n"
          ]
        }
      ]
    },
    {
      "cell_type": "code",
      "source": [
        "df.show()"
      ],
      "metadata": {
        "colab": {
          "base_uri": "https://localhost:8080/"
        },
        "id": "qjjy6MVfz-0x",
        "outputId": "afcb5b03-e454-4391-f260-4d26093a923e"
      },
      "execution_count": 26,
      "outputs": [
        {
          "output_type": "stream",
          "name": "stdout",
          "text": [
            "+-------+--------+----------+---+--------------------+\n",
            "|    cid|   fname|     lname|age|               desig|\n",
            "+-------+--------+----------+---+--------------------+\n",
            "|4000001|Kristina|     Chung| 55|               Pilot|\n",
            "|4000002|   Paige|      Chen| 74|             Teacher|\n",
            "|4000003|  Sherri|    Melton| 34|         Firefighter|\n",
            "|4000004|Gretchen|      Hill| 66|Computer hardware...|\n",
            "|4000005|   Karen|   Puckett| 74|              Lawyer|\n",
            "|4000006| Patrick|      Song| 42|        Veterinarian|\n",
            "|4000007|   Elsie|  Hamilton| 43|               Pilot|\n",
            "|4000008|   Hazel|    Bender| 63|           Carpenter|\n",
            "|4000009| Malcolm|    Wagner| 39|              Artist|\n",
            "|4000010| Dolores|McLaughlin| 60|              Writer|\n",
            "|4000011| Francis|  McNamara| 47|           Therapist|\n",
            "|4000012|   Sandy|    Raynor| 26|              Writer|\n",
            "|4000013|  Marion|      Moon| 41|           Carpenter|\n",
            "|4000014|    Beth|   Woodard| 65|                null|\n",
            "|4000015|   Julia|     Desai| 49|            Musician|\n",
            "|4000016|  Jerome|   Wallace| 52|          Pharmacist|\n",
            "|4000017|    Neal|  Lawrence| 72|Computer support ...|\n",
            "|4000018|    Jean|   Griffin| 45|    Childcare worker|\n",
            "|4000019|Kristine| Dougherty| 63|   Financial analyst|\n",
            "|4000020| Crystal|    Powers| 67|Engineering techn...|\n",
            "+-------+--------+----------+---+--------------------+\n",
            "only showing top 20 rows\n",
            "\n"
          ]
        }
      ]
    },
    {
      "cell_type": "code",
      "source": [
        "tnx_schema=StructType([StructField(\"tnx_id\",IntegerType()),\n",
        "                       StructField(\"tnx_dt\",DateType()),\n",
        "                       StructField(\"cid\",IntegerType()),\n",
        "                       StructField(\"amount\",DecimalType()),\n",
        "                       StructField(\"prod_cat\",StringType()),\n",
        "                       StructField(\"prod\",StringType()),\n",
        "                       StructField(\"city\",StringType()),\n",
        "                       StructField(\"state\",StringType()),\n",
        "                       StructField(\"mode\",StringType())])"
      ],
      "metadata": {
        "id": "0Nkqzae10C-E"
      },
      "execution_count": 27,
      "outputs": []
    },
    {
      "cell_type": "code",
      "source": [
        "#06-26-2011\n",
        "df2=spark.read.schema(tnx_schema).option(\"header\",True).option(\"dateFormat\",'MM-dd-yyyy').csv(\"/content/txns_with_header.csv\")"
      ],
      "metadata": {
        "id": "iRw8qesy23fa"
      },
      "execution_count": 48,
      "outputs": []
    },
    {
      "cell_type": "code",
      "source": [
        "df2.printSchema()"
      ],
      "metadata": {
        "colab": {
          "base_uri": "https://localhost:8080/"
        },
        "id": "HZ9NKK3M3MrO",
        "outputId": "fd58c2ff-8896-4a07-c995-2ae81407dbcd"
      },
      "execution_count": 49,
      "outputs": [
        {
          "output_type": "stream",
          "name": "stdout",
          "text": [
            "root\n",
            " |-- tnx_id: integer (nullable = true)\n",
            " |-- tnx_dt: date (nullable = true)\n",
            " |-- cid: integer (nullable = true)\n",
            " |-- amount: decimal(10,0) (nullable = true)\n",
            " |-- prod_cat: string (nullable = true)\n",
            " |-- prod: string (nullable = true)\n",
            " |-- city: string (nullable = true)\n",
            " |-- state: string (nullable = true)\n",
            " |-- mode: string (nullable = true)\n",
            "\n"
          ]
        }
      ]
    },
    {
      "cell_type": "code",
      "source": [
        "df2.show()"
      ],
      "metadata": {
        "colab": {
          "base_uri": "https://localhost:8080/"
        },
        "id": "eV_y2xxM3RXA",
        "outputId": "c7d78cf7-8048-4fb3-c12c-511372d0365a"
      },
      "execution_count": 50,
      "outputs": [
        {
          "output_type": "stream",
          "name": "stdout",
          "text": [
            "+------+----------+-------+------+--------------------+--------------------+--------------+--------------+------+\n",
            "|tnx_id|    tnx_dt|    cid|amount|            prod_cat|                prod|          city|         state|  mode|\n",
            "+------+----------+-------+------+--------------------+--------------------+--------------+--------------+------+\n",
            "|     0|2011-06-26|4007024|    40|  Exercise & Fitness|Cardio Machine Ac...|   Clarksville|     Tennessee|credit|\n",
            "|     1|2011-05-26|4006742|   198|  Exercise & Fitness|Weightlifting Gloves|    Long Beach|    California|credit|\n",
            "|     2|2011-06-01|4009775|     6|  Exercise & Fitness|Weightlifting Mac...|       Anaheim|    California|credit|\n",
            "|     3|2011-06-05|4002199|   198|          Gymnastics|    Gymnastics Rings|     Milwaukee|     Wisconsin|credit|\n",
            "|     4|2011-12-17|4002613|    99|         Team Sports|        Field Hockey|   Nashville  |     Tennessee|credit|\n",
            "|     5|2011-02-14|4007591|   194|  Outdoor Recreation|Camping & Backpac...|       Chicago|      Illinois|credit|\n",
            "|     6|2011-10-28|4002190|    28|             Puzzles|      Jigsaw Puzzles|    Charleston|South Carolina|credit|\n",
            "|     7|2011-07-14|4002964|    96|Outdoor Play Equi...|           Sandboxes|      Columbus|          Ohio|credit|\n",
            "|     8|2011-01-17|4007361|    10|       Winter Sports|        Snowmobiling|    Des Moines|          Iowa|credit|\n",
            "|     9|2011-05-17|4004798|   152|             Jumping|      Bungee Jumping|St. Petersburg|       Florida|credit|\n",
            "|    10|2011-05-29|4004646|   180|  Outdoor Recreation|             Archery|          Reno|        Nevada|credit|\n",
            "|    11|2011-06-18|4008071|   121|Outdoor Play Equi...|          Swing Sets|      Columbus|          Ohio|credit|\n",
            "|    12|2011-02-08|4002473|    42|        Indoor Games|             Bowling| San Francisco|    California|credit|\n",
            "|    13|2011-03-13|4003268|   108|         Team Sports|        Field Hockey|    Honolulu  |        Hawaii|credit|\n",
            "|    14|2011-02-25|4004613|    37|          Gymnastics|     Vaulting Horses|   Los Angeles|    California|credit|\n",
            "|    15|2011-10-20|4003179|   138|       Combat Sports|             Fencing|    Honolulu  |        Hawaii|credit|\n",
            "|    16|2011-05-28|4009135|    36|  Exercise & Fitness|    Free Weight Bars|      Columbia|South Carolina|credit|\n",
            "|    17|2011-10-18|4006679|    76|        Water Sports|Scuba Diving & Sn...|         Omaha|      Nebraska|credit|\n",
            "|    18|2011-11-18|4002444|    89|         Team Sports|            Baseball|Salt Lake City|          Utah|credit|\n",
            "|    19|2011-08-28|4008871|    52|        Water Sports|        Life Jackets|        Newark|    New Jersey|credit|\n",
            "+------+----------+-------+------+--------------------+--------------------+--------------+--------------+------+\n",
            "only showing top 20 rows\n",
            "\n"
          ]
        }
      ]
    },
    {
      "cell_type": "code",
      "source": [],
      "metadata": {
        "id": "9yT23Lp93UuO"
      },
      "execution_count": null,
      "outputs": []
    }
  ]
}