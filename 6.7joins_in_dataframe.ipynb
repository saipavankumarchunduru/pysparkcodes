{
  "nbformat": 4,
  "nbformat_minor": 0,
  "metadata": {
    "colab": {
      "provenance": []
    },
    "kernelspec": {
      "name": "python3",
      "display_name": "Python 3"
    },
    "language_info": {
      "name": "python"
    }
  },
  "cells": [
    {
      "cell_type": "code",
      "execution_count": 1,
      "metadata": {
        "id": "3LIZrlYsbyQg"
      },
      "outputs": [],
      "source": [
        "import os"
      ]
    },
    {
      "cell_type": "code",
      "source": [
        "!apt-get install openjdk-8-jdk-headless -qq > /dev/null\n",
        "!wget -q http://archive.apache.org/dist/spark/spark-3.1.1/spark-3.1.1-bin-hadoop3.2.tgz\n",
        "!tar xf spark-3.1.1-bin-hadoop3.2.tgz\n",
        "!pip install -q findspark"
      ],
      "metadata": {
        "id": "o-p5hVp4cx8e"
      },
      "execution_count": 2,
      "outputs": []
    },
    {
      "cell_type": "code",
      "source": [
        "import os\n",
        "os.environ[\"JAVA_HOME\"] = \"/usr/lib/jvm/java-8-openjdk-amd64\"\n",
        "os.environ[\"SPARK_HOME\"] = \"/content/spark-3.1.1-bin-hadoop3.2\""
      ],
      "metadata": {
        "id": "kLmKUUJgb6Vu"
      },
      "execution_count": 3,
      "outputs": []
    },
    {
      "cell_type": "code",
      "source": [
        "import findspark"
      ],
      "metadata": {
        "id": "0Zem7A-AiGwv"
      },
      "execution_count": 5,
      "outputs": []
    },
    {
      "cell_type": "code",
      "source": [
        "findspark .init()"
      ],
      "metadata": {
        "id": "3KNWXUQSiNok"
      },
      "execution_count": 6,
      "outputs": []
    },
    {
      "cell_type": "code",
      "source": [
        "import pyspark"
      ],
      "metadata": {
        "id": "RdCXStUCcGke"
      },
      "execution_count": 7,
      "outputs": []
    },
    {
      "cell_type": "code",
      "source": [
        "from pyspark.sql import SparkSession"
      ],
      "metadata": {
        "id": "JrGbXdRGcRkj"
      },
      "execution_count": 8,
      "outputs": []
    },
    {
      "cell_type": "code",
      "source": [
        "if __name__==\"__main__\":\n",
        "  spark = SparkSession.builder \\\n",
        "      .appName(\"myapplication\") \\\n",
        "      .master(\"local[*]\") \\\n",
        "      .getOrCreate()"
      ],
      "metadata": {
        "id": "sgCcwx9acW7c"
      },
      "execution_count": 9,
      "outputs": []
    },
    {
      "cell_type": "code",
      "source": [
        "spark"
      ],
      "metadata": {
        "colab": {
          "base_uri": "https://localhost:8080/",
          "height": 219
        },
        "id": "UjppY4eLcbTg",
        "outputId": "4050c2ac-680c-40ff-a428-6c81ed10b649"
      },
      "execution_count": 10,
      "outputs": [
        {
          "output_type": "execute_result",
          "data": {
            "text/plain": [
              "<pyspark.sql.session.SparkSession at 0x7b7d25ce19c0>"
            ],
            "text/html": [
              "\n",
              "            <div>\n",
              "                <p><b>SparkSession - in-memory</b></p>\n",
              "                \n",
              "        <div>\n",
              "            <p><b>SparkContext</b></p>\n",
              "\n",
              "            <p><a href=\"http://f9d8209284b7:4040\">Spark UI</a></p>\n",
              "\n",
              "            <dl>\n",
              "              <dt>Version</dt>\n",
              "                <dd><code>v3.1.1</code></dd>\n",
              "              <dt>Master</dt>\n",
              "                <dd><code>local[*]</code></dd>\n",
              "              <dt>AppName</dt>\n",
              "                <dd><code>myapplication</code></dd>\n",
              "            </dl>\n",
              "        </div>\n",
              "        \n",
              "            </div>\n",
              "        "
            ]
          },
          "metadata": {},
          "execution_count": 10
        }
      ]
    },
    {
      "cell_type": "code",
      "source": [
        "from pyspark.sql import SparkSession"
      ],
      "metadata": {
        "id": "aG_4aLZFcdDW"
      },
      "execution_count": 11,
      "outputs": []
    },
    {
      "cell_type": "code",
      "source": [
        "from pyspark.sql.types import StructType,StructField,StringType,IntegerType,StringType"
      ],
      "metadata": {
        "id": "Dmt2EQ_MdGW7"
      },
      "execution_count": 12,
      "outputs": []
    },
    {
      "cell_type": "code",
      "source": [
        "from pyspark.sql.functions import col,lit"
      ],
      "metadata": {
        "id": "ljJmXmPEsJnN"
      },
      "execution_count": 62,
      "outputs": []
    },
    {
      "cell_type": "code",
      "source": [
        "emp=[(\"pavan\",\"vijayawada\",10,'M',30000),\n",
        "     (\"anusha\",\"hyderabad\",20,'F',75000),\n",
        "     (\"dwaraka\",\"hyderabad\",40,'M',80000),\n",
        "     (\"ramsai\",\"nellore\",50,'M',50000),\n",
        "     (\"venkatesh\",\"bimavaram\",60,'M',45000),\n",
        "     (\"swapna\",\"sydney\",80,'F',200000),\n",
        "     (\"chung\",\"china\",110,'F',3000000)]"
      ],
      "metadata": {
        "id": "kHWvHztzeNuI"
      },
      "execution_count": 69,
      "outputs": []
    },
    {
      "cell_type": "code",
      "source": [
        "emp_schema=StructType([StructField(\"name\",StringType()),\n",
        "                       StructField(\"location\",StringType()),\n",
        "                       StructField(\"dept_id\",IntegerType()),\n",
        "                       StructField(\"gender\",StringType()),\n",
        "                       StructField(\"salary\",IntegerType())])"
      ],
      "metadata": {
        "id": "kPgtg6n1hMsL"
      },
      "execution_count": 70,
      "outputs": []
    },
    {
      "cell_type": "code",
      "source": [
        "employee_df=spark.createDataFrame(emp,emp_schema)"
      ],
      "metadata": {
        "id": "5LJTs1H8id9p"
      },
      "execution_count": 71,
      "outputs": []
    },
    {
      "cell_type": "code",
      "source": [
        "employee_df.show()"
      ],
      "metadata": {
        "colab": {
          "base_uri": "https://localhost:8080/"
        },
        "id": "G1mwecBKisDt",
        "outputId": "d6cba2db-707c-4d56-889a-824b7e704cc9"
      },
      "execution_count": 72,
      "outputs": [
        {
          "output_type": "stream",
          "name": "stdout",
          "text": [
            "+---------+----------+-------+------+-------+\n",
            "|     name|  location|dept_id|gender| salary|\n",
            "+---------+----------+-------+------+-------+\n",
            "|    pavan|vijayawada|     10|     M|  30000|\n",
            "|   anusha| hyderabad|     20|     F|  75000|\n",
            "|  dwaraka| hyderabad|     40|     M|  80000|\n",
            "|   ramsai|   nellore|     50|     M|  50000|\n",
            "|venkatesh| bimavaram|     60|     M|  45000|\n",
            "|   swapna|    sydney|     80|     F| 200000|\n",
            "|    chung|     china|    110|     F|3000000|\n",
            "+---------+----------+-------+------+-------+\n",
            "\n"
          ]
        }
      ]
    },
    {
      "cell_type": "code",
      "source": [
        "department=[(\"bigdata\",10),\n",
        "            (\"mainframes\",20),\n",
        "            (\"datascience\",30),\n",
        "            (\"performance_testing\",40),\n",
        "            (\"banking\",50),\n",
        "            (\"animation\",60),\n",
        "            (\"digital_marketing\",70),\n",
        "            (\"manager\",80),\n",
        "            (\"delivery_manager\",90),\n",
        "            (\"product_owner\",100)]"
      ],
      "metadata": {
        "id": "neTlm4yziwcm"
      },
      "execution_count": 73,
      "outputs": []
    },
    {
      "cell_type": "code",
      "source": [
        "dept_schema=StructType([StructField(\"dept_name\",StringType()),\n",
        "                        StructField(\"dept_id\",IntegerType())])"
      ],
      "metadata": {
        "id": "D1aT1a8XlnKt"
      },
      "execution_count": 74,
      "outputs": []
    },
    {
      "cell_type": "code",
      "source": [
        "department_df=spark.createDataFrame(department,dept_schema)"
      ],
      "metadata": {
        "id": "rMFcBv_0mkB-"
      },
      "execution_count": 75,
      "outputs": []
    },
    {
      "cell_type": "code",
      "source": [
        "department_df.show()"
      ],
      "metadata": {
        "colab": {
          "base_uri": "https://localhost:8080/"
        },
        "id": "4MSFPVbXm17N",
        "outputId": "b7afaf3f-a013-4cec-9355-8f4d6a4655fe"
      },
      "execution_count": 76,
      "outputs": [
        {
          "output_type": "stream",
          "name": "stdout",
          "text": [
            "+-------------------+-------+\n",
            "|          dept_name|dept_id|\n",
            "+-------------------+-------+\n",
            "|            bigdata|     10|\n",
            "|         mainframes|     20|\n",
            "|        datascience|     30|\n",
            "|performance_testing|     40|\n",
            "|            banking|     50|\n",
            "|          animation|     60|\n",
            "|  digital_marketing|     70|\n",
            "|            manager|     80|\n",
            "|   delivery_manager|     90|\n",
            "|      product_owner|    100|\n",
            "+-------------------+-------+\n",
            "\n"
          ]
        }
      ]
    },
    {
      "cell_type": "markdown",
      "source": [
        "#inner join\n",
        "#df1.join(df2,identical_column,\"inner\")"
      ],
      "metadata": {
        "id": "ph83dDqrnQ65"
      }
    },
    {
      "cell_type": "code",
      "source": [
        "innerjoin_df=employee_df.join(department_df,employee_df.dept_id==department_df.dept_id,\"inner\")"
      ],
      "metadata": {
        "id": "kHFOgTMSm52R"
      },
      "execution_count": 77,
      "outputs": []
    },
    {
      "cell_type": "markdown",
      "source": [
        "#####ordering by any column"
      ],
      "metadata": {
        "id": "F-WwAiyD1I0h"
      }
    },
    {
      "cell_type": "code",
      "source": [
        "sorted_innerjoin_df=innerjoin_df.orderBy(col(\"name\").desc())"
      ],
      "metadata": {
        "id": "GZFfMEc4oLGZ"
      },
      "execution_count": 80,
      "outputs": []
    },
    {
      "cell_type": "code",
      "source": [
        "sorted_innerjoin_df.show()"
      ],
      "metadata": {
        "colab": {
          "base_uri": "https://localhost:8080/"
        },
        "id": "sZxToF_crZ77",
        "outputId": "5e18089c-7e52-4d81-c585-894028081f4a"
      },
      "execution_count": 81,
      "outputs": [
        {
          "output_type": "stream",
          "name": "stdout",
          "text": [
            "+---------+----------+-------+------+------+-------------------+-------+\n",
            "|     name|  location|dept_id|gender|salary|          dept_name|dept_id|\n",
            "+---------+----------+-------+------+------+-------------------+-------+\n",
            "|venkatesh| bimavaram|     60|     M| 45000|          animation|     60|\n",
            "|   swapna|    sydney|     80|     F|200000|            manager|     80|\n",
            "|   ramsai|   nellore|     50|     M| 50000|            banking|     50|\n",
            "|    pavan|vijayawada|     10|     M| 30000|            bigdata|     10|\n",
            "|  dwaraka| hyderabad|     40|     M| 80000|performance_testing|     40|\n",
            "|   anusha| hyderabad|     20|     F| 75000|         mainframes|     20|\n",
            "+---------+----------+-------+------+------+-------------------+-------+\n",
            "\n"
          ]
        }
      ]
    },
    {
      "cell_type": "code",
      "source": [
        "sorted_innerjoin_df2=innerjoin_df.orderBy(\"salary\",ascending=True)"
      ],
      "metadata": {
        "id": "rI6KbvCHw2hN"
      },
      "execution_count": 89,
      "outputs": []
    },
    {
      "cell_type": "code",
      "source": [
        "sorted_innerjoin_df2.show()"
      ],
      "metadata": {
        "colab": {
          "base_uri": "https://localhost:8080/"
        },
        "id": "SZGVCH3zxrUC",
        "outputId": "93a108c6-ba11-4f56-c334-dc83b04e7884"
      },
      "execution_count": 90,
      "outputs": [
        {
          "output_type": "stream",
          "name": "stdout",
          "text": [
            "+---------+----------+-------+------+------+-------------------+-------+\n",
            "|     name|  location|dept_id|gender|salary|          dept_name|dept_id|\n",
            "+---------+----------+-------+------+------+-------------------+-------+\n",
            "|    pavan|vijayawada|     10|     M| 30000|            bigdata|     10|\n",
            "|venkatesh| bimavaram|     60|     M| 45000|          animation|     60|\n",
            "|   ramsai|   nellore|     50|     M| 50000|            banking|     50|\n",
            "|   anusha| hyderabad|     20|     F| 75000|         mainframes|     20|\n",
            "|  dwaraka| hyderabad|     40|     M| 80000|performance_testing|     40|\n",
            "|   swapna|    sydney|     80|     F|200000|            manager|     80|\n",
            "+---------+----------+-------+------+------+-------------------+-------+\n",
            "\n"
          ]
        }
      ]
    },
    {
      "cell_type": "markdown",
      "source": [
        "#####ordering by common column her dept_id"
      ],
      "metadata": {
        "id": "FFOMm5J_1TDV"
      }
    },
    {
      "cell_type": "code",
      "source": [
        "innerjoinsort_df=employee_df.join(department_df,\"dept_id\",\"inner\")"
      ],
      "metadata": {
        "id": "WeuKoDV9xvMB"
      },
      "execution_count": 92,
      "outputs": []
    },
    {
      "cell_type": "code",
      "source": [
        "alias_innerjoin_join=innerjoinsort_df.alias(\"empdept\")"
      ],
      "metadata": {
        "id": "JczGFzTbyW16"
      },
      "execution_count": 104,
      "outputs": []
    },
    {
      "cell_type": "code",
      "source": [
        "orderby_deptid_innerjoin_df=alias_innerjoin_join.orderBy(\"empdept.dept_id\",ascending=True)"
      ],
      "metadata": {
        "id": "Q392SQ0ky37R"
      },
      "execution_count": 105,
      "outputs": []
    },
    {
      "cell_type": "code",
      "source": [
        "orderby_deptid_innerjoin_df.show()"
      ],
      "metadata": {
        "colab": {
          "base_uri": "https://localhost:8080/"
        },
        "id": "nvSH3-0Zzw3Y",
        "outputId": "fbd180d3-792d-4792-d989-2ab27f7fa54c"
      },
      "execution_count": 106,
      "outputs": [
        {
          "output_type": "stream",
          "name": "stdout",
          "text": [
            "+-------+---------+----------+------+------+-------------------+\n",
            "|dept_id|     name|  location|gender|salary|          dept_name|\n",
            "+-------+---------+----------+------+------+-------------------+\n",
            "|     10|    pavan|vijayawada|     M| 30000|            bigdata|\n",
            "|     20|   anusha| hyderabad|     F| 75000|         mainframes|\n",
            "|     40|  dwaraka| hyderabad|     M| 80000|performance_testing|\n",
            "|     50|   ramsai|   nellore|     M| 50000|            banking|\n",
            "|     60|venkatesh| bimavaram|     M| 45000|          animation|\n",
            "|     80|   swapna|    sydney|     F|200000|            manager|\n",
            "+-------+---------+----------+------+------+-------------------+\n",
            "\n"
          ]
        }
      ]
    },
    {
      "cell_type": "markdown",
      "source": [
        "####left outer join\n",
        "######for left outer join left can be used or leftOuter also can be used"
      ],
      "metadata": {
        "id": "EEYroePq2J_q"
      }
    },
    {
      "cell_type": "code",
      "source": [
        "leftouterjoin_df=employee_df.join(department_df,\"dept_id\",\"leftOuter\")"
      ],
      "metadata": {
        "id": "ig3qIuHPz-2z"
      },
      "execution_count": 107,
      "outputs": []
    },
    {
      "cell_type": "code",
      "source": [
        "alias_leftouterjoin=leftouterjoin_df.alias(\"lefttable\")"
      ],
      "metadata": {
        "id": "CqbQ1WAL2D1m"
      },
      "execution_count": 108,
      "outputs": []
    },
    {
      "cell_type": "code",
      "source": [
        "orderby_lefttable_deptid_df=alias_leftouterjoin.orderBy(col(\"lefttable.dept_id\").asc())"
      ],
      "metadata": {
        "id": "vDwkp0Ip2_9a"
      },
      "execution_count": 113,
      "outputs": []
    },
    {
      "cell_type": "code",
      "source": [
        "orderby_lefttable_deptid_df.show()"
      ],
      "metadata": {
        "colab": {
          "base_uri": "https://localhost:8080/"
        },
        "id": "YnZa-jpY3h-K",
        "outputId": "3ca3f64b-b3d1-4885-88e7-ff2aa18e20fc"
      },
      "execution_count": 114,
      "outputs": [
        {
          "output_type": "stream",
          "name": "stdout",
          "text": [
            "+-------+---------+----------+------+-------+-------------------+\n",
            "|dept_id|     name|  location|gender| salary|          dept_name|\n",
            "+-------+---------+----------+------+-------+-------------------+\n",
            "|     10|    pavan|vijayawada|     M|  30000|            bigdata|\n",
            "|     20|   anusha| hyderabad|     F|  75000|         mainframes|\n",
            "|     40|  dwaraka| hyderabad|     M|  80000|performance_testing|\n",
            "|     50|   ramsai|   nellore|     M|  50000|            banking|\n",
            "|     60|venkatesh| bimavaram|     M|  45000|          animation|\n",
            "|     80|   swapna|    sydney|     F| 200000|            manager|\n",
            "|    110|    chung|     china|     F|3000000|               null|\n",
            "+-------+---------+----------+------+-------+-------------------+\n",
            "\n"
          ]
        }
      ]
    },
    {
      "cell_type": "markdown",
      "source": [
        "####rightouter join\n",
        "######for right outer join right can be used or rightOuter also can be used"
      ],
      "metadata": {
        "id": "JINWKtFg4ucx"
      }
    },
    {
      "cell_type": "code",
      "source": [
        "rightouterjoin_df=employee_df.join(department_df,\"dept_id\",\"right\")"
      ],
      "metadata": {
        "id": "EznEzF3Q4s65"
      },
      "execution_count": 116,
      "outputs": []
    },
    {
      "cell_type": "code",
      "source": [
        "alias_rightouterjoin=rightouterjoin_df.alias(\"righttable\")"
      ],
      "metadata": {
        "id": "LFp0um324iJI"
      },
      "execution_count": 117,
      "outputs": []
    },
    {
      "cell_type": "code",
      "source": [
        "orderby_righttable_deptid_df=alias_rightouterjoin.orderBy(\"righttable.dept_id\",ascending=True)"
      ],
      "metadata": {
        "id": "vGudqQHD6szL"
      },
      "execution_count": 118,
      "outputs": []
    },
    {
      "cell_type": "code",
      "source": [
        "orderby_righttable_deptid_df.show()"
      ],
      "metadata": {
        "colab": {
          "base_uri": "https://localhost:8080/"
        },
        "id": "1LjPH6Qd7Ws0",
        "outputId": "4ffe75ee-9510-4eeb-9eb3-f26e735bbd44"
      },
      "execution_count": 119,
      "outputs": [
        {
          "output_type": "stream",
          "name": "stdout",
          "text": [
            "+-------+---------+----------+------+------+-------------------+\n",
            "|dept_id|     name|  location|gender|salary|          dept_name|\n",
            "+-------+---------+----------+------+------+-------------------+\n",
            "|     10|    pavan|vijayawada|     M| 30000|            bigdata|\n",
            "|     20|   anusha| hyderabad|     F| 75000|         mainframes|\n",
            "|     30|     null|      null|  null|  null|        datascience|\n",
            "|     40|  dwaraka| hyderabad|     M| 80000|performance_testing|\n",
            "|     50|   ramsai|   nellore|     M| 50000|            banking|\n",
            "|     60|venkatesh| bimavaram|     M| 45000|          animation|\n",
            "|     70|     null|      null|  null|  null|  digital_marketing|\n",
            "|     80|   swapna|    sydney|     F|200000|            manager|\n",
            "|     90|     null|      null|  null|  null|   delivery_manager|\n",
            "|    100|     null|      null|  null|  null|      product_owner|\n",
            "+-------+---------+----------+------+------+-------------------+\n",
            "\n"
          ]
        }
      ]
    },
    {
      "cell_type": "markdown",
      "source": [
        "###Fullouterjoin\n",
        "##### we can use either full or fullOuter or outer\n",
        "\n",
        "```\n",
        "# This is formatted as code\n",
        "```\n",
        "\n"
      ],
      "metadata": {
        "id": "sZyRXCzZ7pZn"
      }
    },
    {
      "cell_type": "code",
      "source": [
        "fullouterjoindf=employee_df.join(department_df,\"dept_id\",\"full\")"
      ],
      "metadata": {
        "id": "48y3n6Y37l5Q"
      },
      "execution_count": 122,
      "outputs": []
    },
    {
      "cell_type": "markdown",
      "source": [
        "#####in full outer join ther no ambiguity of common coloumn selection like from employee table or department table"
      ],
      "metadata": {
        "id": "EqplMhqp9ioU"
      }
    },
    {
      "cell_type": "code",
      "source": [
        "sorted_fullouterjoindf=fullouterjoindf.orderBy(col(\"dept_id\").asc())"
      ],
      "metadata": {
        "id": "Weom2hwV7bOp"
      },
      "execution_count": 125,
      "outputs": []
    },
    {
      "cell_type": "code",
      "source": [
        "sorted_fullouterjoindf.show()"
      ],
      "metadata": {
        "colab": {
          "base_uri": "https://localhost:8080/"
        },
        "id": "VdgUzBbr83XM",
        "outputId": "a7a84c3c-3193-4c82-92db-ab84e56c6a9a"
      },
      "execution_count": 126,
      "outputs": [
        {
          "output_type": "stream",
          "name": "stdout",
          "text": [
            "+-------+---------+----------+------+-------+-------------------+\n",
            "|dept_id|     name|  location|gender| salary|          dept_name|\n",
            "+-------+---------+----------+------+-------+-------------------+\n",
            "|     10|    pavan|vijayawada|     M|  30000|            bigdata|\n",
            "|     20|   anusha| hyderabad|     F|  75000|         mainframes|\n",
            "|     30|     null|      null|  null|   null|        datascience|\n",
            "|     40|  dwaraka| hyderabad|     M|  80000|performance_testing|\n",
            "|     50|   ramsai|   nellore|     M|  50000|            banking|\n",
            "|     60|venkatesh| bimavaram|     M|  45000|          animation|\n",
            "|     70|     null|      null|  null|   null|  digital_marketing|\n",
            "|     80|   swapna|    sydney|     F| 200000|            manager|\n",
            "|     90|     null|      null|  null|   null|   delivery_manager|\n",
            "|    100|     null|      null|  null|   null|      product_owner|\n",
            "|    110|    chung|     china|     F|3000000|               null|\n",
            "+-------+---------+----------+------+-------+-------------------+\n",
            "\n"
          ]
        }
      ]
    },
    {
      "cell_type": "markdown",
      "source": [
        "####when you find the columns are maching but column names are different use withcolumnRenamed so that you can join two tables easily"
      ],
      "metadata": {
        "id": "8l3UXy2cKLjk"
      }
    },
    {
      "cell_type": "code",
      "source": [
        "employeedf_newdf=employee_df.withColumnRenamed(\"dept_id\",\"desig\")"
      ],
      "metadata": {
        "id": "Snwqei18-Dn5"
      },
      "execution_count": 129,
      "outputs": []
    },
    {
      "cell_type": "code",
      "source": [
        "employeedf_newdf.show()"
      ],
      "metadata": {
        "colab": {
          "base_uri": "https://localhost:8080/"
        },
        "id": "3wAkh4K_JrEI",
        "outputId": "42649197-555f-4122-8579-0bdca6b04de3"
      },
      "execution_count": 130,
      "outputs": [
        {
          "output_type": "stream",
          "name": "stdout",
          "text": [
            "+---------+----------+-----+------+-------+\n",
            "|     name|  location|desig|gender| salary|\n",
            "+---------+----------+-----+------+-------+\n",
            "|    pavan|vijayawada|   10|     M|  30000|\n",
            "|   anusha| hyderabad|   20|     F|  75000|\n",
            "|  dwaraka| hyderabad|   40|     M|  80000|\n",
            "|   ramsai|   nellore|   50|     M|  50000|\n",
            "|venkatesh| bimavaram|   60|     M|  45000|\n",
            "|   swapna|    sydney|   80|     F| 200000|\n",
            "|    chung|     china|  110|     F|3000000|\n",
            "+---------+----------+-----+------+-------+\n",
            "\n"
          ]
        }
      ]
    },
    {
      "cell_type": "code",
      "source": [
        "departmentdf_newdf=department_df.withColumnRenamed(\"dept_id\",\"desig\")"
      ],
      "metadata": {
        "id": "E2pWkhKuKAL-"
      },
      "execution_count": 131,
      "outputs": []
    },
    {
      "cell_type": "code",
      "source": [
        "departmentdf_newdf.show()"
      ],
      "metadata": {
        "colab": {
          "base_uri": "https://localhost:8080/"
        },
        "id": "r1jMe-LeK2qd",
        "outputId": "51423ce8-b0f6-4672-c35a-b520a2702d80"
      },
      "execution_count": 132,
      "outputs": [
        {
          "output_type": "stream",
          "name": "stdout",
          "text": [
            "+-------------------+-----+\n",
            "|          dept_name|desig|\n",
            "+-------------------+-----+\n",
            "|            bigdata|   10|\n",
            "|         mainframes|   20|\n",
            "|        datascience|   30|\n",
            "|performance_testing|   40|\n",
            "|            banking|   50|\n",
            "|          animation|   60|\n",
            "|  digital_marketing|   70|\n",
            "|            manager|   80|\n",
            "|   delivery_manager|   90|\n",
            "|      product_owner|  100|\n",
            "+-------------------+-----+\n",
            "\n"
          ]
        }
      ]
    },
    {
      "cell_type": "code",
      "source": [
        "innerjoined_newdf=employeedf_newdf.join(departmentdf_newdf,\"desig\",\"inner\")"
      ],
      "metadata": {
        "id": "I10sERbpK8e5"
      },
      "execution_count": 133,
      "outputs": []
    },
    {
      "cell_type": "code",
      "source": [
        "innerjoined_newdf.show()"
      ],
      "metadata": {
        "colab": {
          "base_uri": "https://localhost:8080/"
        },
        "id": "Yr5X7DYaLYC4",
        "outputId": "1b5678ec-d143-47ff-d0f6-22a83571e162"
      },
      "execution_count": 134,
      "outputs": [
        {
          "output_type": "stream",
          "name": "stdout",
          "text": [
            "+-----+---------+----------+------+------+-------------------+\n",
            "|desig|     name|  location|gender|salary|          dept_name|\n",
            "+-----+---------+----------+------+------+-------------------+\n",
            "|   20|   anusha| hyderabad|     F| 75000|         mainframes|\n",
            "|   40|  dwaraka| hyderabad|     M| 80000|performance_testing|\n",
            "|   10|    pavan|vijayawada|     M| 30000|            bigdata|\n",
            "|   50|   ramsai|   nellore|     M| 50000|            banking|\n",
            "|   80|   swapna|    sydney|     F|200000|            manager|\n",
            "|   60|venkatesh| bimavaram|     M| 45000|          animation|\n",
            "+-----+---------+----------+------+------+-------------------+\n",
            "\n"
          ]
        }
      ]
    },
    {
      "cell_type": "markdown",
      "source": [
        "##leftsemi join gives only machining records from left table if there are matching records in right table right table records will not show"
      ],
      "metadata": {
        "id": "JgTIVahKM57Y"
      }
    },
    {
      "cell_type": "code",
      "source": [
        "innerjoined_df=employee_df.join(department_df,\"dept_id\",\"inner\")"
      ],
      "metadata": {
        "id": "_5OeE9FuLciY"
      },
      "execution_count": 135,
      "outputs": []
    },
    {
      "cell_type": "code",
      "source": [
        "innerjoined_df.show()"
      ],
      "metadata": {
        "colab": {
          "base_uri": "https://localhost:8080/"
        },
        "id": "nJ39Cdo3NyA9",
        "outputId": "6fd3d6d9-a8da-451c-af61-cf203eb40747"
      },
      "execution_count": 136,
      "outputs": [
        {
          "output_type": "stream",
          "name": "stdout",
          "text": [
            "+-------+---------+----------+------+------+-------------------+\n",
            "|dept_id|     name|  location|gender|salary|          dept_name|\n",
            "+-------+---------+----------+------+------+-------------------+\n",
            "|     20|   anusha| hyderabad|     F| 75000|         mainframes|\n",
            "|     40|  dwaraka| hyderabad|     M| 80000|performance_testing|\n",
            "|     10|    pavan|vijayawada|     M| 30000|            bigdata|\n",
            "|     50|   ramsai|   nellore|     M| 50000|            banking|\n",
            "|     80|   swapna|    sydney|     F|200000|            manager|\n",
            "|     60|venkatesh| bimavaram|     M| 45000|          animation|\n",
            "+-------+---------+----------+------+------+-------------------+\n",
            "\n"
          ]
        }
      ]
    },
    {
      "cell_type": "markdown",
      "source": [
        "###department column is comming in inner join but in left semi there is no department column that is the difference between inner join and left semi.right table columns which are matching in inner join will not come in left semi join."
      ],
      "metadata": {
        "id": "_VSOrJqyTbyc"
      }
    },
    {
      "cell_type": "code",
      "source": [
        "leftsemijoined_df=employee_df.join(department_df,\"dept_id\",\"left_semi\")"
      ],
      "metadata": {
        "id": "JSF-0M6sN1ho"
      },
      "execution_count": 146,
      "outputs": []
    },
    {
      "cell_type": "code",
      "source": [
        "leftsemijoined_df.show()"
      ],
      "metadata": {
        "colab": {
          "base_uri": "https://localhost:8080/"
        },
        "id": "1Xodzzj4OJq5",
        "outputId": "1c5bac82-b3c5-4b4f-b5e2-2e17494cb2ed"
      },
      "execution_count": 147,
      "outputs": [
        {
          "output_type": "stream",
          "name": "stdout",
          "text": [
            "+-------+---------+----------+------+------+\n",
            "|dept_id|     name|  location|gender|salary|\n",
            "+-------+---------+----------+------+------+\n",
            "|     20|   anusha| hyderabad|     F| 75000|\n",
            "|     40|  dwaraka| hyderabad|     M| 80000|\n",
            "|     10|    pavan|vijayawada|     M| 30000|\n",
            "|     50|   ramsai|   nellore|     M| 50000|\n",
            "|     80|   swapna|    sydney|     F|200000|\n",
            "|     60|venkatesh| bimavaram|     M| 45000|\n",
            "+-------+---------+----------+------+------+\n",
            "\n"
          ]
        }
      ]
    },
    {
      "cell_type": "code",
      "source": [
        "semijoined_df=employee_df.join(department_df,\"dept_id\",\"semi\")"
      ],
      "metadata": {
        "id": "n-1JTxtWPL-1"
      },
      "execution_count": 151,
      "outputs": []
    },
    {
      "cell_type": "code",
      "source": [
        "semijoined_df.show()"
      ],
      "metadata": {
        "colab": {
          "base_uri": "https://localhost:8080/"
        },
        "id": "g0SxsIapQEbL",
        "outputId": "76ea135a-3755-4be6-e038-71f539e921dc"
      },
      "execution_count": 152,
      "outputs": [
        {
          "output_type": "stream",
          "name": "stdout",
          "text": [
            "+-------+---------+----------+------+------+\n",
            "|dept_id|     name|  location|gender|salary|\n",
            "+-------+---------+----------+------+------+\n",
            "|     20|   anusha| hyderabad|     F| 75000|\n",
            "|     40|  dwaraka| hyderabad|     M| 80000|\n",
            "|     10|    pavan|vijayawada|     M| 30000|\n",
            "|     50|   ramsai|   nellore|     M| 50000|\n",
            "|     80|   swapna|    sydney|     F|200000|\n",
            "|     60|venkatesh| bimavaram|     M| 45000|\n",
            "+-------+---------+----------+------+------+\n",
            "\n"
          ]
        }
      ]
    },
    {
      "cell_type": "markdown",
      "source": [
        "##leftAnti join brings records from the left table which are not matching with records in the right table"
      ],
      "metadata": {
        "id": "U9VkXNH7RjzK"
      }
    },
    {
      "cell_type": "code",
      "source": [
        "leftantijoined_df=employee_df.join(department_df,\"dept_id\",\"leftAnti\")"
      ],
      "metadata": {
        "id": "f2mQUnm9Qor4"
      },
      "execution_count": 153,
      "outputs": []
    },
    {
      "cell_type": "code",
      "source": [
        "leftantijoined_df.show()"
      ],
      "metadata": {
        "colab": {
          "base_uri": "https://localhost:8080/"
        },
        "id": "zKv7mihpSH8P",
        "outputId": "11023411-adb6-42af-e495-fb4133146892"
      },
      "execution_count": 154,
      "outputs": [
        {
          "output_type": "stream",
          "name": "stdout",
          "text": [
            "+-------+-----+--------+------+-------+\n",
            "|dept_id| name|location|gender| salary|\n",
            "+-------+-----+--------+------+-------+\n",
            "|    110|chung|   china|     F|3000000|\n",
            "+-------+-----+--------+------+-------+\n",
            "\n"
          ]
        }
      ]
    },
    {
      "cell_type": "code",
      "source": [],
      "metadata": {
        "id": "GH4wFyj-SNcc"
      },
      "execution_count": null,
      "outputs": []
    }
  ]
}