{
  "nbformat": 4,
  "nbformat_minor": 0,
  "metadata": {
    "colab": {
      "provenance": []
    },
    "kernelspec": {
      "name": "python3",
      "display_name": "Python 3"
    },
    "language_info": {
      "name": "python"
    }
  },
  "cells": [
    {
      "cell_type": "code",
      "execution_count": null,
      "metadata": {
        "id": "L7LOEGrQc7--"
      },
      "outputs": [],
      "source": [
        "!apt-get install openjdk-8-jdk-headless -qq > /dev/null\n",
        "!wget -q http://archive.apache.org/dist/spark/spark-3.1.1/spark-3.1.1-bin-hadoop3.2.tgz\n",
        "!tar xf spark-3.1.1-bin-hadoop3.2.tgz\n",
        "!pip install -q findspark"
      ]
    },
    {
      "cell_type": "code",
      "source": [
        "import os\n",
        "os.environ[\"JAVA_HOME\"] = \"/usr/lib/jvm/java-8-openjdk-amd64\"\n",
        "os.environ[\"SPARK_HOME\"] = \"/content/spark-3.1.1-bin-hadoop3.2\""
      ],
      "metadata": {
        "id": "X4zURdbRdnbb"
      },
      "execution_count": null,
      "outputs": []
    },
    {
      "cell_type": "code",
      "source": [
        "!ls"
      ],
      "metadata": {
        "colab": {
          "base_uri": "https://localhost:8080/"
        },
        "id": "ZHphwKvUdueo",
        "outputId": "ff8d6245-1f95-48f1-d77a-e71f54d6902e"
      },
      "execution_count": null,
      "outputs": [
        {
          "output_type": "stream",
          "name": "stdout",
          "text": [
            "custs1.txt   spark-3.1.1-bin-hadoop3.2\n",
            "sample_data  spark-3.1.1-bin-hadoop3.2.tgz\n"
          ]
        }
      ]
    },
    {
      "cell_type": "code",
      "source": [
        "import findspark\n",
        "findspark.init()\n",
        "from pyspark.sql import SparkSession\n",
        "spark = SparkSession.builder.master(\"local[*]\").getOrCreate()\n",
        "spark.conf.set(\"spark.sql.repl.eagerEval.enabled\", True) # Property used to format output tables better\n",
        "spark"
      ],
      "metadata": {
        "colab": {
          "base_uri": "https://localhost:8080/",
          "height": 219
        },
        "id": "BMIXv7jYeNqz",
        "outputId": "ac416acb-eee5-48fb-c5e1-fa86dc2fc71b"
      },
      "execution_count": null,
      "outputs": [
        {
          "output_type": "execute_result",
          "data": {
            "text/plain": [
              "<pyspark.sql.session.SparkSession at 0x7c92441e03d0>"
            ],
            "text/html": [
              "\n",
              "            <div>\n",
              "                <p><b>SparkSession - in-memory</b></p>\n",
              "                \n",
              "        <div>\n",
              "            <p><b>SparkContext</b></p>\n",
              "\n",
              "            <p><a href=\"http://5159cb26314e:4040\">Spark UI</a></p>\n",
              "\n",
              "            <dl>\n",
              "              <dt>Version</dt>\n",
              "                <dd><code>v3.1.1</code></dd>\n",
              "              <dt>Master</dt>\n",
              "                <dd><code>local[*]</code></dd>\n",
              "              <dt>AppName</dt>\n",
              "                <dd><code>pyspark-shell</code></dd>\n",
              "            </dl>\n",
              "        </div>\n",
              "        \n",
              "            </div>\n",
              "        "
            ]
          },
          "metadata": {},
          "execution_count": 4
        }
      ]
    },
    {
      "cell_type": "code",
      "source": [
        "df = spark.read.option(\"header\", True).option(\"inferSchema\", True).csv(\"/content/custs1.txt\")\n"
      ],
      "metadata": {
        "id": "hO7-dCQGfqTQ"
      },
      "execution_count": null,
      "outputs": []
    },
    {
      "cell_type": "code",
      "source": [
        "df.printSchema()"
      ],
      "metadata": {
        "colab": {
          "base_uri": "https://localhost:8080/"
        },
        "id": "X0x94lZLhTFQ",
        "outputId": "89e01aa7-fda9-4a54-f80f-ea7de9228ea9"
      },
      "execution_count": null,
      "outputs": [
        {
          "output_type": "stream",
          "name": "stdout",
          "text": [
            "root\n",
            " |-- cid: integer (nullable = true)\n",
            " |-- f_name: string (nullable = true)\n",
            " |-- l_name: string (nullable = true)\n",
            " |-- age: integer (nullable = true)\n",
            " |-- desig: string (nullable = true)\n",
            "\n"
          ]
        }
      ]
    },
    {
      "cell_type": "code",
      "source": [
        "from pyspark.sql.functions import col"
      ],
      "metadata": {
        "id": "O4zgg8FUhEmj"
      },
      "execution_count": null,
      "outputs": []
    },
    {
      "cell_type": "code",
      "source": [
        "#1.to select the records f_name,l_name,age where age>40\n",
        "df.select('f_name','l_name','age').where('age> 40').show()"
      ],
      "metadata": {
        "colab": {
          "base_uri": "https://localhost:8080/"
        },
        "id": "mWnIlCogOZb4",
        "outputId": "acd27fdf-a3d5-4027-f648-7046f9590d83"
      },
      "execution_count": null,
      "outputs": [
        {
          "output_type": "stream",
          "name": "stdout",
          "text": [
            "+--------+----------+---+\n",
            "|  f_name|    l_name|age|\n",
            "+--------+----------+---+\n",
            "|Kristina|     Chung| 55|\n",
            "|   Paige|      Chen| 74|\n",
            "|Gretchen|      Hill| 66|\n",
            "|   Karen|   Puckett| 74|\n",
            "| Patrick|      Song| 42|\n",
            "|   Elsie|  Hamilton| 43|\n",
            "|   Hazel|    Bender| 63|\n",
            "| Dolores|McLaughlin| 60|\n",
            "| Francis|  McNamara| 47|\n",
            "|  Marion|      Moon| 41|\n",
            "|    Beth|   Woodard| 65|\n",
            "|   Julia|     Desai| 49|\n",
            "|  Jerome|   Wallace| 52|\n",
            "|    Neal|  Lawrence| 72|\n",
            "|    Jean|   Griffin| 45|\n",
            "|Kristine| Dougherty| 63|\n",
            "| Crystal|    Powers| 67|\n",
            "|    Eric|    Steele| 66|\n",
            "|  Wesley|    Teague| 42|\n",
            "|  Claire| Gallagher| 42|\n",
            "+--------+----------+---+\n",
            "only showing top 20 rows\n",
            "\n"
          ]
        }
      ]
    },
    {
      "cell_type": "code",
      "source": [
        "#2.to get records which f_name starts with s\n",
        "df.where(col(\"f_name\").startswith(\"S\")).show()"
      ],
      "metadata": {
        "colab": {
          "base_uri": "https://localhost:8080/"
        },
        "id": "k85kSDpof-_3",
        "outputId": "1bd0405a-25f4-4bcb-c5a1-6d1857fd76f1"
      },
      "execution_count": null,
      "outputs": [
        {
          "output_type": "stream",
          "name": "stdout",
          "text": [
            "+-------+---------+-------+---+--------------------+\n",
            "|    cid|   f_name| l_name|age|               desig|\n",
            "+-------+---------+-------+---+--------------------+\n",
            "|4000003|   Sherri| Melton| 34|         Firefighter|\n",
            "|4000012|    Sandy| Raynor| 26|              Writer|\n",
            "|4000030|Stephanie|Hawkins| 50|Human resources a...|\n",
            "|4000035|  Shelley|  Weeks| 25|            Reporter|\n",
            "|4000052|  Shirley|Merritt| 21|            Reporter|\n",
            "|4000058|    Scott|  Hoyle| 40|              Doctor|\n",
            "|4000077| Samantha| Hardin| 27|              Doctor|\n",
            "|4000078|     Sara|  Lucas| 44|        Loan officer|\n",
            "|4000079|    Stacy|  Eason| 31|            Musician|\n",
            "|4000087|    Steve| Graves| 73|               Nurse|\n",
            "|4000089|   Sherri| Sutton| 75|       Social worker|\n",
            "|4000092|    Stacy|  Olsen| 25|        Veterinarian|\n",
            "|4000101|    Scott| Golden| 27|             Teacher|\n",
            "|4000108|    Shawn| Boykin| 34|        Photographer|\n",
            "|4000120|     Sara|Perkins| 67|               Actor|\n",
            "|4000133| Samantha|  Floyd| 72|    Childcare worker|\n",
            "|4000140|   Sidney|   Lane| 54|        Statistician|\n",
            "|4000142|   Sandra| Heller| 51|        Photographer|\n",
            "|4000171|  Stephen|  Finch| 30|               Coach|\n",
            "|4000184|    Sarah|    Fox| 73|        Psychologist|\n",
            "+-------+---------+-------+---+--------------------+\n",
            "only showing top 20 rows\n",
            "\n"
          ]
        }
      ]
    },
    {
      "cell_type": "code",
      "source": [
        "#3.use the like operatore l_name starts with f\n",
        "df.where(col(\"l_name\").like(\"F%\")).show()"
      ],
      "metadata": {
        "colab": {
          "base_uri": "https://localhost:8080/"
        },
        "id": "pAjE2XXZhgLg",
        "outputId": "4ee0dcea-831e-467b-eae8-3165fda2af21"
      },
      "execution_count": null,
      "outputs": [
        {
          "output_type": "stream",
          "name": "stdout",
          "text": [
            "+-------+--------+--------+---+--------------------+\n",
            "|    cid|  f_name|  l_name|age|               desig|\n",
            "+-------+--------+--------+---+--------------------+\n",
            "|4000133|Samantha|   Floyd| 72|    Childcare worker|\n",
            "|4000135| Vincent| Fischer| 33|        Statistician|\n",
            "|4000162|   Bruce| Farrell| 35|           Librarian|\n",
            "|4000171| Stephen|   Finch| 30|               Coach|\n",
            "|4000184|   Sarah|     Fox| 73|        Psychologist|\n",
            "|4000265|   Stacy| Frazier| 69|            Designer|\n",
            "|4000303|    Erin|   Finch| 54|      Police officer|\n",
            "|4000362|   Holly|     Fox| 74|           Physicist|\n",
            "|4000379|   Harry|  Foster| 50|               Coach|\n",
            "|4000444|  Thomas|  Fuller| 51|    Childcare worker|\n",
            "|4000455| Deborah|  French| 56|          Accountant|\n",
            "|4000459|Gretchen| Francis| 60|          Politician|\n",
            "|4000461|  Audrey| Forrest| 50|           Architect|\n",
            "|4000467|   Derek|Freedman| 66|Recreation and fi...|\n",
            "|4000514|  Nathan|    Ford| 36|   Financial analyst|\n",
            "|4000546|  Calvin|Fletcher| 55|               Judge|\n",
            "|4000585|  Lester|   Finch| 65|Human resources a...|\n",
            "|4000608|   Cathy| Freeman| 42|Computer hardware...|\n",
            "|4000633| Kristen|  Fisher| 59|Recreation and fi...|\n",
            "|4000646|  Bonnie|Friedman| 57|Computer hardware...|\n",
            "+-------+--------+--------+---+--------------------+\n",
            "only showing top 20 rows\n",
            "\n"
          ]
        }
      ]
    },
    {
      "cell_type": "code",
      "source": [
        "#get all records where design in ('Laywer','Pilot','Teacher')\n",
        "df.where(col('desig').isin('Lawyer','Teacher','Pilot')).show()"
      ],
      "metadata": {
        "colab": {
          "base_uri": "https://localhost:8080/"
        },
        "id": "bSep_InSQhO5",
        "outputId": "c0062c88-d389-4f0d-f82b-16bbe0df2363"
      },
      "execution_count": null,
      "outputs": [
        {
          "output_type": "stream",
          "name": "stdout",
          "text": [
            "+-------+---------+---------+---+-------+\n",
            "|    cid|   f_name|   l_name|age|  desig|\n",
            "+-------+---------+---------+---+-------+\n",
            "|4000001| Kristina|    Chung| 55|  Pilot|\n",
            "|4000002|    Paige|     Chen| 74|Teacher|\n",
            "|4000005|    Karen|  Puckett| 74| Lawyer|\n",
            "|4000007|    Elsie| Hamilton| 43|  Pilot|\n",
            "|4000026|   Marian|  Solomon| 27| Lawyer|\n",
            "|4000033|      Tim|    Watts| 58| Lawyer|\n",
            "|4000063|  Melinda|  Proctor| 27|Teacher|\n",
            "|4000101|    Scott|   Golden| 27|Teacher|\n",
            "|4000109|  Vincent|   Sumner| 31| Lawyer|\n",
            "|4000130|     Toni|    Glass| 46| Lawyer|\n",
            "|4000167|     Lynn|Robertson| 45| Lawyer|\n",
            "|4000195|   Claire|  Pickett| 59| Lawyer|\n",
            "|4000229|     Faye|   Norman| 64|  Pilot|\n",
            "|4000230|    Kathy|    Burch| 28|  Pilot|\n",
            "|4000251|   Jeremy|    House| 61|  Pilot|\n",
            "|4000271|    Alice|    Nance| 59|  Pilot|\n",
            "|4000322|Geraldine|   Jensen| 50|  Pilot|\n",
            "|4000336|   Steven|  Ballard| 62|  Pilot|\n",
            "|4000346|    Diana|    Crane| 26| Lawyer|\n",
            "|4000352|   Ernest|  Stanton| 51| Lawyer|\n",
            "+-------+---------+---------+---+-------+\n",
            "only showing top 20 rows\n",
            "\n"
          ]
        }
      ]
    },
    {
      "cell_type": "code",
      "source": [
        "#find the result where age >40 and the desig is pilot\n",
        "#both conditions need to be in bracket\n",
        "df.where((col('age') > 50) & (col('desig')==\"Pilot\")).show()"
      ],
      "metadata": {
        "colab": {
          "base_uri": "https://localhost:8080/"
        },
        "id": "sMH45rTkVSdl",
        "outputId": "7221a2c0-5d92-4edb-960d-22848d119630"
      },
      "execution_count": null,
      "outputs": [
        {
          "output_type": "stream",
          "name": "stdout",
          "text": [
            "+-------+----------+--------+---+-----+\n",
            "|    cid|    f_name|  l_name|age|desig|\n",
            "+-------+----------+--------+---+-----+\n",
            "|4000001|  Kristina|   Chung| 55|Pilot|\n",
            "|4000229|      Faye|  Norman| 64|Pilot|\n",
            "|4000251|    Jeremy|   House| 61|Pilot|\n",
            "|4000271|     Alice|   Nance| 59|Pilot|\n",
            "|4000336|    Steven| Ballard| 62|Pilot|\n",
            "|4000392|      Emma|   Olson| 74|Pilot|\n",
            "|4000403|       Leo|Lassiter| 65|Pilot|\n",
            "|4000423|      Alan|  O'Neal| 59|Pilot|\n",
            "|4000562|    Jordan|   Wrenn| 61|Pilot|\n",
            "|4000601|     Allan|  Nguyen| 51|Pilot|\n",
            "|4000893|      Gene|    Love| 59|Pilot|\n",
            "|4000912|     Maria|  Reilly| 64|Pilot|\n",
            "|4000958|     Danny|  Bowers| 72|Pilot|\n",
            "|4001039|   Dorothy|   Stone| 52|Pilot|\n",
            "|4001092|Jacqueline|Friedman| 55|Pilot|\n",
            "|4001250|  Nicholas| Leonard| 55|Pilot|\n",
            "|4001424|     Jesse|   Eaton| 58|Pilot|\n",
            "|4001428|   Deborah|   Britt| 64|Pilot|\n",
            "|4001489|   Gregory|Saunders| 63|Pilot|\n",
            "|4001494|     Jesse|  Peters| 56|Pilot|\n",
            "+-------+----------+--------+---+-----+\n",
            "only showing top 20 rows\n",
            "\n"
          ]
        }
      ]
    },
    {
      "cell_type": "code",
      "source": [
        "#show the result where age is between 40 and 50\n",
        "df.where(col(\"age\").between(40,50)).show(truncate=False)"
      ],
      "metadata": {
        "colab": {
          "base_uri": "https://localhost:8080/"
        },
        "id": "XQ_noBYOXpdB",
        "outputId": "70966a87-388e-4655-b194-f2905b3e370a"
      },
      "execution_count": null,
      "outputs": [
        {
          "output_type": "stream",
          "name": "stdout",
          "text": [
            "+-------+---------+---------+---+---------------------------+\n",
            "|cid    |f_name   |l_name   |age|desig                      |\n",
            "+-------+---------+---------+---+---------------------------+\n",
            "|4000006|Patrick  |Song     |42 |Veterinarian               |\n",
            "|4000007|Elsie    |Hamilton |43 |Pilot                      |\n",
            "|4000011|Francis  |McNamara |47 |Therapist                  |\n",
            "|4000013|Marion   |Moon     |41 |Carpenter                  |\n",
            "|4000015|Julia    |Desai    |49 |Musician                   |\n",
            "|4000018|Jean     |Griffin  |45 |Childcare worker           |\n",
            "|4000023|Wesley   |Teague   |42 |Carpenter                  |\n",
            "|4000025|Claire   |Gallagher|42 |Musician                   |\n",
            "|4000028|Dwight   |Monroe   |45 |Economist                  |\n",
            "|4000029|Wayne    |Connolly |40 |Real estate agent          |\n",
            "|4000030|Stephanie|Hawkins  |50 |Human resources assistant  |\n",
            "|4000042|Katherine|Bender   |44 |Physicist                  |\n",
            "|4000045|Lois     |Joseph   |44 |Musician                   |\n",
            "|4000047|Christina|Bowden   |47 |Computer software engineer |\n",
            "|4000058|Scott    |Hoyle    |40 |Doctor                     |\n",
            "|4000059|Pat      |Allen    |45 |Secretary                  |\n",
            "|4000060|Michelle |Rich     |44 |Artist                     |\n",
            "|4000069|Melanie  |Hewitt   |47 |Real estate agent          |\n",
            "|4000072|Caroline |O'Brien  |44 |Computer support specialist|\n",
            "|4000078|Sara     |Lucas    |44 |Loan officer               |\n",
            "+-------+---------+---------+---+---------------------------+\n",
            "only showing top 20 rows\n",
            "\n"
          ]
        }
      ]
    },
    {
      "cell_type": "code",
      "source": [
        "df.where(col(\"desig\").isNull()).show()"
      ],
      "metadata": {
        "colab": {
          "base_uri": "https://localhost:8080/"
        },
        "id": "YIdNxmOpaEZA",
        "outputId": "4b8cee7a-a8f7-454d-ddeb-d3d82aab0412"
      },
      "execution_count": null,
      "outputs": [
        {
          "output_type": "stream",
          "name": "stdout",
          "text": [
            "+-------+-------+---------+---+-----+\n",
            "|    cid| f_name|   l_name|age|desig|\n",
            "+-------+-------+---------+---+-----+\n",
            "|4000014|   Beth|  Woodard| 65| null|\n",
            "|4000046|  Louis|Rosenthal| 31| null|\n",
            "|4000257| Monica|   Dodson| 58| null|\n",
            "|4000327|Heather|   Dawson| 43| null|\n",
            "|4000411| Joanna|   Hoover| 50| null|\n",
            "|4000463|  Wayne|   Weiner| 70| null|\n",
            "|4000494|Stephen|   Waller| 75| null|\n",
            "|4000679|Herbert| Jernigan| 59| null|\n",
            "|4000695|  Chris| Anderson| 52| null|\n",
            "|4000890| Hannah|    Casey| 30| null|\n",
            "|4000944|   Mary|  Boyette| 59| null|\n",
            "|4001066|    Ron|   Brandt| 65| null|\n",
            "|4001359|  Craig| McNamara| 31| null|\n",
            "|4001400|Matthew|  Beasley| 39| null|\n",
            "|4001478| Sheryl|     Lamb| 53| null|\n",
            "|4001505|Raymond|    Roach| 30| null|\n",
            "|4001550|  Barry|    Sykes| 34| null|\n",
            "|4001561| Arlene|     Gray| 51| null|\n",
            "|4001675| Wesley|   Graves| 33| null|\n",
            "|4001952|  Renee|      Day| 46| null|\n",
            "+-------+-------+---------+---+-----+\n",
            "only showing top 20 rows\n",
            "\n"
          ]
        }
      ]
    },
    {
      "cell_type": "code",
      "source": [
        "df.where(col(\"desig\").isNull()).count()"
      ],
      "metadata": {
        "colab": {
          "base_uri": "https://localhost:8080/"
        },
        "id": "GGWKhehSbDZj",
        "outputId": "dfd8cc10-bace-41b8-d8c5-61dea1475041"
      },
      "execution_count": null,
      "outputs": [
        {
          "output_type": "execute_result",
          "data": {
            "text/plain": [
              "83"
            ]
          },
          "metadata": {},
          "execution_count": 54
        }
      ]
    },
    {
      "cell_type": "code",
      "source": [
        "txns_df = spark.read.option(\"header\",True).csv(\"/content/txns_with_header.csv\")"
      ],
      "metadata": {
        "id": "SPtaZuxVbKM4"
      },
      "execution_count": null,
      "outputs": []
    },
    {
      "cell_type": "code",
      "source": [
        "txns_df.show(truncate=False)"
      ],
      "metadata": {
        "colab": {
          "base_uri": "https://localhost:8080/"
        },
        "id": "EwhxPQtCgNTe",
        "outputId": "84cb8950-6445-4187-9e51-6cef5065d282"
      },
      "execution_count": null,
      "outputs": [
        {
          "output_type": "stream",
          "name": "stdout",
          "text": [
            "+--------+----------+-------+-------+----------------------+---------------------------------+--------------+--------------+------+\n",
            "|txn_id  |txn_dt    |cid    |amt    |prod_cat              |prod                             |city          |state         |mode  |\n",
            "+--------+----------+-------+-------+----------------------+---------------------------------+--------------+--------------+------+\n",
            "|00000000|06-26-2011|4007024|04a0.33|Exercise & Fitness    |Cardio Machine Accessories       |Clarksville   |Tennessee     |credit|\n",
            "|00000001|05-26-2011|4006742|198.44 |Exercise & Fitness    |Weightlifting Gloves             |Long Beach    |California    |credit|\n",
            "|00000002|06-01-2011|4009775|005.58 |Exercise & Fitness    |Weightlifting Machine Accessories|Anaheim       |California    |credit|\n",
            "|00000003|06-05-2011|4002199|198.19 |Gymnastics            |Gymnastics Rings                 |Milwaukee     |Wisconsin     |credit|\n",
            "|00000004|12-17-2011|4002613|098.81 |Team Sports           |Field Hockey                     |Nashville     |Tennessee     |credit|\n",
            "|00000005|02-14-2011|4007591|193.63 |Outdoor Recreation    |Camping & Backpacking & Hiking   |Chicago       |Illinois      |credit|\n",
            "|00000006|10-28-2011|4002190|027.89 |Puzzles               |Jigsaw Puzzles                   |Charleston    |South Carolina|credit|\n",
            "|00000007|07-14-2011|4002964|096.01 |Outdoor Play Equipment|Sandboxes                        |Columbus      |Ohio          |credit|\n",
            "|00000008|01-17-2011|4007361|010.44 |Winter Sports         |Snowmobiling                     |Des Moines    |Iowa          |credit|\n",
            "|00000009|05-17-2011|4004798|152.46 |Jumping               |Bungee Jumping                   |St. Petersburg|Florida       |credit|\n",
            "|00000010|05-29-2011|4004646|180.28 |Outdoor Recreation    |Archery                          |Reno          |Nevada        |credit|\n",
            "|00000011|06-18-2011|4008071|121.39 |Outdoor Play Equipment|Swing Sets                       |Columbus      |Ohio          |credit|\n",
            "|00000012|02-08-2011|4002473|041.52 |Indoor Games          |Bowling                          |San Francisco |California    |credit|\n",
            "|00000013|03-13-2011|4003268|107.80 |Team Sports           |Field Hockey                     |Honolulu      |Hawaii        |credit|\n",
            "|00000014|02-25-2011|4004613|036.81 |Gymnastics            |Vaulting Horses                  |Los Angeles   |California    |credit|\n",
            "|00000015|10-20-2011|4003179|137.64 |Combat Sports         |Fencing                          |Honolulu      |Hawaii        |credit|\n",
            "|00000016|05-28-2011|4009135|035.56 |Exercise & Fitness    |Free Weight Bars                 |Columbia      |South Carolina|credit|\n",
            "|00000017|10-18-2011|4006679|075.55 |Water Sports          |Scuba Diving & Snorkeling        |Omaha         |Nebraska      |credit|\n",
            "|00000018|11-18-2011|4002444|088.65 |Team Sports           |Baseball                         |Salt Lake City|Utah          |credit|\n",
            "|00000019|08-28-2011|4008871|051.81 |Water Sports          |Life Jackets                     |Newark        |New Jersey    |credit|\n",
            "+--------+----------+-------+-------+----------------------+---------------------------------+--------------+--------------+------+\n",
            "only showing top 20 rows\n",
            "\n"
          ]
        }
      ]
    },
    {
      "cell_type": "code",
      "source": [
        "from pyspark.sql.types import StructType,StructField,StringType,IntegerType,DecimalType,DateType,TimestampType"
      ],
      "metadata": {
        "id": "g9v9jQbWcpsD"
      },
      "execution_count": 100,
      "outputs": []
    },
    {
      "cell_type": "code",
      "source": [
        "txns_schema=StructType([StructField(\"txn_id\",IntegerType()),\n",
        "                       StructField(\"txn_dt\",DateType()),\n",
        "                       StructField(\"cid\",IntegerType()),\n",
        "                       StructField(\"amt\",DecimalType(10,3)),\n",
        "                       StructField(\"prod_cat\",StringType()),\n",
        "                       StructField(\"prod\",StringType()),\n",
        "                       StructField(\"city\",StringType()),\n",
        "                       StructField(\"state\",StringType()),\n",
        "                       StructField(\"mode\",StringType())           ])"
      ],
      "metadata": {
        "id": "3mU8kRIXgcN1"
      },
      "execution_count": null,
      "outputs": []
    },
    {
      "cell_type": "code",
      "source": [
        "txns_df = spark.read.option(\"header\",True).schema(txns_schema).option(\"dateFormat\",\"MM-dd-yyyy\").csv(\"/content/txns_with_header.csv\")"
      ],
      "metadata": {
        "id": "PcYiZzfljyUT"
      },
      "execution_count": null,
      "outputs": []
    },
    {
      "cell_type": "code",
      "source": [
        "txns_df.printSchema()"
      ],
      "metadata": {
        "colab": {
          "base_uri": "https://localhost:8080/"
        },
        "id": "0l67-YcpkhfN",
        "outputId": "fa981034-a09a-422d-def2-cf07b4058740"
      },
      "execution_count": null,
      "outputs": [
        {
          "output_type": "stream",
          "name": "stdout",
          "text": [
            "root\n",
            " |-- txn_id: integer (nullable = true)\n",
            " |-- txn_dt: date (nullable = true)\n",
            " |-- cid: integer (nullable = true)\n",
            " |-- amt: decimal(10,3) (nullable = true)\n",
            " |-- prod_cat: string (nullable = true)\n",
            " |-- prod: string (nullable = true)\n",
            " |-- city: string (nullable = true)\n",
            " |-- state: string (nullable = true)\n",
            " |-- mode: string (nullable = true)\n",
            "\n"
          ]
        }
      ]
    },
    {
      "cell_type": "code",
      "source": [
        "txns_df.show(100,truncate=False)"
      ],
      "metadata": {
        "colab": {
          "base_uri": "https://localhost:8080/"
        },
        "id": "X3sxet7Nkoft",
        "outputId": "525e30cf-3742-4794-8a7e-36784b2e8dd8"
      },
      "execution_count": null,
      "outputs": [
        {
          "output_type": "stream",
          "name": "stdout",
          "text": [
            "+------+----------+-------+-------+----------------------+---------------------------------+----------------+--------------+------+\n",
            "|txn_id|txn_dt    |cid    |amt    |prod_cat              |prod                             |city            |state         |mode  |\n",
            "+------+----------+-------+-------+----------------------+---------------------------------+----------------+--------------+------+\n",
            "|0     |2011-06-26|4007024|null   |Exercise & Fitness    |Cardio Machine Accessories       |Clarksville     |Tennessee     |credit|\n",
            "|1     |2011-05-26|4006742|198.440|Exercise & Fitness    |Weightlifting Gloves             |Long Beach      |California    |credit|\n",
            "|2     |2011-06-01|4009775|5.580  |Exercise & Fitness    |Weightlifting Machine Accessories|Anaheim         |California    |credit|\n",
            "|3     |2011-06-05|4002199|198.190|Gymnastics            |Gymnastics Rings                 |Milwaukee       |Wisconsin     |credit|\n",
            "|4     |2011-12-17|4002613|98.810 |Team Sports           |Field Hockey                     |Nashville       |Tennessee     |credit|\n",
            "|5     |2011-02-14|4007591|193.630|Outdoor Recreation    |Camping & Backpacking & Hiking   |Chicago         |Illinois      |credit|\n",
            "|6     |2011-10-28|4002190|27.890 |Puzzles               |Jigsaw Puzzles                   |Charleston      |South Carolina|credit|\n",
            "|7     |2011-07-14|4002964|96.010 |Outdoor Play Equipment|Sandboxes                        |Columbus        |Ohio          |credit|\n",
            "|8     |2011-01-17|4007361|10.440 |Winter Sports         |Snowmobiling                     |Des Moines      |Iowa          |credit|\n",
            "|9     |2011-05-17|4004798|152.460|Jumping               |Bungee Jumping                   |St. Petersburg  |Florida       |credit|\n",
            "|10    |2011-05-29|4004646|180.280|Outdoor Recreation    |Archery                          |Reno            |Nevada        |credit|\n",
            "|11    |2011-06-18|4008071|121.390|Outdoor Play Equipment|Swing Sets                       |Columbus        |Ohio          |credit|\n",
            "|12    |2011-02-08|4002473|41.520 |Indoor Games          |Bowling                          |San Francisco   |California    |credit|\n",
            "|13    |2011-03-13|4003268|107.800|Team Sports           |Field Hockey                     |Honolulu        |Hawaii        |credit|\n",
            "|14    |2011-02-25|4004613|36.810 |Gymnastics            |Vaulting Horses                  |Los Angeles     |California    |credit|\n",
            "|15    |2011-10-20|4003179|137.640|Combat Sports         |Fencing                          |Honolulu        |Hawaii        |credit|\n",
            "|16    |2011-05-28|4009135|35.560 |Exercise & Fitness    |Free Weight Bars                 |Columbia        |South Carolina|credit|\n",
            "|17    |2011-10-18|4006679|75.550 |Water Sports          |Scuba Diving & Snorkeling        |Omaha           |Nebraska      |credit|\n",
            "|18    |2011-11-18|4002444|88.650 |Team Sports           |Baseball                         |Salt Lake City  |Utah          |credit|\n",
            "|19    |2011-08-28|4008871|51.810 |Water Sports          |Life Jackets                     |Newark          |New Jersey    |credit|\n",
            "|20    |2011-06-29|4001364|41.550 |Exercise & Fitness    |Weightlifting Belts              |New Orleans     |Louisiana     |credit|\n",
            "|21    |2011-02-14|4003144|45.790 |Air Sports            |Parachutes                       |New York        |New York      |credit|\n",
            "|22    |2011-10-10|4006131|19.640 |Water Sports          |Kitesurfing                      |Saint Paul      |Minnesota     |credit|\n",
            "|23    |2011-05-02|4007596|99.500 |Gymnastics            |Gymnastics Rings                 |Springfield     |Illinois      |credit|\n",
            "|24    |2011-06-10|4009341|151.200|Water Sports          |Surfing                          |Plano           |Texas         |credit|\n",
            "|25    |2011-10-14|4003760|144.200|Indoor Games          |Darts                            |Phoenix         |Arizona       |credit|\n",
            "|26    |2011-10-11|4000403|31.580 |Combat Sports         |Wrestling                        |Orange          |California    |credit|\n",
            "|27    |2011-09-29|4005211|66.400 |Games                 |Mahjong                          |Fremont         |California    |credit|\n",
            "|28    |2011-05-12|4001864|79.780 |Team Sports           |Cricket                          |Lexington       |Kentucky      |credit|\n",
            "|29    |2011-06-03|4005691|126.900|Outdoor Recreation    |Hunting                          |Phoenix         |Arizona       |credit|\n",
            "|30    |2011-03-14|4009693|47.050 |Water Sports          |Swimming                         |Lincoln         |Nebraska      |credit|\n",
            "|31    |2011-11-28|4002130|5.030  |Games                 |Dice & Dice Sets                 |Los Angeles     |California    |credit|\n",
            "|32    |2011-01-29|4007790|20.130 |Team Sports           |Soccer                           |Springfield     |Illinois      |credit|\n",
            "|33    |2011-06-15|4005337|154.150|Outdoor Recreation    |Lawn Games                       |Nashville       |Tennessee     |credit|\n",
            "|34    |2011-05-06|4000663|98.960 |Team Sports           |Indoor Volleyball                |Atlanta         |Georgia       |credit|\n",
            "|35    |2011-04-12|4006967|185.260|Games                 |Board Games                      |Centennial      |Colorado      |credit|\n",
            "|36    |2011-10-13|4009055|35.660 |Team Sports           |Football                         |Saint Paul      |Minnesota     |credit|\n",
            "|37    |2011-04-19|4005737|20.200 |Outdoor Recreation    |Shooting Games                   |San Diego       |California    |credit|\n",
            "|38    |2011-08-05|4000175|150.600|Outdoor Recreation    |Camping & Backpacking & Hiking   |Hampton         |Virginia      |credit|\n",
            "|39    |2011-03-12|4001873|174.360|Outdoor Play Equipment|Swing Sets                       |Pittsburgh      |Pennsylvania  |credit|\n",
            "|40    |2011-11-07|4006442|165.100|Team Sports           |Cheerleading                     |Reno            |Nevada        |credit|\n",
            "|41    |2011-04-16|4004237|28.110 |Indoor Games          |Bowling                          |Westminster     |Colorado      |cash  |\n",
            "|42    |2011-09-10|4007470|38.520 |Outdoor Recreation    |Tetherball                       |Denton          |Texas         |cash  |\n",
            "|43    |2011-04-22|4002554|32.340 |Water Sports          |Water Polo                       |Las Vegas       |Nevada        |cash  |\n",
            "|44    |2011-09-11|4001041|135.370|Water Sports          |Surfing                          |Seattle         |Washington    |credit|\n",
            "|45    |2011-11-27|4005646|90.040 |Exercise & Fitness    |Abdominal Equipment              |Honolulu        |Hawaii        |credit|\n",
            "|46    |2011-05-27|4005580|52.290 |Gymnastics            |Vaulting Horses                  |Cleveland       |Ohio          |credit|\n",
            "|47    |2011-10-23|4009698|100.100|Outdoor Play Equipment|Swing Sets                       |Everett         |Washington    |credit|\n",
            "|48    |2011-09-27|4009252|157.940|Exercise & Fitness    |Exercise Bands                   |Philadelphia    |Pennsylvania  |credit|\n",
            "|49    |2011-07-12|4003896|144.590|Jumping               |Jumping Stilts                   |Cambridge       |Massachusetts |credit|\n",
            "|50    |2011-10-20|4005578|55.930 |Jumping               |Pogo Sticks                      |Everett         |Washington    |credit|\n",
            "|51    |2011-02-17|4002323|32.650 |Water Sports          |Life Jackets                     |Columbus        |Georgia       |cash  |\n",
            "|52    |2011-02-04|4008289|44.820 |Outdoor Play Equipment|Lawn Water Slides                |Hampton         |Virginia      |cash  |\n",
            "|53    |2011-06-12|4003091|44.460 |Water Sports          |Scuba Diving & Snorkeling        |Charleston      |South Carolina|cash  |\n",
            "|54    |2011-10-03|4007357|154.870|Outdoor Recreation    |Running                          |Long Beach      |California    |credit|\n",
            "|55    |2011-12-16|4004961|106.110|Water Sports          |Swimming                         |New York        |New York      |credit|\n",
            "|56    |2011-06-21|4008744|176.630|Outdoor Recreation    |Geocaching                       |Boston          |Massachusetts |credit|\n",
            "|57    |2011-12-20|4007745|178.200|Outdoor Recreation    |Skating                          |San Jose        |California    |credit|\n",
            "|58    |2011-12-29|4003248|194.860|Water Sports          |Windsurfing                      |Oklahoma City   |Oklahoma      |credit|\n",
            "|59    |2011-11-07|4002854|21.430 |Winter Sports         |Snowboarding                     |Philadelphia    |Pennsylvania  |cash  |\n",
            "|60    |2011-04-23|4004874|118.180|Exercise & Fitness    |Cardio Machine Accessories       |Richmond        |Virginia      |credit|\n",
            "|61    |2011-02-16|4009680|41.140 |Exercise & Fitness    |Weightlifting Machine Accessories|Phoenix         |Arizona       |cash  |\n",
            "|62    |2011-04-23|4000539|100.930|Team Sports           |Beach Volleyball                 |Columbia        |Missouri      |credit|\n",
            "|63    |2011-11-25|4009719|129.260|Winter Sports         |Downhill Skiing                  |Orlando         |Florida       |credit|\n",
            "|64    |2011-09-28|4008455|105.240|Exercise & Fitness    |Weightlifting Machine Accessories|Nashville       |Tennessee     |credit|\n",
            "|65    |2011-12-12|4005887|66.060 |Outdoor Recreation    |Riding Scooters                  |Jackson         |Mississippi   |credit|\n",
            "|66    |2011-02-05|4006293|89.140 |Outdoor Recreation    |Tetherball                       |Gresham         |Oregon        |credit|\n",
            "|67    |2011-10-10|4002526|159.140|Games                 |Poker Chips & Sets               |Las Vegas       |Nevada        |credit|\n",
            "|68    |2011-05-04|4006736|171.570|Dancing               |Ballet Bars                      |Minneapolis     |Minnesota     |credit|\n",
            "|69    |2011-05-12|4005403|89.910 |Team Sports           |Softball                         |Denton          |Texas         |credit|\n",
            "|70    |2011-05-13|4006291|32.280 |Outdoor Recreation    |Skating                          |Salt Lake City  |Utah          |cash  |\n",
            "|71    |2011-01-26|4009360|152.210|Team Sports           |Cricket                          |Portland        |Oregon        |credit|\n",
            "|72    |2011-01-04|4001305|150.820|Outdoor Recreation    |Skateboarding                    |Denver          |Colorado      |credit|\n",
            "|73    |2011-05-20|4008653|133.200|Outdoor Recreation    |Riding Scooters                  |Jackson         |Mississippi   |credit|\n",
            "|74    |2011-10-27|4002106|148.310|Games                 |Portable Electronic Games        |Pasadena        |California    |credit|\n",
            "|75    |2011-11-19|4006262|125.280|Combat Sports         |Wrestling                        |Denton          |Texas         |credit|\n",
            "|76    |2011-07-26|4003860|170.050|Jumping               |Trampolines                      |Charleston      |South Carolina|credit|\n",
            "|77    |2011-10-07|4000458|74.060 |Puzzles               |Jigsaw Puzzles                   |Jacksonville    |Florida       |credit|\n",
            "|78    |2011-06-03|4002200|175.240|Team Sports           |Baseball                         |Cleveland       |Ohio          |credit|\n",
            "|79    |2011-08-04|4005751|39.800 |Gymnastics            |Springboards                     |St. Louis       |Missouri      |cash  |\n",
            "|80    |2011-10-05|4005625|174.820|Outdoor Recreation    |Ice Climbing                     |Eugene          |Oregon        |credit|\n",
            "|81    |2011-03-08|4003500|188.900|Water Sports          |Swimming                         |San Jose        |California    |credit|\n",
            "|82    |2011-01-16|4001098|21.230 |Gymnastics            |Gymnastics Rings                 |Tampa           |Florida       |cash  |\n",
            "|83    |2011-12-23|4007259|22.420 |Outdoor Recreation    |Rock Climbing                    |Hampton         |Virginia      |cash  |\n",
            "|84    |2011-05-31|4000293|49.970 |Exercise & Fitness    |Stopwatches                      |Clarksville     |Tennessee     |cash  |\n",
            "|85    |2011-10-17|4008024|31.840 |Water Sports          |Swimming                         |Saint Paul      |Minnesota     |cash  |\n",
            "|86    |2011-06-15|4008884|80.990 |Outdoor Recreation    |Tetherball                       |Orange          |California    |credit|\n",
            "|87    |2011-06-05|4001050|89.560 |Gymnastics            |Gymnastics Mats                  |West Valley City|Utah          |credit|\n",
            "|88    |2011-07-05|4003309|55.350 |Water Sports          |Towed Water Sports               |Lincoln         |Nebraska      |credit|\n",
            "|89    |2011-05-18|4001561|184.560|Team Sports           |Cheerleading                     |Plano           |Texas         |credit|\n",
            "|90    |2011-01-02|4009270|176.340|Air Sports            |Parachutes                       |San Antonio     |Texas         |credit|\n",
            "|91    |2011-02-28|4002697|35.750 |Outdoor Recreation    |Running                          |Flint           |Michigan      |cash  |\n",
            "|92    |2011-09-19|4008469|42.510 |Team Sports           |Team Handball                    |Oklahoma City   |Oklahoma      |cash  |\n",
            "|93    |2011-02-01|4006425|193.110|Winter Sports         |Sledding                         |Irvine          |California    |credit|\n",
            "|94    |2011-08-03|4005513|68.860 |Jumping               |Jumping Stilts                   |Green Bay       |Wisconsin     |credit|\n",
            "|95    |2011-07-04|4004611|146.360|Water Sports          |Whitewater Rafting               |Hampton         |Virginia      |credit|\n",
            "|96    |2011-10-24|4005227|130.520|Exercise & Fitness    |Medicine Balls                   |Las Vegas       |Nevada        |credit|\n",
            "|97    |2011-10-07|4002299|197.540|Exercise & Fitness    |Exercise Balls                   |Plano           |Texas         |credit|\n",
            "|98    |2011-09-04|4002707|5.950  |Games                 |Dominoes                         |Lincoln         |Nebraska      |cash  |\n",
            "|99    |2011-10-10|4006562|37.290 |Outdoor Play Equipment|Lawn Water Slides                |Dallas          |Texas         |cash  |\n",
            "+------+----------+-------+-------+----------------------+---------------------------------+----------------+--------------+------+\n",
            "only showing top 100 rows\n",
            "\n"
          ]
        }
      ]
    },
    {
      "cell_type": "code",
      "source": [],
      "metadata": {
        "id": "6igDX-u9lCDR"
      },
      "execution_count": null,
      "outputs": []
    },
    {
      "cell_type": "code",
      "source": [
        "dt_schema=StructType([StructField(\"NAME\",StringType()),\n",
        "                       StructField(\"txn_dt\",TimestampType()),\n",
        "                            ])"
      ],
      "metadata": {
        "id": "YnLbMXN9sRsc"
      },
      "execution_count": 101,
      "outputs": []
    },
    {
      "cell_type": "code",
      "source": [
        "date_df = spark.read.option(\"header\",True).schema(dt_schema).option(\"TimestampFormat\",\"dd/MM/yyyy HH:mm\").csv(\"/content/date_format_3.txt\")"
      ],
      "metadata": {
        "id": "bg45_StQskwj"
      },
      "execution_count": 109,
      "outputs": []
    },
    {
      "cell_type": "code",
      "source": [
        "date_df.show()"
      ],
      "metadata": {
        "colab": {
          "base_uri": "https://localhost:8080/"
        },
        "id": "HvJCO3cytH3i",
        "outputId": "817c852b-cdc6-4d2f-c500-aad852220e6c"
      },
      "execution_count": 110,
      "outputs": [
        {
          "output_type": "stream",
          "name": "stdout",
          "text": [
            "+-----+-------------------+\n",
            "| NAME|             txn_dt|\n",
            "+-----+-------------------+\n",
            "|Ankit|2023-03-18 13:10:00|\n",
            "+-----+-------------------+\n",
            "\n"
          ]
        }
      ]
    },
    {
      "cell_type": "code",
      "source": [],
      "metadata": {
        "id": "Vfly1v0ItNRX"
      },
      "execution_count": null,
      "outputs": []
    }
  ]
}