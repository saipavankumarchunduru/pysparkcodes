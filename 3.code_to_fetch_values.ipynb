{
  "nbformat": 4,
  "nbformat_minor": 0,
  "metadata": {
    "colab": {
      "provenance": []
    },
    "kernelspec": {
      "name": "python3",
      "display_name": "Python 3"
    },
    "language_info": {
      "name": "python"
    }
  },
  "cells": [
    {
      "cell_type": "code",
      "execution_count": 1,
      "metadata": {
        "id": "GWuELVqlu0Fi"
      },
      "outputs": [],
      "source": [
        "!apt-get install openjdk-8-jdk-headless -qq > /dev/null\n",
        "!wget -q http://archive.apache.org/dist/spark/spark-3.1.1/spark-3.1.1-bin-hadoop3.2.tgz\n",
        "!tar xf spark-3.1.1-bin-hadoop3.2.tgz\n",
        "!pip install -q findspark"
      ]
    },
    {
      "cell_type": "code",
      "source": [
        "import os\n",
        "os.environ[\"JAVA_HOME\"] = \"/usr/lib/jvm/java-8-openjdk-amd64\"\n",
        "os.environ[\"SPARK_HOME\"] = \"/content/spark-3.1.1-bin-hadoop3.2\""
      ],
      "metadata": {
        "id": "BY1_0Y6Lu1a6"
      },
      "execution_count": 2,
      "outputs": []
    },
    {
      "cell_type": "code",
      "source": [
        "!ls"
      ],
      "metadata": {
        "colab": {
          "base_uri": "https://localhost:8080/"
        },
        "id": "W70UigysvFAs",
        "outputId": "1cf8c469-bfdf-4f61-fdfd-890b594a5d75"
      },
      "execution_count": 3,
      "outputs": [
        {
          "output_type": "stream",
          "name": "stdout",
          "text": [
            "sample_data  spark-3.1.1-bin-hadoop3.2\tspark-3.1.1-bin-hadoop3.2.tgz\n"
          ]
        }
      ]
    },
    {
      "cell_type": "code",
      "source": [
        "import findspark\n",
        "findspark.init()\n",
        "from pyspark import SparkContext"
      ],
      "metadata": {
        "id": "fwycR0LYvIRE"
      },
      "execution_count": 4,
      "outputs": []
    },
    {
      "cell_type": "code",
      "source": [
        "sc=SparkContext(appName=\"mysparkapp\",master=\"local[*]\").getOrCreate()"
      ],
      "metadata": {
        "id": "FW7LkS8cvLVQ"
      },
      "execution_count": 5,
      "outputs": []
    },
    {
      "cell_type": "code",
      "source": [
        "sc\n"
      ],
      "metadata": {
        "colab": {
          "base_uri": "https://localhost:8080/",
          "height": 196
        },
        "id": "M1CtOfygvPwM",
        "outputId": "7c8b7f81-34d3-441c-a1c0-9200aee1b3ac"
      },
      "execution_count": 6,
      "outputs": [
        {
          "output_type": "execute_result",
          "data": {
            "text/plain": [
              "<SparkContext master=local[*] appName=mysparkapp>"
            ],
            "text/html": [
              "\n",
              "        <div>\n",
              "            <p><b>SparkContext</b></p>\n",
              "\n",
              "            <p><a href=\"http://4d156462a05b:4040\">Spark UI</a></p>\n",
              "\n",
              "            <dl>\n",
              "              <dt>Version</dt>\n",
              "                <dd><code>v3.1.1</code></dd>\n",
              "              <dt>Master</dt>\n",
              "                <dd><code>local[*]</code></dd>\n",
              "              <dt>AppName</dt>\n",
              "                <dd><code>mysparkapp</code></dd>\n",
              "            </dl>\n",
              "        </div>\n",
              "        "
            ]
          },
          "metadata": {},
          "execution_count": 6
        }
      ]
    },
    {
      "cell_type": "code",
      "source": [
        "rdd1=sc.textFile(\"/content/txns_with_header.csv\")\n",
        "rdd1.first()"
      ],
      "metadata": {
        "colab": {
          "base_uri": "https://localhost:8080/",
          "height": 35
        },
        "id": "Yb9U1cVGvUgn",
        "outputId": "746cf22e-56e3-4420-a260-b23022d247ec"
      },
      "execution_count": 7,
      "outputs": [
        {
          "output_type": "execute_result",
          "data": {
            "text/plain": [
              "'txn_id,txn_dt,cid,amt,prod_cat,prod,city,state,mode'"
            ],
            "application/vnd.google.colaboratory.intrinsic+json": {
              "type": "string"
            }
          },
          "metadata": {},
          "execution_count": 7
        }
      ]
    },
    {
      "cell_type": "code",
      "source": [
        "header=rdd1.first()"
      ],
      "metadata": {
        "id": "YoR3MxG8vvXz"
      },
      "execution_count": 8,
      "outputs": []
    },
    {
      "cell_type": "code",
      "source": [
        "rdd2=rdd1.filter(lambda row:row!=header)"
      ],
      "metadata": {
        "id": "P1Dt1ncGv2rU"
      },
      "execution_count": 9,
      "outputs": []
    },
    {
      "cell_type": "code",
      "source": [
        "rdd2.first()"
      ],
      "metadata": {
        "colab": {
          "base_uri": "https://localhost:8080/",
          "height": 35
        },
        "id": "KNBouswKwTV5",
        "outputId": "06b068e1-8df8-48e2-e5a5-dc6680b62af4"
      },
      "execution_count": 10,
      "outputs": [
        {
          "output_type": "execute_result",
          "data": {
            "text/plain": [
              "'00000000,06-26-2011,4007024,04a0.33,Exercise & Fitness,Cardio Machine Accessories,Clarksville,Tennessee,credit'"
            ],
            "application/vnd.google.colaboratory.intrinsic+json": {
              "type": "string"
            }
          },
          "metadata": {},
          "execution_count": 10
        }
      ]
    },
    {
      "cell_type": "code",
      "source": [
        "rdd3=rdd2.map(lambda str:str.split(\",\"))"
      ],
      "metadata": {
        "id": "UG6yTA33wdLK"
      },
      "execution_count": 11,
      "outputs": []
    },
    {
      "cell_type": "code",
      "source": [
        "rdd3.first()"
      ],
      "metadata": {
        "colab": {
          "base_uri": "https://localhost:8080/"
        },
        "id": "MO1227p9wx6l",
        "outputId": "53b4560b-368a-45aa-9b15-f1b70e458eae"
      },
      "execution_count": 12,
      "outputs": [
        {
          "output_type": "execute_result",
          "data": {
            "text/plain": [
              "['00000000',\n",
              " '06-26-2011',\n",
              " '4007024',\n",
              " '04a0.33',\n",
              " 'Exercise & Fitness',\n",
              " 'Cardio Machine Accessories',\n",
              " 'Clarksville',\n",
              " 'Tennessee',\n",
              " 'credit']"
            ]
          },
          "metadata": {},
          "execution_count": 12
        }
      ]
    },
    {
      "cell_type": "code",
      "source": [
        "rdd3.take(10)"
      ],
      "metadata": {
        "colab": {
          "base_uri": "https://localhost:8080/"
        },
        "id": "1hohpxNew0z8",
        "outputId": "d38bdcb4-2362-4a5b-be64-220dc6d02e31"
      },
      "execution_count": 13,
      "outputs": [
        {
          "output_type": "execute_result",
          "data": {
            "text/plain": [
              "[['00000000',\n",
              "  '06-26-2011',\n",
              "  '4007024',\n",
              "  '04a0.33',\n",
              "  'Exercise & Fitness',\n",
              "  'Cardio Machine Accessories',\n",
              "  'Clarksville',\n",
              "  'Tennessee',\n",
              "  'credit'],\n",
              " ['00000001',\n",
              "  '05-26-2011',\n",
              "  '4006742',\n",
              "  '198.44',\n",
              "  'Exercise & Fitness',\n",
              "  'Weightlifting Gloves',\n",
              "  'Long Beach',\n",
              "  'California',\n",
              "  'credit'],\n",
              " ['00000002',\n",
              "  '06-01-2011',\n",
              "  '4009775',\n",
              "  '005.58',\n",
              "  'Exercise & Fitness',\n",
              "  'Weightlifting Machine Accessories',\n",
              "  'Anaheim',\n",
              "  'California',\n",
              "  'credit'],\n",
              " ['00000003',\n",
              "  '06-05-2011',\n",
              "  '4002199',\n",
              "  '198.19',\n",
              "  'Gymnastics',\n",
              "  'Gymnastics Rings',\n",
              "  'Milwaukee',\n",
              "  'Wisconsin',\n",
              "  'credit'],\n",
              " ['00000004',\n",
              "  '12-17-2011',\n",
              "  '4002613',\n",
              "  '098.81',\n",
              "  'Team Sports',\n",
              "  'Field Hockey',\n",
              "  'Nashville  ',\n",
              "  'Tennessee',\n",
              "  'credit'],\n",
              " ['00000005',\n",
              "  '02-14-2011',\n",
              "  '4007591',\n",
              "  '193.63',\n",
              "  'Outdoor Recreation',\n",
              "  'Camping & Backpacking & Hiking',\n",
              "  'Chicago',\n",
              "  'Illinois',\n",
              "  'credit'],\n",
              " ['00000006',\n",
              "  '10-28-2011',\n",
              "  '4002190',\n",
              "  '027.89',\n",
              "  'Puzzles',\n",
              "  'Jigsaw Puzzles',\n",
              "  'Charleston',\n",
              "  'South Carolina',\n",
              "  'credit'],\n",
              " ['00000007',\n",
              "  '07-14-2011',\n",
              "  '4002964',\n",
              "  '096.01',\n",
              "  'Outdoor Play Equipment',\n",
              "  'Sandboxes',\n",
              "  'Columbus',\n",
              "  'Ohio',\n",
              "  'credit'],\n",
              " ['00000008',\n",
              "  '01-17-2011',\n",
              "  '4007361',\n",
              "  '010.44',\n",
              "  'Winter Sports',\n",
              "  'Snowmobiling',\n",
              "  'Des Moines',\n",
              "  'Iowa',\n",
              "  'credit'],\n",
              " ['00000009',\n",
              "  '05-17-2011',\n",
              "  '4004798',\n",
              "  '152.46',\n",
              "  'Jumping',\n",
              "  'Bungee Jumping',\n",
              "  'St. Petersburg',\n",
              "  'Florida',\n",
              "  'credit']]"
            ]
          },
          "metadata": {},
          "execution_count": 13
        }
      ]
    },
    {
      "cell_type": "code",
      "source": [
        "#193.63,Chicago\n",
        "selection=rdd3.filter(lambda x:(x[3] and x[6]=='Chicago'))"
      ],
      "metadata": {
        "id": "gvhnYqIEw9w7"
      },
      "execution_count": 21,
      "outputs": []
    },
    {
      "cell_type": "code",
      "source": [
        "selection.count()"
      ],
      "metadata": {
        "colab": {
          "base_uri": "https://localhost:8080/"
        },
        "id": "7qDzu8fDyOgl",
        "outputId": "0699f8e6-3094-4a8f-8fa4-4d26b2c01b6d"
      },
      "execution_count": 22,
      "outputs": [
        {
          "output_type": "execute_result",
          "data": {
            "text/plain": [
              "454"
            ]
          },
          "metadata": {},
          "execution_count": 22
        }
      ]
    },
    {
      "cell_type": "code",
      "source": [
        "selection.take(5)"
      ],
      "metadata": {
        "colab": {
          "base_uri": "https://localhost:8080/"
        },
        "id": "J0IDxOSmyZRa",
        "outputId": "b8243c1e-53cd-48d3-c7b9-b4fc824690ed"
      },
      "execution_count": 23,
      "outputs": [
        {
          "output_type": "execute_result",
          "data": {
            "text/plain": [
              "[['00000005',\n",
              "  '02-14-2011',\n",
              "  '4007591',\n",
              "  '193.63',\n",
              "  'Outdoor Recreation',\n",
              "  'Camping & Backpacking & Hiking',\n",
              "  'Chicago',\n",
              "  'Illinois',\n",
              "  'credit'],\n",
              " ['00000371',\n",
              "  '04-06-2011',\n",
              "  '4005609',\n",
              "  '007.02',\n",
              "  'Jumping',\n",
              "  'Jumping Stilts',\n",
              "  'Chicago',\n",
              "  'Illinois',\n",
              "  'cash'],\n",
              " ['00000409',\n",
              "  '10-19-2011',\n",
              "  '4004713',\n",
              "  '130.37',\n",
              "  'Racquet Sports',\n",
              "  'Tennis',\n",
              "  'Chicago',\n",
              "  'Illinois',\n",
              "  'credit'],\n",
              " ['00000505',\n",
              "  '03-05-2011',\n",
              "  '4006753',\n",
              "  '095.40',\n",
              "  'Water Sports',\n",
              "  'Wetsuits',\n",
              "  'Chicago',\n",
              "  'Illinois',\n",
              "  'credit'],\n",
              " ['00000517',\n",
              "  '09-01-2011',\n",
              "  '4002686',\n",
              "  '088.60',\n",
              "  'Exercise & Fitness',\n",
              "  'Yoga & Pilates',\n",
              "  'Chicago',\n",
              "  'Illinois',\n",
              "  'credit']]"
            ]
          },
          "metadata": {},
          "execution_count": 23
        }
      ]
    },
    {
      "cell_type": "code",
      "source": [
        "divide=selection.map(lambda x:((float(x[3]),x[6])))\n",
        "divide.first()"
      ],
      "metadata": {
        "colab": {
          "base_uri": "https://localhost:8080/"
        },
        "id": "alg24c9OynUp",
        "outputId": "e02ca50c-6f54-4c41-e20b-519e1e1a4189"
      },
      "execution_count": 50,
      "outputs": [
        {
          "output_type": "execute_result",
          "data": {
            "text/plain": [
              "(193.63, 'Chicago')"
            ]
          },
          "metadata": {},
          "execution_count": 50
        }
      ]
    },
    {
      "cell_type": "code",
      "source": [
        "filter_by_count=divide.filter(lambda x:(x[0],x[1]))"
      ],
      "metadata": {
        "id": "sUipeD7Kzqe1"
      },
      "execution_count": 66,
      "outputs": []
    },
    {
      "cell_type": "code",
      "source": [
        "filter_by_count.take(3)"
      ],
      "metadata": {
        "colab": {
          "base_uri": "https://localhost:8080/"
        },
        "id": "5Kw4poeW4DLt",
        "outputId": "c1f78a35-2eec-4c58-e7d8-caa48aecc7d5"
      },
      "execution_count": 67,
      "outputs": [
        {
          "output_type": "execute_result",
          "data": {
            "text/plain": [
              "[(193.63, 'Chicago'), (7.02, 'Chicago'), (130.37, 'Chicago')]"
            ]
          },
          "metadata": {},
          "execution_count": 67
        }
      ]
    },
    {
      "cell_type": "code",
      "source": [
        "map_by_value=filter_by_count.map(lambda x:(x[1],x[0]))"
      ],
      "metadata": {
        "id": "aYvTHtkr5KTc"
      },
      "execution_count": 68,
      "outputs": []
    },
    {
      "cell_type": "code",
      "source": [
        "reduce_by_key=map_by_value.reduceByKey(lambda x,y:(x+y))"
      ],
      "metadata": {
        "id": "L_EB6f_E64uM"
      },
      "execution_count": 69,
      "outputs": []
    },
    {
      "cell_type": "code",
      "source": [
        "reduce_by_key.collect()"
      ],
      "metadata": {
        "colab": {
          "base_uri": "https://localhost:8080/"
        },
        "id": "03ZFx25B7Uz4",
        "outputId": "046718e9-d24b-4b1b-8902-729ea7d6b4c0"
      },
      "execution_count": 70,
      "outputs": [
        {
          "output_type": "execute_result",
          "data": {
            "text/plain": [
              "[('Chicago', 46556.619999999995)]"
            ]
          },
          "metadata": {},
          "execution_count": 70
        }
      ]
    },
    {
      "cell_type": "code",
      "source": [],
      "metadata": {
        "id": "1ww6JeKC7aT1"
      },
      "execution_count": null,
      "outputs": []
    }
  ]
}