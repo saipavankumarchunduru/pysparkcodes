{
  "nbformat": 4,
  "nbformat_minor": 0,
  "metadata": {
    "colab": {
      "provenance": []
    },
    "kernelspec": {
      "name": "python3",
      "display_name": "Python 3"
    },
    "language_info": {
      "name": "python"
    }
  },
  "cells": [
    {
      "cell_type": "code",
      "execution_count": 1,
      "metadata": {
        "id": "7-RbA57lRPE3"
      },
      "outputs": [],
      "source": [
        "!apt-get install openjdk-8-jdk-headless -qq > /dev/null\n",
        "!wget -q http://archive.apache.org/dist/spark/spark-3.1.1/spark-3.1.1-bin-hadoop3.2.tgz\n",
        "!tar xf spark-3.1.1-bin-hadoop3.2.tgz\n",
        "!pip install -q findspark"
      ]
    },
    {
      "cell_type": "code",
      "source": [
        "import os\n",
        "os.environ[\"JAVA_HOME\"] = \"/usr/lib/jvm/java-8-openjdk-amd64\"\n",
        "os.environ[\"SPARK_HOME\"] = \"/content/spark-3.1.1-bin-hadoop3.2\""
      ],
      "metadata": {
        "id": "11Jy0F-iRW26"
      },
      "execution_count": 2,
      "outputs": []
    },
    {
      "cell_type": "code",
      "source": [
        "!ls"
      ],
      "metadata": {
        "colab": {
          "base_uri": "https://localhost:8080/"
        },
        "id": "N_8n7esgRg7g",
        "outputId": "af62ac9f-65a1-4cc2-bb97-853b0a99a2bb"
      },
      "execution_count": 3,
      "outputs": [
        {
          "output_type": "stream",
          "name": "stdout",
          "text": [
            "sample_data  spark-3.1.1-bin-hadoop3.2\tspark-3.1.1-bin-hadoop3.2.tgz\n"
          ]
        }
      ]
    },
    {
      "cell_type": "code",
      "source": [
        "import findspark\n",
        "findspark.init()\n",
        "from pyspark.sql import SparkSession\n",
        "spark = SparkSession.builder.master(\"local[*]\").getOrCreate()\n",
        "spark.conf.set(\"spark.sql.repl.eagerEval.enabled\", True) # Property used to format output tables better\n",
        "spark"
      ],
      "metadata": {
        "colab": {
          "base_uri": "https://localhost:8080/",
          "height": 219
        },
        "id": "6SNzBidTRko9",
        "outputId": "ebb9a30b-d824-47db-9960-e6c42308882d"
      },
      "execution_count": 4,
      "outputs": [
        {
          "output_type": "execute_result",
          "data": {
            "text/plain": [
              "<pyspark.sql.session.SparkSession at 0x78d5304a2e60>"
            ],
            "text/html": [
              "\n",
              "            <div>\n",
              "                <p><b>SparkSession - in-memory</b></p>\n",
              "                \n",
              "        <div>\n",
              "            <p><b>SparkContext</b></p>\n",
              "\n",
              "            <p><a href=\"http://b78eeb495faa:4040\">Spark UI</a></p>\n",
              "\n",
              "            <dl>\n",
              "              <dt>Version</dt>\n",
              "                <dd><code>v3.1.1</code></dd>\n",
              "              <dt>Master</dt>\n",
              "                <dd><code>local[*]</code></dd>\n",
              "              <dt>AppName</dt>\n",
              "                <dd><code>pyspark-shell</code></dd>\n",
              "            </dl>\n",
              "        </div>\n",
              "        \n",
              "            </div>\n",
              "        "
            ]
          },
          "metadata": {},
          "execution_count": 4
        }
      ]
    },
    {
      "cell_type": "code",
      "source": [
        "df = spark.read.option(\"header\", True).json(\"/content/people.json\")\n",
        "#reading a json file without schema defined."
      ],
      "metadata": {
        "id": "_BU5j3kDRpel"
      },
      "execution_count": 6,
      "outputs": []
    },
    {
      "cell_type": "code",
      "source": [
        "df.show()\n",
        "#usually it is represented in alphabetical order  in json file.\n",
        "#here age is before name as it is taken in alphabetical order as schema not defined."
      ],
      "metadata": {
        "colab": {
          "base_uri": "https://localhost:8080/"
        },
        "id": "VhPHF8fnSurM",
        "outputId": "cea0f9c8-c54e-4479-b797-857c89c9f281"
      },
      "execution_count": 7,
      "outputs": [
        {
          "output_type": "stream",
          "name": "stdout",
          "text": [
            "+----+-------+\n",
            "| age|   name|\n",
            "+----+-------+\n",
            "|null|Michael|\n",
            "|  30|   Andy|\n",
            "|  19| Justin|\n",
            "+----+-------+\n",
            "\n"
          ]
        }
      ]
    },
    {
      "cell_type": "code",
      "source": [
        "df.printSchema()\n",
        "#printing schema"
      ],
      "metadata": {
        "colab": {
          "base_uri": "https://localhost:8080/"
        },
        "id": "gBjhekkDSFlX",
        "outputId": "0758e3c3-cc62-4c4e-d807-64d333da0878"
      },
      "execution_count": 8,
      "outputs": [
        {
          "output_type": "stream",
          "name": "stdout",
          "text": [
            "root\n",
            " |-- age: long (nullable = true)\n",
            " |-- name: string (nullable = true)\n",
            "\n"
          ]
        }
      ]
    },
    {
      "cell_type": "code",
      "source": [
        "from pyspark.sql.types import StructType,StructField,StringType,IntegerType,FloatType,DecimalType,DateType,TimestampType,ArrayType\n",
        "#here we importing types and for creating custom defined schema"
      ],
      "metadata": {
        "id": "dwlwA4g7T9XO"
      },
      "execution_count": 23,
      "outputs": []
    },
    {
      "cell_type": "code",
      "source": [
        "dfjson_schema=StructType([StructField(\"name\",StringType()),\n",
        "                       StructField(\"age\",IntegerType()),\n",
        "                            ])"
      ],
      "metadata": {
        "id": "7NStvU4WSK4b"
      },
      "execution_count": 10,
      "outputs": []
    },
    {
      "cell_type": "code",
      "source": [
        "df_json=spark.read.option(\"header\",True).schema(dfjson_schema).json(\"/content/people.json\")\n",
        "#here we are using the defined schema"
      ],
      "metadata": {
        "id": "mSamEaWjTTDE"
      },
      "execution_count": 11,
      "outputs": []
    },
    {
      "cell_type": "code",
      "source": [
        "df_json.show()\n",
        "#here we specified schema so it will display according to schema.\n",
        "#here we specified schema so it will display according to schema.here name comming first\n",
        "#then age as we defined schema it didnt take in alphabetic order."
      ],
      "metadata": {
        "colab": {
          "base_uri": "https://localhost:8080/"
        },
        "id": "Cw89JTg5WeDT",
        "outputId": "a8e3558a-192a-4bda-a28c-44e00fba11c0"
      },
      "execution_count": 12,
      "outputs": [
        {
          "output_type": "stream",
          "name": "stdout",
          "text": [
            "+-------+----+\n",
            "|   name| age|\n",
            "+-------+----+\n",
            "|Michael|null|\n",
            "|   Andy|  30|\n",
            "| Justin|  19|\n",
            "+-------+----+\n",
            "\n"
          ]
        }
      ]
    },
    {
      "cell_type": "code",
      "source": [
        "df_json.printSchema()\n",
        "#here we defined schema so it should be according to schema definition"
      ],
      "metadata": {
        "colab": {
          "base_uri": "https://localhost:8080/"
        },
        "id": "2Gom2kmFWq3n",
        "outputId": "24605600-fedb-4265-c814-56f85550d033"
      },
      "execution_count": 13,
      "outputs": [
        {
          "output_type": "stream",
          "name": "stdout",
          "text": [
            "root\n",
            " |-- name: string (nullable = true)\n",
            " |-- age: integer (nullable = true)\n",
            "\n"
          ]
        }
      ]
    },
    {
      "cell_type": "code",
      "source": [
        "df_jsonschema2=StructType([StructField(\"name\",StringType()),\n",
        "                           StructField(\"age\",IntegerType()),\n",
        "                           StructField(\"address\",StructType([StructField(\"r.no\",IntegerType()),\n",
        "                                                             StructField(\"city\",StringType())]))])"
      ],
      "metadata": {
        "id": "ns8vZaGF3Ibc"
      },
      "execution_count": 17,
      "outputs": []
    },
    {
      "cell_type": "code",
      "source": [
        "jsonextrafield_df=spark.read\\\n",
        "                       .option(\"header\",True)\\\n",
        "                       .schema(df_jsonschema2)\\\n",
        "                       .json(\"/content/people1.json\")"
      ],
      "metadata": {
        "id": "rlXwh0Gp6gsV"
      },
      "execution_count": 20,
      "outputs": []
    },
    {
      "cell_type": "code",
      "source": [
        "jsonextrafield_df.printSchema()\n",
        "#print schema that has structType inside it"
      ],
      "metadata": {
        "colab": {
          "base_uri": "https://localhost:8080/"
        },
        "id": "TrMuTmLS-geG",
        "outputId": "e7b9d5a0-db18-402a-d784-6333d4bb8834"
      },
      "execution_count": 21,
      "outputs": [
        {
          "output_type": "stream",
          "name": "stdout",
          "text": [
            "root\n",
            " |-- name: string (nullable = true)\n",
            " |-- age: integer (nullable = true)\n",
            " |-- address: struct (nullable = true)\n",
            " |    |-- r.no: integer (nullable = true)\n",
            " |    |-- city: string (nullable = true)\n",
            "\n"
          ]
        }
      ]
    },
    {
      "cell_type": "code",
      "source": [
        "jsonextrafield_df.show()\n",
        "#displays the result with address having two columns"
      ],
      "metadata": {
        "colab": {
          "base_uri": "https://localhost:8080/"
        },
        "id": "xc6UwA2W_CQv",
        "outputId": "47746cdb-6a01-4c2e-a7b6-84511373d0a6"
      },
      "execution_count": 22,
      "outputs": [
        {
          "output_type": "stream",
          "name": "stdout",
          "text": [
            "+-------+----+----------+\n",
            "|   name| age|   address|\n",
            "+-------+----+----------+\n",
            "|Michael|null|      null|\n",
            "|   Andy|  30|      null|\n",
            "| Justin|  19|      null|\n",
            "|  Candy|  20|{12, pune}|\n",
            "+-------+----+----------+\n",
            "\n"
          ]
        }
      ]
    },
    {
      "cell_type": "code",
      "source": [
        "jsonschema_arraytype=StructType([StructField(\"name\",StringType()),\n",
        "                                 StructField(\"age\",IntegerType()),\n",
        "                                 StructField(\"hobbies\",ArrayType(StringType())),\n",
        "                                 StructField(\"address\",StructType([(StructField(\"r.no\",IntegerType())),\n",
        "                                                                  (StructField(\"city\",StringType()))]))\n",
        "                                             ])"
      ],
      "metadata": {
        "id": "Ao0857PC_J0o"
      },
      "execution_count": 29,
      "outputs": []
    },
    {
      "cell_type": "code",
      "source": [
        "jsonarraytype_df=spark.read\\\n",
        "                      .option(\"header\",True)\\\n",
        "                      .schema(jsonschema_arraytype)\\\n",
        "                      .json(\"/content/people2.json\")"
      ],
      "metadata": {
        "id": "Wzkl5IO5Crh7"
      },
      "execution_count": 31,
      "outputs": []
    },
    {
      "cell_type": "code",
      "source": [
        "jsonarraytype_df.printSchema()\n",
        "#prints the arraytype of variable"
      ],
      "metadata": {
        "colab": {
          "base_uri": "https://localhost:8080/"
        },
        "id": "m3QfMirqENwH",
        "outputId": "bde20abc-e6b6-4c06-dcc9-fb1a4b91bdc2"
      },
      "execution_count": 32,
      "outputs": [
        {
          "output_type": "stream",
          "name": "stdout",
          "text": [
            "root\n",
            " |-- name: string (nullable = true)\n",
            " |-- age: integer (nullable = true)\n",
            " |-- hobbies: array (nullable = true)\n",
            " |    |-- element: string (containsNull = true)\n",
            " |-- address: struct (nullable = true)\n",
            " |    |-- r.no: integer (nullable = true)\n",
            " |    |-- city: string (nullable = true)\n",
            "\n"
          ]
        }
      ]
    },
    {
      "cell_type": "code",
      "source": [
        "jsonarraytype_df.show(truncate=False)\n",
        "#when array list of items present in it.it is not possible to have different data types in array list"
      ],
      "metadata": {
        "colab": {
          "base_uri": "https://localhost:8080/"
        },
        "id": "uQ6THaRtEZcu",
        "outputId": "c6e29c24-bfae-48f3-dc24-f4300d319b65"
      },
      "execution_count": 34,
      "outputs": [
        {
          "output_type": "stream",
          "name": "stdout",
          "text": [
            "+-------+----+-----------------------------+----------+\n",
            "|name   |age |hobbies                      |address   |\n",
            "+-------+----+-----------------------------+----------+\n",
            "|Michael|null|null                         |null      |\n",
            "|Andy   |30  |null                         |null      |\n",
            "|Justin |19  |[cricket, newspaper, walking]|null      |\n",
            "|Candy  |20  |null                         |{12, pune}|\n",
            "+-------+----+-----------------------------+----------+\n",
            "\n"
          ]
        }
      ]
    },
    {
      "cell_type": "code",
      "source": [],
      "metadata": {
        "id": "PV0wTiv3Eg4r"
      },
      "execution_count": null,
      "outputs": []
    }
  ]
}