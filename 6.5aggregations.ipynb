{
  "nbformat": 4,
  "nbformat_minor": 0,
  "metadata": {
    "colab": {
      "provenance": []
    },
    "kernelspec": {
      "name": "python3",
      "display_name": "Python 3"
    },
    "language_info": {
      "name": "python"
    }
  },
  "cells": [
    {
      "cell_type": "markdown",
      "source": [
        "#simple Aggregations df"
      ],
      "metadata": {
        "id": "25x_e2wSoLfX"
      }
    },
    {
      "cell_type": "code",
      "execution_count": 2,
      "metadata": {
        "id": "7izrdpnpoAo7"
      },
      "outputs": [],
      "source": [
        "import os"
      ]
    },
    {
      "cell_type": "code",
      "source": [
        "!apt-get install openjdk-8-jdk-headless -qq > /dev/null\n",
        "!wget -q http://archive.apache.org/dist/spark/spark-3.1.1/spark-3.1.1-bin-hadoop3.2.tgz\n",
        "!tar xf spark-3.1.1-bin-hadoop3.2.tgz\n",
        "!pip install -q findspark"
      ],
      "metadata": {
        "id": "kSReNpPooFoc"
      },
      "execution_count": 3,
      "outputs": []
    },
    {
      "cell_type": "code",
      "source": [
        "import os\n",
        "os.environ[\"JAVA_HOME\"] = \"/usr/lib/jvm/java-8-openjdk-amd64\"\n",
        "os.environ[\"SPARK_HOME\"] = \"/content/spark-3.1.1-bin-hadoop3.2\""
      ],
      "metadata": {
        "id": "z8zm7sB7ouoJ"
      },
      "execution_count": 4,
      "outputs": []
    },
    {
      "cell_type": "code",
      "source": [
        "!pip install pyspark==3.1.1"
      ],
      "metadata": {
        "colab": {
          "base_uri": "https://localhost:8080/"
        },
        "id": "9jPF_zWfo8vD",
        "outputId": "ad2fd4fa-1f87-4ca0-bc11-8b9e897f32c5"
      },
      "execution_count": 5,
      "outputs": [
        {
          "output_type": "stream",
          "name": "stdout",
          "text": [
            "Collecting pyspark==3.1.1\n",
            "  Downloading pyspark-3.1.1.tar.gz (212.3 MB)\n",
            "\u001b[2K     \u001b[90m━━━━━━━━━━━━━━━━━━━━━━━━━━━━━━━━━━━━━━━\u001b[0m \u001b[32m212.3/212.3 MB\u001b[0m \u001b[31m4.1 MB/s\u001b[0m eta \u001b[36m0:00:00\u001b[0m\n",
            "\u001b[?25h  Preparing metadata (setup.py) ... \u001b[?25l\u001b[?25hdone\n",
            "Collecting py4j==0.10.9 (from pyspark==3.1.1)\n",
            "  Downloading py4j-0.10.9-py2.py3-none-any.whl (198 kB)\n",
            "\u001b[2K     \u001b[90m━━━━━━━━━━━━━━━━━━━━━━━━━━━━━━━━━━━━━━\u001b[0m \u001b[32m198.6/198.6 kB\u001b[0m \u001b[31m21.5 MB/s\u001b[0m eta \u001b[36m0:00:00\u001b[0m\n",
            "\u001b[?25hBuilding wheels for collected packages: pyspark\n",
            "  Building wheel for pyspark (setup.py) ... \u001b[?25l\u001b[?25hdone\n",
            "  Created wheel for pyspark: filename=pyspark-3.1.1-py2.py3-none-any.whl size=212767582 sha256=329b35e098021b1b973b357317daf719bf75c7d4f601af5515a54f04c42da55b\n",
            "  Stored in directory: /root/.cache/pip/wheels/a0/3f/72/8efd988f9ae041f051c75e6834cd92dd6d13a726e206e8b6f3\n",
            "Successfully built pyspark\n",
            "Installing collected packages: py4j, pyspark\n",
            "  Attempting uninstall: py4j\n",
            "    Found existing installation: py4j 0.10.9.7\n",
            "    Uninstalling py4j-0.10.9.7:\n",
            "      Successfully uninstalled py4j-0.10.9.7\n",
            "Successfully installed py4j-0.10.9 pyspark-3.1.1\n"
          ]
        }
      ]
    },
    {
      "cell_type": "code",
      "source": [
        "import pyspark"
      ],
      "metadata": {
        "id": "mJaWPHEMpFFU"
      },
      "execution_count": 6,
      "outputs": []
    },
    {
      "cell_type": "code",
      "source": [
        "import findspark"
      ],
      "metadata": {
        "id": "JQ0IxpzzpYcP"
      },
      "execution_count": 7,
      "outputs": []
    },
    {
      "cell_type": "code",
      "source": [
        "findspark .init()"
      ],
      "metadata": {
        "id": "AzQmmAfGph2i"
      },
      "execution_count": 8,
      "outputs": []
    },
    {
      "cell_type": "code",
      "source": [
        "from pyspark.sql import SparkSession"
      ],
      "metadata": {
        "id": "yGrr-BjIpkmZ"
      },
      "execution_count": 9,
      "outputs": []
    },
    {
      "cell_type": "code",
      "source": [
        "if __name__==\"__main__\":\n",
        "  spark = SparkSession.builder \\\n",
        "      .appName(\"myapplication\") \\\n",
        "      .master(\"local[*]\") \\\n",
        "      .getOrCreate()"
      ],
      "metadata": {
        "id": "x7iAmzBUpuu2"
      },
      "execution_count": 10,
      "outputs": []
    },
    {
      "cell_type": "code",
      "source": [
        "spark"
      ],
      "metadata": {
        "colab": {
          "base_uri": "https://localhost:8080/",
          "height": 219
        },
        "id": "GSjggAMXp1ET",
        "outputId": "23e6e9eb-1b70-46e5-97d5-fbe045d3daad"
      },
      "execution_count": 11,
      "outputs": [
        {
          "output_type": "execute_result",
          "data": {
            "text/plain": [
              "<pyspark.sql.session.SparkSession at 0x7c7adc38d5a0>"
            ],
            "text/html": [
              "\n",
              "            <div>\n",
              "                <p><b>SparkSession - in-memory</b></p>\n",
              "                \n",
              "        <div>\n",
              "            <p><b>SparkContext</b></p>\n",
              "\n",
              "            <p><a href=\"http://6b599febef07:4040\">Spark UI</a></p>\n",
              "\n",
              "            <dl>\n",
              "              <dt>Version</dt>\n",
              "                <dd><code>v3.1.1</code></dd>\n",
              "              <dt>Master</dt>\n",
              "                <dd><code>local[*]</code></dd>\n",
              "              <dt>AppName</dt>\n",
              "                <dd><code>myapplication</code></dd>\n",
              "            </dl>\n",
              "        </div>\n",
              "        \n",
              "            </div>\n",
              "        "
            ]
          },
          "metadata": {},
          "execution_count": 11
        }
      ]
    },
    {
      "cell_type": "code",
      "source": [
        "from pyspark.sql.types import StructType,StructField,StringType,IntegerType,DecimalType,DateType,TimestampType"
      ],
      "metadata": {
        "id": "Tio1WsWgqfC4"
      },
      "execution_count": 12,
      "outputs": []
    },
    {
      "cell_type": "code",
      "source": [
        "cust_schema=StructType([StructField(\"cid\",IntegerType()),\n",
        "                        StructField(\"fname\",StringType()),\n",
        "                        StructField(\"lname\",StringType()),\n",
        "                        StructField(\"age\",IntegerType()),\n",
        "                        StructField(\"desig\",StringType())])"
      ],
      "metadata": {
        "id": "5O-fKQD_qGH6"
      },
      "execution_count": 13,
      "outputs": []
    },
    {
      "cell_type": "code",
      "source": [
        "cust_df=spark.read\\\n",
        "            .option(\"header\",\"true\")\\\n",
        "            .schema(cust_schema)\\\n",
        "            .csv(\"/content/custs_with_header.csv\")"
      ],
      "metadata": {
        "id": "jxu1hxxQr9Zt"
      },
      "execution_count": 14,
      "outputs": []
    },
    {
      "cell_type": "code",
      "source": [
        "cust_df.printSchema()"
      ],
      "metadata": {
        "colab": {
          "base_uri": "https://localhost:8080/"
        },
        "id": "8epCVVjYs23u",
        "outputId": "6fa72799-af1d-4886-c186-985009682a64"
      },
      "execution_count": 15,
      "outputs": [
        {
          "output_type": "stream",
          "name": "stdout",
          "text": [
            "root\n",
            " |-- cid: integer (nullable = true)\n",
            " |-- fname: string (nullable = true)\n",
            " |-- lname: string (nullable = true)\n",
            " |-- age: integer (nullable = true)\n",
            " |-- desig: string (nullable = true)\n",
            "\n"
          ]
        }
      ]
    },
    {
      "cell_type": "code",
      "source": [
        "from pyspark.sql.functions import sum,avg,min,max,count,col,countDistinct,round"
      ],
      "metadata": {
        "id": "otlk2cqWs9ug"
      },
      "execution_count": 16,
      "outputs": []
    },
    {
      "cell_type": "code",
      "source": [
        "cust_df.select(sum(\"age\"),round(avg(\"age\"),2),min(\"age\"),max(\"age\"),count(\"age\"),countDistinct(col(\"desig\"))).show()"
      ],
      "metadata": {
        "colab": {
          "base_uri": "https://localhost:8080/"
        },
        "id": "biYjg4IZtRYY",
        "outputId": "09b9009a-a6c3-457f-9210-2736d11d9f52"
      },
      "execution_count": 17,
      "outputs": [
        {
          "output_type": "stream",
          "name": "stdout",
          "text": [
            "+--------+------------------+--------+--------+----------+---------------------+\n",
            "|sum(age)|round(avg(age), 2)|min(age)|max(age)|count(age)|count(DISTINCT desig)|\n",
            "+--------+------------------+--------+--------+----------+---------------------+\n",
            "|  485632|             48.57|      21|      75|      9999|                   50|\n",
            "+--------+------------------+--------+--------+----------+---------------------+\n",
            "\n"
          ]
        }
      ]
    },
    {
      "cell_type": "code",
      "source": [
        "from pyspark.sql import functions as f"
      ],
      "metadata": {
        "id": "uXXaiP7yuAX0"
      },
      "execution_count": 18,
      "outputs": []
    },
    {
      "cell_type": "code",
      "source": [
        "cust_df.select(f.sum(\"age\"),f.round(f.avg(\"age\"),2),f.min(\"age\"),f.max(\"age\"),f.count(\"age\"),f.countDistinct(\"age\")).show()"
      ],
      "metadata": {
        "colab": {
          "base_uri": "https://localhost:8080/"
        },
        "id": "hBf3Nai8xZgL",
        "outputId": "b987fcb3-be01-4188-9694-4c0985a7dfa9"
      },
      "execution_count": 19,
      "outputs": [
        {
          "output_type": "stream",
          "name": "stdout",
          "text": [
            "+--------+------------------+--------+--------+----------+-------------------+\n",
            "|sum(age)|round(avg(age), 2)|min(age)|max(age)|count(age)|count(DISTINCT age)|\n",
            "+--------+------------------+--------+--------+----------+-------------------+\n",
            "|  485632|             48.57|      21|      75|      9999|                 55|\n",
            "+--------+------------------+--------+--------+----------+-------------------+\n",
            "\n"
          ]
        }
      ]
    },
    {
      "cell_type": "markdown",
      "source": [
        "Multiple aggregations"
      ],
      "metadata": {
        "id": "l7lXBRwO1EH4"
      }
    },
    {
      "cell_type": "code",
      "source": [
        "tnx_schema=StructType([StructField(\"tnx_id\",IntegerType()),\n",
        "                       StructField(\"tnx_dt\",DateType()),\n",
        "                       StructField(\"cid\",IntegerType()),\n",
        "                       StructField(\"amount\",DecimalType(10,2)),\n",
        "                       StructField(\"prod_cat\",StringType()),\n",
        "                       StructField(\"prod\",StringType()),\n",
        "                       StructField(\"city\",StringType()),\n",
        "                       StructField(\"state\",StringType()),\n",
        "                       StructField(\"mode\",StringType())])"
      ],
      "metadata": {
        "id": "I70HHsqMyDo3"
      },
      "execution_count": 20,
      "outputs": []
    },
    {
      "cell_type": "code",
      "source": [
        "tnx_df=spark.read\\\n",
        "           .option(\"header\",True)\\\n",
        "           .schema(tnx_schema)\\\n",
        "           .option(\"dateFormat\",\"MM-dd-yyyy\")\\\n",
        "           .csv(\"/content/txns_with_header.csv\")"
      ],
      "metadata": {
        "id": "njJsGLhz0sBz"
      },
      "execution_count": 21,
      "outputs": []
    },
    {
      "cell_type": "code",
      "source": [
        "tnx_df.show(5)"
      ],
      "metadata": {
        "colab": {
          "base_uri": "https://localhost:8080/"
        },
        "id": "wu64rULF1Kgu",
        "outputId": "b1fe6c06-ddbb-45a8-a961-8ef82b75d198"
      },
      "execution_count": 22,
      "outputs": [
        {
          "output_type": "stream",
          "name": "stdout",
          "text": [
            "+------+----------+-------+------+------------------+--------------------+-----------+----------+------+\n",
            "|tnx_id|    tnx_dt|    cid|amount|          prod_cat|                prod|       city|     state|  mode|\n",
            "+------+----------+-------+------+------------------+--------------------+-----------+----------+------+\n",
            "|     0|2011-06-26|4007024| 40.33|Exercise & Fitness|Cardio Machine Ac...|Clarksville| Tennessee|credit|\n",
            "|     1|2011-05-26|4006742|198.44|Exercise & Fitness|Weightlifting Gloves| Long Beach|California|credit|\n",
            "|     2|2011-06-01|4009775|  5.58|Exercise & Fitness|Weightlifting Mac...|    Anaheim|California|credit|\n",
            "|     3|2011-06-05|4002199|198.19|        Gymnastics|    Gymnastics Rings|  Milwaukee| Wisconsin|credit|\n",
            "|     4|2011-12-17|4002613| 98.81|       Team Sports|        Field Hockey|Nashville  | Tennessee|credit|\n",
            "+------+----------+-------+------+------------------+--------------------+-----------+----------+------+\n",
            "only showing top 5 rows\n",
            "\n"
          ]
        }
      ]
    },
    {
      "cell_type": "code",
      "source": [
        "tnx_df.groupby('state').sum(\"amount\").orderBy(sum(\"amount\"),ascending=False).show(5)"
      ],
      "metadata": {
        "colab": {
          "base_uri": "https://localhost:8080/"
        },
        "id": "YfUAT7i51Oaj",
        "outputId": "407b0c42-dc62-4032-ed62-5ff101d52a2f"
      },
      "execution_count": 23,
      "outputs": [
        {
          "output_type": "stream",
          "name": "stdout",
          "text": [
            "+----------+-----------+\n",
            "|     state|sum(amount)|\n",
            "+----------+-----------+\n",
            "|California|  702346.23|\n",
            "|     Texas|  541267.24|\n",
            "|   Florida|  274858.95|\n",
            "|      Ohio|  188613.87|\n",
            "|    Oregon|  187052.05|\n",
            "+----------+-----------+\n",
            "only showing top 5 rows\n",
            "\n"
          ]
        }
      ]
    },
    {
      "cell_type": "code",
      "source": [
        "total_sale=f.round(f.sum(\"amount\"),0).alias(\"total_sales\")\n",
        "tnx_df\\\n",
        ".groupby(\"state\")\\\n",
        ".agg(\n",
        "    total_sale,\\\n",
        "     round(f.avg(\"amount\"),2).alias(\"average_sales\"),\\\n",
        "     f.min(\"amount\").alias(\"minimum_sales\"),\\\n",
        "     f.max(\"amount\").alias(\"maximum_sales\"),\\\n",
        "     ).show()"
      ],
      "metadata": {
        "colab": {
          "base_uri": "https://localhost:8080/"
        },
        "id": "7XSEnQ2i2V1H",
        "outputId": "0905c312-40fa-4d8e-f94c-00a89c7935b5"
      },
      "execution_count": 24,
      "outputs": [
        {
          "output_type": "stream",
          "name": "stdout",
          "text": [
            "+--------------------+-----------+-------------+-------------+-------------+\n",
            "|               state|total_sales|average_sales|minimum_sales|maximum_sales|\n",
            "+--------------------+-----------+-------------+-------------+-------------+\n",
            "|                Utah|      92071|       104.51|         5.18|       199.85|\n",
            "|              Hawaii|      42950|       101.54|         6.75|       199.82|\n",
            "|           Minnesota|      92498|       103.47|         5.08|       199.98|\n",
            "|                Ohio|     188614|       101.35|         5.22|       199.94|\n",
            "|              Oregon|     187052|       102.44|         5.09|       199.83|\n",
            "|               Texas|     541267|       101.38|         5.00|       199.91|\n",
            "|        Pennsylvania|      90443|       102.78|         5.01|       198.97|\n",
            "|         Connecticut|      91084|        99.98|         5.32|       199.93|\n",
            "|            Nebraska|      91556|       101.96|         5.15|       199.63|\n",
            "|              Nevada|      95418|       105.43|         5.08|       199.67|\n",
            "|          Washington|     181509|       101.40|         5.20|       199.81|\n",
            "|            Illinois|     134023|       100.17|         5.02|       199.91|\n",
            "|            Oklahoma|      47668|       105.00|         5.60|       199.70|\n",
            "|District of Columbia|      49720|       103.80|         5.15|       199.96|\n",
            "|            Missouri|     132471|       100.97|         5.05|       199.93|\n",
            "|             Georgia|      89437|       102.33|         5.02|       199.99|\n",
            "|            Virginia|     144447|       104.98|         5.10|       199.70|\n",
            "|            Michigan|      98197|       101.55|         5.34|       199.79|\n",
            "|      North Carolina|      87372|       103.03|         5.15|       199.59|\n",
            "|              Kansas|      92713|       101.44|         5.14|       199.85|\n",
            "+--------------------+-----------+-------------+-------------+-------------+\n",
            "only showing top 20 rows\n",
            "\n"
          ]
        }
      ]
    },
    {
      "cell_type": "code",
      "source": [
        "total_sale=f.round(f.sum(\"amount\"),0).alias(\"total_sales\")\n",
        "tnx_df\\\n",
        ".groupby(\"state\",\"city\")\\\n",
        ".agg(\n",
        "    total_sale,\\\n",
        "     round(f.avg(\"amount\"),2).alias(\"average_sales\"),\\\n",
        "     f.min(\"amount\").alias(\"minimum_sales\"),\\\n",
        "     f.max(\"amount\").alias(\"maximum_sales\"),\\\n",
        "     ).orderBy(\"state\",\"city\",ascending=[True,True])\\\n",
        "     .show()"
      ],
      "metadata": {
        "colab": {
          "base_uri": "https://localhost:8080/"
        },
        "id": "qSXVRxZb4zhE",
        "outputId": "3ba59fa2-93c2-45ae-b42f-25570a24687d"
      },
      "execution_count": 32,
      "outputs": [
        {
          "output_type": "stream",
          "name": "stdout",
          "text": [
            "+----------+-------------+-----------+-------------+-------------+-------------+\n",
            "|     state|         city|total_sales|average_sales|minimum_sales|maximum_sales|\n",
            "+----------+-------------+-----------+-------------+-------------+-------------+\n",
            "|   Alabama|   Birmingham|      20612|        96.32|         5.57|       199.39|\n",
            "|   Alabama|   Huntsville|      46623|       105.72|         5.92|       199.21|\n",
            "|   Alabama|   Montgomery|      48780|       102.26|         5.20|       199.94|\n",
            "|   Arizona|      Gilbert|      40408|       101.02|         5.71|       200.00|\n",
            "|   Arizona|      Phoenix|      45920|       102.27|         5.31|       199.58|\n",
            "|   Arizona|   Scottsdale|      44963|       103.13|         5.01|       199.99|\n",
            "|California|      Anaheim|      45263|       102.17|         5.06|       199.40|\n",
            "|California|     Berkeley|      43734|       101.00|         6.05|       199.88|\n",
            "|California|      Fremont|      47499|       103.71|         5.19|       199.88|\n",
            "|California|       Irvine|      48039|       106.52|         5.51|       199.80|\n",
            "|California|   Long Beach|      52687|       109.31|         5.24|       199.64|\n",
            "|California|  Los Angeles|      45167|        98.62|         5.03|       199.67|\n",
            "|California|      Oakland|      49765|       103.68|         5.16|       199.89|\n",
            "|California|       Orange|      47215|       103.09|         5.23|       199.92|\n",
            "|California|     Pasadena|      47061|       100.77|         5.66|       199.30|\n",
            "|California|   Sacramento|      47731|       102.87|         5.80|       199.09|\n",
            "|California|    San Diego|      43127|        99.37|         5.10|       199.86|\n",
            "|California|San Francisco|      45341|       100.53|         5.38|       199.83|\n",
            "|California|     San Jose|      47603|       104.16|         5.01|       199.37|\n",
            "|California|    Santa Ana|      48209|       103.45|         5.32|       198.97|\n",
            "+----------+-------------+-----------+-------------+-------------+-------------+\n",
            "only showing top 20 rows\n",
            "\n"
          ]
        }
      ]
    },
    {
      "cell_type": "code",
      "source": [
        "total_sale=f.round(f.sum(\"amount\"),0).alias(\"total_sales\")\n",
        "tnx_df\\\n",
        ".groupby(\"state\",\"city\")\\\n",
        ".agg(\n",
        "    total_sale,\\\n",
        "     round(f.avg(\"amount\"),2).alias(\"average_sales\"),\\\n",
        "     f.min(\"amount\").alias(\"minimum_sales\"),\\\n",
        "     f.max(\"amount\").alias(\"maximum_sales\"),\\\n",
        "     ).orderBy(\"state\",\"total_sales\",ascending=[True,False])\\\n",
        "     .show(100)"
      ],
      "metadata": {
        "colab": {
          "base_uri": "https://localhost:8080/"
        },
        "id": "CtcJi65Pxdrn",
        "outputId": "7866cbfd-b312-4381-a74a-b96d612c9db4"
      },
      "execution_count": 89,
      "outputs": [
        {
          "output_type": "stream",
          "name": "stdout",
          "text": [
            "+--------------------+----------------+-----------+-------------+-------------+-------------+\n",
            "|               state|            city|total_sales|average_sales|minimum_sales|maximum_sales|\n",
            "+--------------------+----------------+-----------+-------------+-------------+-------------+\n",
            "|             Alabama|      Montgomery|      48780|       102.26|         5.20|       199.94|\n",
            "|             Alabama|      Huntsville|      46623|       105.72|         5.92|       199.21|\n",
            "|             Alabama|      Birmingham|      20612|        96.32|         5.57|       199.39|\n",
            "|             Arizona|         Phoenix|      45920|       102.27|         5.31|       199.58|\n",
            "|             Arizona|      Scottsdale|      44963|       103.13|         5.01|       199.99|\n",
            "|             Arizona|         Gilbert|      40408|       101.02|         5.71|       200.00|\n",
            "|          California|      Long Beach|      52687|       109.31|         5.24|       199.64|\n",
            "|          California|         Oakland|      49765|       103.68|         5.16|       199.89|\n",
            "|          California|       Santa Ana|      48209|       103.45|         5.32|       198.97|\n",
            "|          California|          Irvine|      48039|       106.52|         5.51|       199.80|\n",
            "|          California|      Sacramento|      47731|       102.87|         5.80|       199.09|\n",
            "|          California|        San Jose|      47603|       104.16|         5.01|       199.37|\n",
            "|          California|         Fremont|      47499|       103.71|         5.19|       199.88|\n",
            "|          California|          Orange|      47215|       103.09|         5.23|       199.92|\n",
            "|          California|        Pasadena|      47061|       100.77|         5.66|       199.30|\n",
            "|          California|   San Francisco|      45341|       100.53|         5.38|       199.83|\n",
            "|          California|         Anaheim|      45263|       102.17|         5.06|       199.40|\n",
            "|          California|     Los Angeles|      45167|        98.62|         5.03|       199.67|\n",
            "|          California|       Sunnyvale|      43904|        99.78|         5.00|       199.52|\n",
            "|          California|        Berkeley|      43734|       101.00|         6.05|       199.88|\n",
            "|          California|       San Diego|      43127|        99.37|         5.10|       199.86|\n",
            "|            Colorado|      Centennial|      49656|       104.76|         5.07|       199.61|\n",
            "|            Colorado|Colorado Springs|      43838|        98.07|         6.84|       199.43|\n",
            "|            Colorado|        Denver  |      43078|       103.06|         5.28|       199.75|\n",
            "|            Colorado|     Westminster|      41728|       100.07|         5.70|       199.65|\n",
            "|         Connecticut|        Stamford|      46080|       102.40|         5.32|       199.93|\n",
            "|         Connecticut|        Hartford|      45004|        97.62|         5.82|       199.83|\n",
            "|District of Columbia|      Washington|      49720|       103.80|         5.15|       199.96|\n",
            "|             Florida|         Orlando|      46645|       103.66|         5.18|       199.89|\n",
            "|             Florida|           Tampa|      46482|       104.93|         5.67|       198.90|\n",
            "|             Florida|   Coral Springs|      46035|       103.45|         5.24|       198.98|\n",
            "|             Florida|  St. Petersburg|      45927|       101.16|         5.25|       199.91|\n",
            "|             Florida|           Miami|      45817|       105.57|         5.32|       199.48|\n",
            "|             Florida|   Jacksonville |      43952|       100.12|         5.26|       199.90|\n",
            "|             Georgia|        Columbus|      45791|       100.20|         5.02|       199.99|\n",
            "|             Georgia|         Atlanta|      43646|       104.67|         5.10|       199.91|\n",
            "|              Hawaii|      Honolulu  |      42950|       101.54|         6.75|       199.82|\n",
            "|               Idaho|           Boise|      45031|        98.97|         6.06|       199.99|\n",
            "|            Illinois|         Chicago|      46557|       102.55|         5.27|       199.91|\n",
            "|            Illinois|        Rockford|      44292|        98.87|         5.02|       199.55|\n",
            "|            Illinois|     Springfield|      43174|        99.02|         5.27|       199.81|\n",
            "|             Indiana|   Indianapolis |      44616|       100.71|         5.14|       199.19|\n",
            "|                Iowa|      Des Moines|      46808|       103.10|         5.25|       199.26|\n",
            "|              Kansas|     Kansas City|      49158|       100.32|         5.75|       199.85|\n",
            "|              Kansas|   Overland Park|      43556|       102.73|         5.14|       199.68|\n",
            "|            Kentucky|      Louisville|      47563|       106.64|         5.39|       199.70|\n",
            "|            Kentucky|       Lexington|      42718|       101.47|         5.37|       199.77|\n",
            "|           Louisiana|     New Orleans|      48836|       103.47|         5.01|       199.62|\n",
            "|            Maryland|       Baltimore|      44927|       100.51|         5.83|       199.81|\n",
            "|       Massachusetts|          Boston|      50532|       107.98|         5.63|       199.24|\n",
            "|       Massachusetts|       Cambridge|      47809|       103.26|         5.29|       199.42|\n",
            "|       Massachusetts|          Lowell|      45403|       102.26|         5.07|       198.83|\n",
            "|            Michigan|         Detroit|      50878|       103.41|         5.38|       199.54|\n",
            "|            Michigan|           Flint|      47319|        99.62|         5.34|       199.79|\n",
            "|           Minnesota|      Saint Paul|      48108|       103.68|         5.08|       199.74|\n",
            "|           Minnesota|     Minneapolis|      44390|       103.23|         5.74|       199.98|\n",
            "|         Mississippi|         Jackson|      47875|       101.21|         5.05|       199.22|\n",
            "|            Missouri|        Columbia|      45506|        99.58|         5.28|       199.93|\n",
            "|            Missouri|     Kansas City|      43593|       103.30|         5.05|       199.68|\n",
            "|            Missouri|     St. Louis  |      43372|       100.17|         5.58|       197.40|\n",
            "|            Nebraska|         Lincoln|      47142|       101.82|         5.15|       199.62|\n",
            "|            Nebraska|           Omaha|      44414|       102.10|         5.46|       199.63|\n",
            "|              Nevada|            Reno|      48957|       105.28|         5.14|       199.67|\n",
            "|              Nevada|       Las Vegas|      46462|       105.59|         5.08|       199.06|\n",
            "|          New Jersey|        Paterson|      47983|       106.63|         5.74|       199.88|\n",
            "|          New Jersey|          Newark|      45387|       102.92|         5.17|       199.89|\n",
            "|          New Jersey|     Jersey City|      43479|       100.65|         5.13|       199.49|\n",
            "|            New York|         Buffalo|      50934|       100.46|         5.03|       199.59|\n",
            "|            New York|        New York|      47822|       100.05|         5.44|       199.90|\n",
            "|      North Carolina|       Charlotte|      44399|       103.02|         5.15|       199.59|\n",
            "|      North Carolina|          Durham|      42973|       103.05|         6.60|       198.80|\n",
            "|                Ohio|      Cincinnati|      52008|       106.36|         5.22|       199.20|\n",
            "|                Ohio|       Cleveland|      46443|        99.03|         5.49|       199.44|\n",
            "|                Ohio|          Dayton|      45368|        99.93|         5.32|       199.94|\n",
            "|                Ohio|        Columbus|      44795|        99.77|         5.41|       199.74|\n",
            "|            Oklahoma|   Oklahoma City|      47668|       105.00|         5.60|       199.70|\n",
            "|              Oregon|         Gresham|      49034|       105.00|         5.09|       199.02|\n",
            "|              Oregon|           Salem|      48284|       102.30|         6.03|       199.48|\n",
            "|              Oregon|        Portland|      45258|        99.47|         5.18|       198.98|\n",
            "|              Oregon|          Eugene|      44476|       102.95|         5.41|       199.83|\n",
            "|        Pennsylvania|    Philadelphia|      45978|       101.27|         6.04|       198.97|\n",
            "|        Pennsylvania|      Pittsburgh|      44465|       104.38|         5.01|       198.89|\n",
            "|      South Carolina|        Columbia|      48347|       104.42|         5.29|       199.68|\n",
            "|      South Carolina|      Charleston|      46599|       102.64|         7.04|       199.62|\n",
            "|           Tennessee|     Clarksville|      46467|       100.58|         5.07|       199.70|\n",
            "|           Tennessee|     Chattanooga|      44322|        96.56|         5.62|       198.91|\n",
            "|           Tennessee|         Memphis|      44269|       102.71|         5.14|       199.89|\n",
            "|           Tennessee|     Nashville  |      42628|        97.32|         5.22|       199.51|\n",
            "|               Texas|        Pasadena|      48473|       102.70|         5.09|       199.37|\n",
            "|               Texas|          Irving|      48291|       102.53|         5.09|       199.84|\n",
            "|               Texas|         El Paso|      47139|       102.92|         5.05|       199.79|\n",
            "|               Texas|        McKinney|      46841|       100.30|         5.16|       199.60|\n",
            "|               Texas|         Midland|      45913|       101.35|         7.07|       199.65|\n",
            "|               Texas|          Dallas|      45534|       102.09|         5.51|       198.88|\n",
            "|               Texas|     San Antonio|      44540|       102.39|         5.06|       199.87|\n",
            "|               Texas|          Denton|      44444|       101.47|         5.00|       199.91|\n",
            "|               Texas|     Brownsville|      44387|        99.52|         5.16|       199.83|\n",
            "|               Texas|           Plano|      42553|       102.78|         5.02|       199.86|\n",
            "|               Texas|          Austin|      42415|       103.45|         5.24|       199.37|\n",
            "|               Texas|         Houston|      40737|        94.96|         5.50|       199.43|\n",
            "+--------------------+----------------+-----------+-------------+-------------+-------------+\n",
            "only showing top 100 rows\n",
            "\n"
          ]
        }
      ]
    },
    {
      "cell_type": "code",
      "source": [
        "total_sale=f.round(f.sum(\"amount\"),0).alias(\"total_sales\")\n",
        "tnx_df\\\n",
        ".groupby(\"state\",\"city\")\\\n",
        ".agg(\n",
        "    total_sale,\\\n",
        "     round(f.avg(\"amount\"),2).alias(\"average_sales\"),\\\n",
        "     f.min(\"amount\").alias(\"minimum_sales\"),\\\n",
        "     f.max(\"amount\").alias(\"maximum_sales\"),\\\n",
        "     ).orderBy(\"state\",\"city\",ascending=[True,True])\\\n",
        "     .where(col(\"state\").isin('California','Arizona','Texas','Kentucky'))\\\n",
        "     .show()"
      ],
      "metadata": {
        "colab": {
          "base_uri": "https://localhost:8080/"
        },
        "id": "vAxmKCoursg9",
        "outputId": "70626929-bad0-4cd5-aa84-b14256ab3108"
      },
      "execution_count": 91,
      "outputs": [
        {
          "output_type": "stream",
          "name": "stdout",
          "text": [
            "+----------+-------------+-----------+-------------+-------------+-------------+\n",
            "|     state|         city|total_sales|average_sales|minimum_sales|maximum_sales|\n",
            "+----------+-------------+-----------+-------------+-------------+-------------+\n",
            "|   Arizona|      Gilbert|      40408|       101.02|         5.71|       200.00|\n",
            "|   Arizona|      Phoenix|      45920|       102.27|         5.31|       199.58|\n",
            "|   Arizona|   Scottsdale|      44963|       103.13|         5.01|       199.99|\n",
            "|California|      Anaheim|      45263|       102.17|         5.06|       199.40|\n",
            "|California|     Berkeley|      43734|       101.00|         6.05|       199.88|\n",
            "|California|      Fremont|      47499|       103.71|         5.19|       199.88|\n",
            "|California|       Irvine|      48039|       106.52|         5.51|       199.80|\n",
            "|California|   Long Beach|      52687|       109.31|         5.24|       199.64|\n",
            "|California|  Los Angeles|      45167|        98.62|         5.03|       199.67|\n",
            "|California|      Oakland|      49765|       103.68|         5.16|       199.89|\n",
            "|California|       Orange|      47215|       103.09|         5.23|       199.92|\n",
            "|California|     Pasadena|      47061|       100.77|         5.66|       199.30|\n",
            "|California|   Sacramento|      47731|       102.87|         5.80|       199.09|\n",
            "|California|    San Diego|      43127|        99.37|         5.10|       199.86|\n",
            "|California|San Francisco|      45341|       100.53|         5.38|       199.83|\n",
            "|California|     San Jose|      47603|       104.16|         5.01|       199.37|\n",
            "|California|    Santa Ana|      48209|       103.45|         5.32|       198.97|\n",
            "|California|    Sunnyvale|      43904|        99.78|         5.00|       199.52|\n",
            "|  Kentucky|    Lexington|      42718|       101.47|         5.37|       199.77|\n",
            "|  Kentucky|   Louisville|      47563|       106.64|         5.39|       199.70|\n",
            "+----------+-------------+-----------+-------------+-------------+-------------+\n",
            "only showing top 20 rows\n",
            "\n"
          ]
        }
      ]
    },
    {
      "cell_type": "markdown",
      "source": [
        "##window functions usage in data frame"
      ],
      "metadata": {
        "id": "8LCKmNgj7p72"
      }
    },
    {
      "cell_type": "code",
      "source": [
        "from pyspark.sql import Window\n",
        "#For Window W is capital"
      ],
      "metadata": {
        "id": "9RIWsSM10bjS"
      },
      "execution_count": 51,
      "outputs": []
    },
    {
      "cell_type": "code",
      "source": [
        "total_sale_statewise_df=tnx_df.groupby(\"state\",\"city\")\\\n",
        "                             .agg(round(sum(\"amount\"),0).alias(\"total_sales\"))\\\n",
        "                             .orderBy(\"state\",\"city\",ascending=[True,True])"
      ],
      "metadata": {
        "id": "0PZ5D8NF76iJ"
      },
      "execution_count": 48,
      "outputs": []
    },
    {
      "cell_type": "code",
      "source": [
        "total_sale_statewise_df.show()"
      ],
      "metadata": {
        "colab": {
          "base_uri": "https://localhost:8080/"
        },
        "id": "iWvsuABd9uVU",
        "outputId": "e934658c-6905-4466-e1af-ec5116b40093"
      },
      "execution_count": 49,
      "outputs": [
        {
          "output_type": "stream",
          "name": "stdout",
          "text": [
            "+----------+-------------+-----------+\n",
            "|     state|         city|total_sales|\n",
            "+----------+-------------+-----------+\n",
            "|   Alabama|   Birmingham|      20612|\n",
            "|   Alabama|   Huntsville|      46623|\n",
            "|   Alabama|   Montgomery|      48780|\n",
            "|   Arizona|      Gilbert|      40408|\n",
            "|   Arizona|      Phoenix|      45920|\n",
            "|   Arizona|   Scottsdale|      44963|\n",
            "|California|      Anaheim|      45263|\n",
            "|California|     Berkeley|      43734|\n",
            "|California|      Fremont|      47499|\n",
            "|California|       Irvine|      48039|\n",
            "|California|   Long Beach|      52687|\n",
            "|California|  Los Angeles|      45167|\n",
            "|California|      Oakland|      49765|\n",
            "|California|       Orange|      47215|\n",
            "|California|     Pasadena|      47061|\n",
            "|California|   Sacramento|      47731|\n",
            "|California|    San Diego|      43127|\n",
            "|California|San Francisco|      45341|\n",
            "|California|     San Jose|      47603|\n",
            "|California|    Santa Ana|      48209|\n",
            "+----------+-------------+-----------+\n",
            "only showing top 20 rows\n",
            "\n"
          ]
        }
      ]
    },
    {
      "cell_type": "code",
      "source": [
        "window_for_running_total=Window.partitionBy(\"state\")\\\n",
        "                               .orderBy(\"city\")\\\n",
        "                               .rowsBetween(Window.unboundedPreceding,Window.currentRow)\n",
        "#For Window W is capital and in rows between we dont use quotations"
      ],
      "metadata": {
        "id": "m-eBJkFG90Wx"
      },
      "execution_count": 53,
      "outputs": []
    },
    {
      "cell_type": "code",
      "source": [
        "calculating_runningtotal_df=total_sale_statewise_df\\\n",
        "                            .withColumn(\"Running_total\",sum(\"total_sales\").over(window_for_running_total))\\\n",
        "                            .orderBy(\"state\",\"city\",ascending=[True,True])\n",
        "#in over clause we donot use quotation"
      ],
      "metadata": {
        "id": "Xbo38w1L_kD2"
      },
      "execution_count": 55,
      "outputs": []
    },
    {
      "cell_type": "code",
      "source": [
        "calculating_runningtotal_df.show(20)"
      ],
      "metadata": {
        "colab": {
          "base_uri": "https://localhost:8080/"
        },
        "id": "DAE05IZXEHTp",
        "outputId": "9de39846-0b85-4086-8bc4-ab4253bd2cbd"
      },
      "execution_count": 56,
      "outputs": [
        {
          "output_type": "stream",
          "name": "stdout",
          "text": [
            "+----------+-------------+-----------+-------------+\n",
            "|     state|         city|total_sales|Running_total|\n",
            "+----------+-------------+-----------+-------------+\n",
            "|   Alabama|   Birmingham|      20612|        20612|\n",
            "|   Alabama|   Huntsville|      46623|        67235|\n",
            "|   Alabama|   Montgomery|      48780|       116015|\n",
            "|   Arizona|      Gilbert|      40408|        40408|\n",
            "|   Arizona|      Phoenix|      45920|        86328|\n",
            "|   Arizona|   Scottsdale|      44963|       131291|\n",
            "|California|      Anaheim|      45263|        45263|\n",
            "|California|     Berkeley|      43734|        88997|\n",
            "|California|      Fremont|      47499|       136496|\n",
            "|California|       Irvine|      48039|       184535|\n",
            "|California|   Long Beach|      52687|       237222|\n",
            "|California|  Los Angeles|      45167|       282389|\n",
            "|California|      Oakland|      49765|       332154|\n",
            "|California|       Orange|      47215|       379369|\n",
            "|California|     Pasadena|      47061|       426430|\n",
            "|California|   Sacramento|      47731|       474161|\n",
            "|California|    San Diego|      43127|       517288|\n",
            "|California|San Francisco|      45341|       562629|\n",
            "|California|     San Jose|      47603|       610232|\n",
            "|California|    Santa Ana|      48209|       658441|\n",
            "+----------+-------------+-----------+-------------+\n",
            "only showing top 20 rows\n",
            "\n"
          ]
        }
      ]
    },
    {
      "cell_type": "code",
      "source": [
        "calculating_runningtotal_df_avg=total_sale_statewise_df\\\n",
        "                            .withColumn(\"avg_Running_total\",avg(\"total_sales\").over(window_for_running_total))\\\n",
        "                            .orderBy(\"state\",\"city\",ascending=[True,True])\n",
        "#in over clause we donot use quotation"
      ],
      "metadata": {
        "id": "MpXGqmaEGJvx"
      },
      "execution_count": 61,
      "outputs": []
    },
    {
      "cell_type": "code",
      "source": [
        "calculating_runningtotal_df_avg.show()"
      ],
      "metadata": {
        "colab": {
          "base_uri": "https://localhost:8080/"
        },
        "id": "zpiC3A9HGVLY",
        "outputId": "1f84ab3b-54bf-4bb6-8e65-2b7f948423cf"
      },
      "execution_count": 62,
      "outputs": [
        {
          "output_type": "stream",
          "name": "stdout",
          "text": [
            "+----------+-------------+-----------+-----------------+\n",
            "|     state|         city|total_sales|avg_Running_total|\n",
            "+----------+-------------+-----------+-----------------+\n",
            "|   Alabama|   Birmingham|      20612|       20612.0000|\n",
            "|   Alabama|   Huntsville|      46623|       33617.5000|\n",
            "|   Alabama|   Montgomery|      48780|       38671.6667|\n",
            "|   Arizona|      Gilbert|      40408|       40408.0000|\n",
            "|   Arizona|      Phoenix|      45920|       43164.0000|\n",
            "|   Arizona|   Scottsdale|      44963|       43763.6667|\n",
            "|California|      Anaheim|      45263|       45263.0000|\n",
            "|California|     Berkeley|      43734|       44498.5000|\n",
            "|California|      Fremont|      47499|       45498.6667|\n",
            "|California|       Irvine|      48039|       46133.7500|\n",
            "|California|   Long Beach|      52687|       47444.4000|\n",
            "|California|  Los Angeles|      45167|       47064.8333|\n",
            "|California|      Oakland|      49765|       47450.5714|\n",
            "|California|       Orange|      47215|       47421.1250|\n",
            "|California|     Pasadena|      47061|       47381.1111|\n",
            "|California|   Sacramento|      47731|       47416.1000|\n",
            "|California|    San Diego|      43127|       47026.1818|\n",
            "|California|San Francisco|      45341|       46885.7500|\n",
            "|California|     San Jose|      47603|       46940.9231|\n",
            "|California|    Santa Ana|      48209|       47031.5000|\n",
            "+----------+-------------+-----------+-----------------+\n",
            "only showing top 20 rows\n",
            "\n"
          ]
        }
      ]
    },
    {
      "cell_type": "code",
      "source": [
        "tnx_df.show(5)"
      ],
      "metadata": {
        "colab": {
          "base_uri": "https://localhost:8080/"
        },
        "id": "Vc05K9G2FzcZ",
        "outputId": "8a661741-f507-4b9f-c449-5b4c3d0e4737"
      },
      "execution_count": 63,
      "outputs": [
        {
          "output_type": "stream",
          "name": "stdout",
          "text": [
            "+------+----------+-------+------+------------------+--------------------+-----------+----------+------+\n",
            "|tnx_id|    tnx_dt|    cid|amount|          prod_cat|                prod|       city|     state|  mode|\n",
            "+------+----------+-------+------+------------------+--------------------+-----------+----------+------+\n",
            "|     0|2011-06-26|4007024| 40.33|Exercise & Fitness|Cardio Machine Ac...|Clarksville| Tennessee|credit|\n",
            "|     1|2011-05-26|4006742|198.44|Exercise & Fitness|Weightlifting Gloves| Long Beach|California|credit|\n",
            "|     2|2011-06-01|4009775|  5.58|Exercise & Fitness|Weightlifting Mac...|    Anaheim|California|credit|\n",
            "|     3|2011-06-05|4002199|198.19|        Gymnastics|    Gymnastics Rings|  Milwaukee| Wisconsin|credit|\n",
            "|     4|2011-12-17|4002613| 98.81|       Team Sports|        Field Hockey|Nashville  | Tennessee|credit|\n",
            "+------+----------+-------+------+------------------+--------------------+-----------+----------+------+\n",
            "only showing top 5 rows\n",
            "\n"
          ]
        }
      ]
    },
    {
      "cell_type": "code",
      "source": [
        "totalsales_for_product_df=tnx_df.groupBy(\"prod_cat\",\"prod\")\\\n",
        "                                .agg(round(sum(\"amount\"),0).alias(\"productsales\"))\\\n",
        "                                .orderBy(\"prod_cat\",\"prod\",ascending=[True,True])"
      ],
      "metadata": {
        "id": "D9t6CpcZE0gc"
      },
      "execution_count": 82,
      "outputs": []
    },
    {
      "cell_type": "code",
      "source": [
        "running_total_for_product=Window.partitionBy(\"prod_cat\")\\\n",
        "                                .orderBy(\"prod\")\\\n",
        "                                .rowsBetween(Window.unboundedPreceding,Window.currentRow)"
      ],
      "metadata": {
        "id": "P4RXxN5gMTFM"
      },
      "execution_count": 84,
      "outputs": []
    },
    {
      "cell_type": "code",
      "source": [
        "runningtotal_for_productcategory_df=totalsales_for_product_df.withColumn(\"productcat_running_total\",sum(\"productsales\").over(running_total_for_product))\\\n",
        "                                                                         .orderBy(\"prod_cat\",\"prod\",ascending=[True,True])"
      ],
      "metadata": {
        "id": "v-NRUUobIype"
      },
      "execution_count": 85,
      "outputs": []
    },
    {
      "cell_type": "code",
      "source": [
        "runningtotal_for_productcategory_df.show()"
      ],
      "metadata": {
        "colab": {
          "base_uri": "https://localhost:8080/"
        },
        "id": "OuBxoX_3KLTE",
        "outputId": "b2c028a7-6ac9-409a-ee70-6be47eadd6a4"
      },
      "execution_count": 86,
      "outputs": [
        {
          "output_type": "stream",
          "name": "stdout",
          "text": [
            "+------------------+--------------------+------------+------------------------+\n",
            "|          prod_cat|                prod|productsales|productcat_running_total|\n",
            "+------------------+--------------------+------------+------------------------+\n",
            "|        Air Sports|           Air Suits|       19372|                   19372|\n",
            "|        Air Sports|        Hang Gliding|       38759|                   58131|\n",
            "|        Air Sports|          Parachutes|       41186|                   99317|\n",
            "|     Combat Sports|              Boxing|       44517|                   44517|\n",
            "|     Combat Sports|             Fencing|       40604|                   85121|\n",
            "|     Combat Sports|        Martial Arts|       39277|                  124398|\n",
            "|     Combat Sports|           Wrestling|       40333|                  164731|\n",
            "|           Dancing|         Ballet Bars|       42604|                   42604|\n",
            "|Exercise & Fitness| Abdominal Equipment|       43304|                   43304|\n",
            "|Exercise & Fitness|Cardio Machine Ac...|       46486|                   89790|\n",
            "|Exercise & Fitness|     Cardio Machines|       40902|                  130692|\n",
            "|Exercise & Fitness|      Exercise Balls|       45144|                  175836|\n",
            "|Exercise & Fitness|      Exercise Bands|       37680|                  213516|\n",
            "|Exercise & Fitness|        Foam Rollers|       42779|                  256295|\n",
            "|Exercise & Fitness|    Free Weight Bars|       41916|                  298211|\n",
            "|Exercise & Fitness|        Free Weights|       41967|                  340178|\n",
            "|Exercise & Fitness|            Gym Mats|       39275|                  379453|\n",
            "|Exercise & Fitness|          Jump Ropes|       40668|                  420121|\n",
            "|Exercise & Fitness|      Medicine Balls|       42799|                  462920|\n",
            "|Exercise & Fitness|         Stopwatches|       44444|                  507364|\n",
            "+------------------+--------------------+------------+------------------------+\n",
            "only showing top 20 rows\n",
            "\n"
          ]
        }
      ]
    },
    {
      "cell_type": "code",
      "source": [
        "rankWindow_for_product=Window.partitionBy(\"prod_cat\")\\\n",
        "                            .orderBy(\"productsales\")"
      ],
      "metadata": {
        "id": "vRCyyGDFKic6"
      },
      "execution_count": 124,
      "outputs": []
    },
    {
      "cell_type": "code",
      "source": [
        "top_3_ranks_for_productcategory=totalsales_for_product_df.withColumn(\"Rank\",f.rank()\\\n",
        "                                                                     .over(rankWindow_for_product))\\\n",
        "                                                                     .orderBy(\"prod_cat\")\n",
        "#order should be mentioned in this function by default descending is true"
      ],
      "metadata": {
        "id": "4MOBagk0y3Oj"
      },
      "execution_count": 127,
      "outputs": []
    },
    {
      "cell_type": "code",
      "source": [
        "top_3_ranks_for_productcategory.where(\"Rank < 4\").show()"
      ],
      "metadata": {
        "colab": {
          "base_uri": "https://localhost:8080/"
        },
        "id": "OQhliH8iz3qK",
        "outputId": "09773c12-bc6c-4618-9aef-c0659c568da3"
      },
      "execution_count": 128,
      "outputs": [
        {
          "output_type": "stream",
          "name": "stdout",
          "text": [
            "+------------------+--------------------+------------+----+\n",
            "|          prod_cat|                prod|productsales|Rank|\n",
            "+------------------+--------------------+------------+----+\n",
            "|        Air Sports|           Air Suits|       19372|   1|\n",
            "|        Air Sports|        Hang Gliding|       38759|   2|\n",
            "|        Air Sports|          Parachutes|       41186|   3|\n",
            "|     Combat Sports|        Martial Arts|       39277|   1|\n",
            "|     Combat Sports|           Wrestling|       40333|   2|\n",
            "|     Combat Sports|             Fencing|       40604|   3|\n",
            "|           Dancing|         Ballet Bars|       42604|   1|\n",
            "|Exercise & Fitness|      Exercise Bands|       37680|   1|\n",
            "|Exercise & Fitness|Weightlifting Gloves|       38439|   2|\n",
            "|Exercise & Fitness|            Gym Mats|       39275|   3|\n",
            "|             Games|          Dice Games|       40397|   2|\n",
            "|             Games|          Card Games|       40839|   3|\n",
            "|             Games|            Dominoes|       39585|   1|\n",
            "|        Gymnastics|    Gymnastics Rings|       39872|   3|\n",
            "|        Gymnastics|        Springboards|       37891|   1|\n",
            "|        Gymnastics|       Pommel Horses|       38900|   2|\n",
            "|      Indoor Games|           Billiards|       38615|   1|\n",
            "|      Indoor Games|           Ping Pong|       39973|   2|\n",
            "|      Indoor Games|             Bowling|       40053|   3|\n",
            "|           Jumping|         Pogo Sticks|       40622|   2|\n",
            "+------------------+--------------------+------------+----+\n",
            "only showing top 20 rows\n",
            "\n"
          ]
        }
      ]
    },
    {
      "cell_type": "code",
      "source": [],
      "metadata": {
        "id": "eeX7jH9j1P_r"
      },
      "execution_count": null,
      "outputs": []
    }
  ]
}