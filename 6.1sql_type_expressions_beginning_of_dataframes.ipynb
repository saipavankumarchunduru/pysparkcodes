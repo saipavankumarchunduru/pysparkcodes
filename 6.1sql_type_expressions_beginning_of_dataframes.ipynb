{
  "nbformat": 4,
  "nbformat_minor": 0,
  "metadata": {
    "colab": {
      "provenance": []
    },
    "kernelspec": {
      "name": "python3",
      "display_name": "Python 3"
    },
    "language_info": {
      "name": "python"
    }
  },
  "cells": [
    {
      "cell_type": "code",
      "execution_count": 1,
      "metadata": {
        "id": "-OhtA7he645w"
      },
      "outputs": [],
      "source": [
        "import os"
      ]
    },
    {
      "cell_type": "code",
      "source": [
        "!apt-get install openjdk-8-jdk-headless -qq > /dev/null\n",
        "!wget -q http://archive.apache.org/dist/spark/spark-3.1.1/spark-3.1.1-bin-hadoop3.2.tgz\n",
        "!tar xf spark-3.1.1-bin-hadoop3.2.tgz\n",
        "!pip install -q findspark"
      ],
      "metadata": {
        "id": "aZJYISEOQk5t"
      },
      "execution_count": 2,
      "outputs": []
    },
    {
      "cell_type": "code",
      "source": [
        "import os\n",
        "os.environ[\"JAVA_HOME\"] = \"/usr/lib/jvm/java-8-openjdk-amd64\"\n",
        "os.environ[\"SPARK_HOME\"] = \"/content/spark-3.1.1-bin-hadoop3.2\""
      ],
      "metadata": {
        "id": "ItvjFz51Qs4d"
      },
      "execution_count": 3,
      "outputs": []
    },
    {
      "cell_type": "code",
      "source": [],
      "metadata": {
        "id": "spDyGDObRqOh"
      },
      "execution_count": null,
      "outputs": []
    },
    {
      "cell_type": "code",
      "source": [
        "!pip install pyspark==3.1.1"
      ],
      "metadata": {
        "colab": {
          "base_uri": "https://localhost:8080/"
        },
        "id": "2Ry9oludRspL",
        "outputId": "0db1cba4-9f6a-4ac5-b4e7-6eae30b4a7b0"
      },
      "execution_count": 4,
      "outputs": [
        {
          "output_type": "stream",
          "name": "stdout",
          "text": [
            "Collecting pyspark==3.1.1\n",
            "  Downloading pyspark-3.1.1.tar.gz (212.3 MB)\n",
            "\u001b[2K     \u001b[90m━━━━━━━━━━━━━━━━━━━━━━━━━━━━━━━━━━━━━━━\u001b[0m \u001b[32m212.3/212.3 MB\u001b[0m \u001b[31m4.4 MB/s\u001b[0m eta \u001b[36m0:00:00\u001b[0m\n",
            "\u001b[?25h  Preparing metadata (setup.py) ... \u001b[?25l\u001b[?25hdone\n",
            "Collecting py4j==0.10.9 (from pyspark==3.1.1)\n",
            "  Downloading py4j-0.10.9-py2.py3-none-any.whl (198 kB)\n",
            "\u001b[2K     \u001b[90m━━━━━━━━━━━━━━━━━━━━━━━━━━━━━━━━━━━━━━\u001b[0m \u001b[32m198.6/198.6 kB\u001b[0m \u001b[31m23.6 MB/s\u001b[0m eta \u001b[36m0:00:00\u001b[0m\n",
            "\u001b[?25hBuilding wheels for collected packages: pyspark\n",
            "  Building wheel for pyspark (setup.py) ... \u001b[?25l\u001b[?25hdone\n",
            "  Created wheel for pyspark: filename=pyspark-3.1.1-py2.py3-none-any.whl size=212767582 sha256=44b751ba252d95a2ccc027852ce13b25f6c6f2367a11190e7f5215187c1d5465\n",
            "  Stored in directory: /root/.cache/pip/wheels/a0/3f/72/8efd988f9ae041f051c75e6834cd92dd6d13a726e206e8b6f3\n",
            "Successfully built pyspark\n",
            "Installing collected packages: py4j, pyspark\n",
            "  Attempting uninstall: py4j\n",
            "    Found existing installation: py4j 0.10.9.7\n",
            "    Uninstalling py4j-0.10.9.7:\n",
            "      Successfully uninstalled py4j-0.10.9.7\n",
            "Successfully installed py4j-0.10.9 pyspark-3.1.1\n"
          ]
        }
      ]
    },
    {
      "cell_type": "code",
      "source": [
        "import pyspark\n"
      ],
      "metadata": {
        "id": "Ocea7T0ESBLg"
      },
      "execution_count": 5,
      "outputs": []
    },
    {
      "cell_type": "code",
      "source": [
        "from pyspark.sql import SparkSession\n"
      ],
      "metadata": {
        "id": "JoubIgy1UgLa"
      },
      "execution_count": 6,
      "outputs": []
    },
    {
      "cell_type": "code",
      "source": [
        "from pyspark import SparkConf"
      ],
      "metadata": {
        "id": "0W75lFbmUokD"
      },
      "execution_count": 7,
      "outputs": []
    },
    {
      "cell_type": "code",
      "source": [
        "from pyspark.sql.types import StructType,StructField,StringType"
      ],
      "metadata": {
        "id": "ddloj2kaUuhw"
      },
      "execution_count": 8,
      "outputs": []
    },
    {
      "cell_type": "code",
      "source": [
        "if __name__==\"__main__\":\n",
        "  spark = SparkSession.builder \\\n",
        "      .appName(\"myapplication\") \\\n",
        "      .master(\"local[*]\") \\\n",
        "      .getOrCreate()\n"
      ],
      "metadata": {
        "id": "MS9rlApXUyIX"
      },
      "execution_count": 9,
      "outputs": []
    },
    {
      "cell_type": "code",
      "source": [
        "df= spark.read.option(\"header\",True).option(\"inferSchema\",True).csv(\"/content/custs_with_header.csv\")"
      ],
      "metadata": {
        "id": "udfh-NDMU3ZY"
      },
      "execution_count": 11,
      "outputs": []
    },
    {
      "cell_type": "code",
      "source": [
        "df.printSchema()"
      ],
      "metadata": {
        "colab": {
          "base_uri": "https://localhost:8080/"
        },
        "id": "z-PoovtKtAsD",
        "outputId": "328f07c0-add0-4787-dcfd-d4a434f59eb9"
      },
      "execution_count": 12,
      "outputs": [
        {
          "output_type": "stream",
          "name": "stdout",
          "text": [
            "root\n",
            " |-- cid: integer (nullable = true)\n",
            " |-- fname: string (nullable = true)\n",
            " |-- lname: string (nullable = true)\n",
            " |-- age: integer (nullable = true)\n",
            " |-- desig: string (nullable = true)\n",
            "\n"
          ]
        }
      ]
    },
    {
      "cell_type": "code",
      "source": [
        "df.show()"
      ],
      "metadata": {
        "colab": {
          "base_uri": "https://localhost:8080/"
        },
        "id": "Nrk1YUG1tM8U",
        "outputId": "a02c524a-a1f0-4fa7-ebb0-f62357572b5d"
      },
      "execution_count": 13,
      "outputs": [
        {
          "output_type": "stream",
          "name": "stdout",
          "text": [
            "+-------+--------+----------+---+--------------------+\n",
            "|    cid|   fname|     lname|age|               desig|\n",
            "+-------+--------+----------+---+--------------------+\n",
            "|4000001|Kristina|     Chung| 55|               Pilot|\n",
            "|4000002|   Paige|      Chen| 74|             Teacher|\n",
            "|4000003|  Sherri|    Melton| 34|         Firefighter|\n",
            "|4000004|Gretchen|      Hill| 66|Computer hardware...|\n",
            "|4000005|   Karen|   Puckett| 74|              Lawyer|\n",
            "|4000006| Patrick|      Song| 42|        Veterinarian|\n",
            "|4000007|   Elsie|  Hamilton| 43|               Pilot|\n",
            "|4000008|   Hazel|    Bender| 63|           Carpenter|\n",
            "|4000009| Malcolm|    Wagner| 39|              Artist|\n",
            "|4000010| Dolores|McLaughlin| 60|              Writer|\n",
            "|4000011| Francis|  McNamara| 47|           Therapist|\n",
            "|4000012|   Sandy|    Raynor| 26|              Writer|\n",
            "|4000013|  Marion|      Moon| 41|           Carpenter|\n",
            "|4000014|    Beth|   Woodard| 65|                null|\n",
            "|4000015|   Julia|     Desai| 49|            Musician|\n",
            "|4000016|  Jerome|   Wallace| 52|          Pharmacist|\n",
            "|4000017|    Neal|  Lawrence| 72|Computer support ...|\n",
            "|4000018|    Jean|   Griffin| 45|    Childcare worker|\n",
            "|4000019|Kristine| Dougherty| 63|   Financial analyst|\n",
            "|4000020| Crystal|    Powers| 67|Engineering techn...|\n",
            "+-------+--------+----------+---+--------------------+\n",
            "only showing top 20 rows\n",
            "\n"
          ]
        }
      ]
    },
    {
      "cell_type": "code",
      "source": [
        "df.where(\"age>40\").orderBy(\"fname\",\"lname\",\"age\",ascending=[True,\"true\",False]).show()"
      ],
      "metadata": {
        "colab": {
          "base_uri": "https://localhost:8080/"
        },
        "id": "kspKBPPYuERs",
        "outputId": "edb508ab-a31d-4a62-ee7c-6cc49bb8cacd"
      },
      "execution_count": 14,
      "outputs": [
        {
          "output_type": "stream",
          "name": "stdout",
          "text": [
            "+-------+-----+----------+---+--------------------+\n",
            "|    cid|fname|     lname|age|               desig|\n",
            "+-------+-----+----------+---+--------------------+\n",
            "|4003142|Aaron|   Brandon| 67|Computer support ...|\n",
            "|4007349|Aaron| Carpenter| 60|Agricultural and ...|\n",
            "|4002635|Aaron|      King| 73|             Chemist|\n",
            "|4006579|Aaron|    McLamb| 70|               Coach|\n",
            "|4006352|Aaron|     Moody| 73|Computer software...|\n",
            "|4007616|Aaron|      Pugh| 68|           Economist|\n",
            "|4007485|Aaron|   Simmons| 72|           Architect|\n",
            "|4001988|Aaron|     Woods| 58|           Librarian|\n",
            "|4008470| Adam|  Atkinson| 53|Environmental sci...|\n",
            "|4001512| Adam|     Brown| 41|              Writer|\n",
            "|4007466| Adam|     Bynum| 73|               Coach|\n",
            "|4006015| Adam|      Camp| 71|           Architect|\n",
            "|4006010| Adam|     Hardy| 72|Recreation and fi...|\n",
            "|4007534| Adam|      Link| 64|Computer software...|\n",
            "|4005215| Adam|        Lu| 74|           Architect|\n",
            "|4005992| Adam|   Mathews| 50|      Police officer|\n",
            "|4004456| Adam|      Mayo| 51|       Social worker|\n",
            "|4005149| Adam|  O'Connor| 58|        Veterinarian|\n",
            "|4006941| Adam|   Rodgers| 72|         Firefighter|\n",
            "|4000272| Adam|Washington| 54| Electrical engineer|\n",
            "+-------+-----+----------+---+--------------------+\n",
            "only showing top 20 rows\n",
            "\n"
          ]
        }
      ]
    },
    {
      "cell_type": "code",
      "source": [
        "df.where(\"fname like 'S%'\").show()"
      ],
      "metadata": {
        "colab": {
          "base_uri": "https://localhost:8080/"
        },
        "id": "h2QYGzYsuKFG",
        "outputId": "350e3aa0-a8f0-4a73-efd4-dc1c62be15b5"
      },
      "execution_count": 15,
      "outputs": [
        {
          "output_type": "stream",
          "name": "stdout",
          "text": [
            "+-------+---------+-------+---+--------------------+\n",
            "|    cid|    fname|  lname|age|               desig|\n",
            "+-------+---------+-------+---+--------------------+\n",
            "|4000003|   Sherri| Melton| 34|         Firefighter|\n",
            "|4000012|    Sandy| Raynor| 26|              Writer|\n",
            "|4000030|Stephanie|Hawkins| 50|Human resources a...|\n",
            "|4000035|  Shelley|  Weeks| 25|            Reporter|\n",
            "|4000052|  Shirley|Merritt| 21|            Reporter|\n",
            "|4000058|    Scott|  Hoyle| 40|              Doctor|\n",
            "|4000077| Samantha| Hardin| 27|              Doctor|\n",
            "|4000078|     Sara|  Lucas| 44|        Loan officer|\n",
            "|4000079|    Stacy|  Eason| 31|            Musician|\n",
            "|4000087|    Steve| Graves| 73|               Nurse|\n",
            "|4000089|   Sherri| Sutton| 75|       Social worker|\n",
            "|4000092|    Stacy|  Olsen| 25|        Veterinarian|\n",
            "|4000101|    Scott| Golden| 27|             Teacher|\n",
            "|4000108|    Shawn| Boykin| 34|        Photographer|\n",
            "|4000120|     Sara|Perkins| 67|               Actor|\n",
            "|4000133| Samantha|  Floyd| 72|    Childcare worker|\n",
            "|4000140|   Sidney|   Lane| 54|        Statistician|\n",
            "|4000142|   Sandra| Heller| 51|        Photographer|\n",
            "|4000171|  Stephen|  Finch| 30|               Coach|\n",
            "|4000184|    Sarah|    Fox| 73|        Psychologist|\n",
            "+-------+---------+-------+---+--------------------+\n",
            "only showing top 20 rows\n",
            "\n"
          ]
        }
      ]
    },
    {
      "cell_type": "code",
      "source": [
        "df.where(\"desig in ('Teacher','Pilot','Lawyer')\").orderBy(\"fname\").show()"
      ],
      "metadata": {
        "colab": {
          "base_uri": "https://localhost:8080/"
        },
        "id": "NGJslga74Z0x",
        "outputId": "64855c58-3056-45ff-8574-928ca2bbba19"
      },
      "execution_count": 16,
      "outputs": [
        {
          "output_type": "stream",
          "name": "stdout",
          "text": [
            "+-------+---------+----------+---+-------+\n",
            "|    cid|    fname|     lname|age|  desig|\n",
            "+-------+---------+----------+---+-------+\n",
            "|4000423|     Alan|    O'Neal| 59|  Pilot|\n",
            "|4006775|Alexander|     Britt| 52|  Pilot|\n",
            "|4001826|Alexander|    Forbes| 71|Teacher|\n",
            "|4001345|Alexandra|    Warren| 66| Lawyer|\n",
            "|4001611|   Alfred|      Chen| 71| Lawyer|\n",
            "|4007706|   Alfred|     Reddy| 42|Teacher|\n",
            "|4000271|    Alice|     Nance| 59|  Pilot|\n",
            "|4009950|    Alice|    Norton| 38|  Pilot|\n",
            "|4005896|   Alicia|   Higgins| 65| Lawyer|\n",
            "|4001299|   Alison|    Patton| 40|Teacher|\n",
            "|4000601|    Allan|    Nguyen| 51|  Pilot|\n",
            "|4001923|      Amy|    Pappas| 42|  Pilot|\n",
            "|4007136|      Amy|      Reid| 55|Teacher|\n",
            "|4005014|   Andrea|     Combs| 65|Teacher|\n",
            "|4003332|   Andrew|McAllister| 22|Teacher|\n",
            "|4008940|   Angela|     Hwang| 71| Lawyer|\n",
            "|4004631|     Anna|    Gunter| 30|  Pilot|\n",
            "|4006073|     Anna| Whitfield| 59|  Pilot|\n",
            "|4003603|     Anna|   Pollard| 38| Lawyer|\n",
            "|4004184|     Anne|     Price| 32|  Pilot|\n",
            "+-------+---------+----------+---+-------+\n",
            "only showing top 20 rows\n",
            "\n"
          ]
        }
      ]
    },
    {
      "cell_type": "code",
      "source": [
        "df.where(\"age>50 and desig='Pilot'\").show()"
      ],
      "metadata": {
        "colab": {
          "base_uri": "https://localhost:8080/"
        },
        "id": "45PVz-Ju5NLa",
        "outputId": "ed5514e4-fd58-4e5c-b964-cf73738313dd"
      },
      "execution_count": 17,
      "outputs": [
        {
          "output_type": "stream",
          "name": "stdout",
          "text": [
            "+-------+----------+--------+---+-----+\n",
            "|    cid|     fname|   lname|age|desig|\n",
            "+-------+----------+--------+---+-----+\n",
            "|4000001|  Kristina|   Chung| 55|Pilot|\n",
            "|4000229|      Faye|  Norman| 64|Pilot|\n",
            "|4000251|    Jeremy|   House| 61|Pilot|\n",
            "|4000271|     Alice|   Nance| 59|Pilot|\n",
            "|4000336|    Steven| Ballard| 62|Pilot|\n",
            "|4000392|      Emma|   Olson| 74|Pilot|\n",
            "|4000403|       Leo|Lassiter| 65|Pilot|\n",
            "|4000423|      Alan|  O'Neal| 59|Pilot|\n",
            "|4000562|    Jordan|   Wrenn| 61|Pilot|\n",
            "|4000601|     Allan|  Nguyen| 51|Pilot|\n",
            "|4000893|      Gene|    Love| 59|Pilot|\n",
            "|4000912|     Maria|  Reilly| 64|Pilot|\n",
            "|4000958|     Danny|  Bowers| 72|Pilot|\n",
            "|4001039|   Dorothy|   Stone| 52|Pilot|\n",
            "|4001092|Jacqueline|Friedman| 55|Pilot|\n",
            "|4001250|  Nicholas| Leonard| 55|Pilot|\n",
            "|4001424|     Jesse|   Eaton| 58|Pilot|\n",
            "|4001428|   Deborah|   Britt| 64|Pilot|\n",
            "|4001489|   Gregory|Saunders| 63|Pilot|\n",
            "|4001494|     Jesse|  Peters| 56|Pilot|\n",
            "+-------+----------+--------+---+-----+\n",
            "only showing top 20 rows\n",
            "\n"
          ]
        }
      ]
    },
    {
      "cell_type": "code",
      "source": [
        "df.where(\"age between 40 and 50\").show()"
      ],
      "metadata": {
        "colab": {
          "base_uri": "https://localhost:8080/"
        },
        "id": "p9Py94cZ6_Bh",
        "outputId": "bcb75fb7-18e4-4b57-f3b8-8c9db5542376"
      },
      "execution_count": 18,
      "outputs": [
        {
          "output_type": "stream",
          "name": "stdout",
          "text": [
            "+-------+---------+---------+---+--------------------+\n",
            "|    cid|    fname|    lname|age|               desig|\n",
            "+-------+---------+---------+---+--------------------+\n",
            "|4000006|  Patrick|     Song| 42|        Veterinarian|\n",
            "|4000007|    Elsie| Hamilton| 43|               Pilot|\n",
            "|4000011|  Francis| McNamara| 47|           Therapist|\n",
            "|4000013|   Marion|     Moon| 41|           Carpenter|\n",
            "|4000015|    Julia|    Desai| 49|            Musician|\n",
            "|4000018|     Jean|  Griffin| 45|    Childcare worker|\n",
            "|4000023|   Wesley|   Teague| 42|           Carpenter|\n",
            "|4000025|   Claire|Gallagher| 42|            Musician|\n",
            "|4000028|   Dwight|   Monroe| 45|           Economist|\n",
            "|4000029|    Wayne| Connolly| 40|   Real estate agent|\n",
            "|4000030|Stephanie|  Hawkins| 50|Human resources a...|\n",
            "|4000042|Katherine|   Bender| 44|           Physicist|\n",
            "|4000045|     Lois|   Joseph| 44|            Musician|\n",
            "|4000047|Christina|   Bowden| 47|Computer software...|\n",
            "|4000058|    Scott|    Hoyle| 40|              Doctor|\n",
            "|4000059|      Pat|    Allen| 45|           Secretary|\n",
            "|4000060| Michelle|     Rich| 44|              Artist|\n",
            "|4000069|  Melanie|   Hewitt| 47|   Real estate agent|\n",
            "|4000072| Caroline|  O'Brien| 44|Computer support ...|\n",
            "|4000078|     Sara|    Lucas| 44|        Loan officer|\n",
            "+-------+---------+---------+---+--------------------+\n",
            "only showing top 20 rows\n",
            "\n"
          ]
        }
      ]
    },
    {
      "cell_type": "code",
      "source": [
        "count_emp=df.select(\"desig\").groupby(\"desig\").count().show()"
      ],
      "metadata": {
        "colab": {
          "base_uri": "https://localhost:8080/"
        },
        "id": "07Kj3MxW7fwD",
        "outputId": "c7c8e115-54ff-4756-82be-031306201fcd"
      },
      "execution_count": 19,
      "outputs": [
        {
          "output_type": "stream",
          "name": "stdout",
          "text": [
            "+--------------------+-----+\n",
            "|               desig|count|\n",
            "+--------------------+-----+\n",
            "|      Police officer|  209|\n",
            "|Human resources a...|  212|\n",
            "|Agricultural and ...|  195|\n",
            "|               Nurse|  191|\n",
            "|            Musician|  204|\n",
            "|Computer support ...|  222|\n",
            "|             Athlete|  196|\n",
            "|           Carpenter|  180|\n",
            "|              Lawyer|  201|\n",
            "|             Teacher|  189|\n",
            "|                null|   83|\n",
            "|Recreation and fi...|  210|\n",
            "|            Designer|  204|\n",
            "|               Coach|  199|\n",
            "|         Electrician|  194|\n",
            "|   Financial analyst|  198|\n",
            "|Computer hardware...|  204|\n",
            "|        Statistician|  196|\n",
            "|              Writer|   95|\n",
            "|             Chemist|  206|\n",
            "+--------------------+-----+\n",
            "only showing top 20 rows\n",
            "\n"
          ]
        }
      ]
    },
    {
      "cell_type": "code",
      "source": [
        "df_top_10=df.groupby(\"desig\").count().alias(\"count_of_emp\")"
      ],
      "metadata": {
        "id": "uyCvZIX7714_"
      },
      "execution_count": 20,
      "outputs": []
    },
    {
      "cell_type": "code",
      "source": [
        "result=df_top_10.orderBy(('count'),ascending=False)"
      ],
      "metadata": {
        "id": "Q22iBeHz9M6d"
      },
      "execution_count": 22,
      "outputs": []
    },
    {
      "cell_type": "code",
      "source": [
        "result.show()"
      ],
      "metadata": {
        "colab": {
          "base_uri": "https://localhost:8080/"
        },
        "id": "9utumj7HCAzf",
        "outputId": "86f762a1-cb02-4da4-af23-f2328142fdd1"
      },
      "execution_count": 23,
      "outputs": [
        {
          "output_type": "stream",
          "name": "stdout",
          "text": [
            "+--------------------+-----+\n",
            "|               desig|count|\n",
            "+--------------------+-----+\n",
            "|          Politician|  227|\n",
            "|Computer support ...|  222|\n",
            "|        Photographer|  222|\n",
            "|        Loan officer|  221|\n",
            "|           Librarian|  218|\n",
            "|         Firefighter|  217|\n",
            "|Computer software...|  216|\n",
            "|          Pharmacist|  213|\n",
            "|Human resources a...|  212|\n",
            "|       Social worker|  212|\n",
            "|Recreation and fi...|  210|\n",
            "|               Pilot|  209|\n",
            "|      Police officer|  209|\n",
            "|        Veterinarian|  208|\n",
            "|    Childcare worker|  207|\n",
            "|             Chemist|  206|\n",
            "|Computer hardware...|  204|\n",
            "|Engineering techn...|  204|\n",
            "|            Musician|  204|\n",
            "|            Designer|  204|\n",
            "+--------------------+-----+\n",
            "only showing top 20 rows\n",
            "\n"
          ]
        }
      ]
    },
    {
      "cell_type": "code",
      "source": [
        "#having clause we use where only in dataframes\n",
        "df.groupby(\"desig\").count().orderBy(\"count\",ascending=False).where('count > 215').show()"
      ],
      "metadata": {
        "id": "LlTVXe2zCxl1",
        "colab": {
          "base_uri": "https://localhost:8080/"
        },
        "outputId": "5d75a58f-0526-4669-8493-0d576ddcbaf2"
      },
      "execution_count": 28,
      "outputs": [
        {
          "output_type": "stream",
          "name": "stdout",
          "text": [
            "+--------------------+-----+\n",
            "|               desig|count|\n",
            "+--------------------+-----+\n",
            "|          Politician|  227|\n",
            "|        Photographer|  222|\n",
            "|Computer support ...|  222|\n",
            "|        Loan officer|  221|\n",
            "|           Librarian|  218|\n",
            "|         Firefighter|  217|\n",
            "|Computer software...|  216|\n",
            "+--------------------+-----+\n",
            "\n"
          ]
        }
      ]
    },
    {
      "cell_type": "code",
      "source": [],
      "metadata": {
        "id": "vuDsBeBMZ8pX"
      },
      "execution_count": null,
      "outputs": []
    }
  ]
}